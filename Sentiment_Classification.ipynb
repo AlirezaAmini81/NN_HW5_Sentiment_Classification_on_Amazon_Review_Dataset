{
  "cells": [
    {
      "cell_type": "markdown",
      "metadata": {
        "id": "DbXdnPZq-Ni5"
      },
      "source": [
        "## Imports"
      ]
    },
    {
      "cell_type": "code",
      "execution_count": null,
      "metadata": {
        "colab": {
          "base_uri": "https://localhost:8080/"
        },
        "id": "xrTWVUn69wZv",
        "outputId": "d97c61bf-6a09-4677-b6ec-976528b43a98"
      },
      "outputs": [
        {
          "output_type": "stream",
          "name": "stdout",
          "text": [
            "Collecting torch==1.13.0\n",
            "  Downloading torch-1.13.0-cp310-cp310-manylinux1_x86_64.whl (890.1 MB)\n",
            "\u001b[2K     \u001b[90m━━━━━━━━━━━━━━━━━━━━━━━━━━━━━━━━━━━━━━━━\u001b[0m \u001b[32m890.1/890.1 MB\u001b[0m \u001b[31m1.2 MB/s\u001b[0m eta \u001b[36m0:00:00\u001b[0m\n",
            "\u001b[?25hCollecting torchtext==0.14.0\n",
            "  Downloading torchtext-0.14.0-cp310-cp310-manylinux1_x86_64.whl (2.0 MB)\n",
            "\u001b[2K     \u001b[90m━━━━━━━━━━━━━━━━━━━━━━━━━━━━━━━━━━━━━━━━\u001b[0m \u001b[32m2.0/2.0 MB\u001b[0m \u001b[31m75.0 MB/s\u001b[0m eta \u001b[36m0:00:00\u001b[0m\n",
            "\u001b[?25hCollecting torchdata==0.5.0\n",
            "  Downloading torchdata-0.5.0-cp310-cp310-manylinux_2_17_x86_64.manylinux2014_x86_64.whl (4.5 MB)\n",
            "\u001b[2K     \u001b[90m━━━━━━━━━━━━━━━━━━━━━━━━━━━━━━━━━━━━━━━━\u001b[0m \u001b[32m4.5/4.5 MB\u001b[0m \u001b[31m92.0 MB/s\u001b[0m eta \u001b[36m0:00:00\u001b[0m\n",
            "\u001b[?25hRequirement already satisfied: typing-extensions in /usr/local/lib/python3.10/dist-packages (from torch==1.13.0) (4.12.1)\n",
            "Collecting nvidia-cuda-runtime-cu11==11.7.99 (from torch==1.13.0)\n",
            "  Downloading nvidia_cuda_runtime_cu11-11.7.99-py3-none-manylinux1_x86_64.whl (849 kB)\n",
            "\u001b[2K     \u001b[90m━━━━━━━━━━━━━━━━━━━━━━━━━━━━━━━━━━━━━━━━\u001b[0m \u001b[32m849.3/849.3 kB\u001b[0m \u001b[31m61.5 MB/s\u001b[0m eta \u001b[36m0:00:00\u001b[0m\n",
            "\u001b[?25hCollecting nvidia-cudnn-cu11==8.5.0.96 (from torch==1.13.0)\n",
            "  Downloading nvidia_cudnn_cu11-8.5.0.96-2-py3-none-manylinux1_x86_64.whl (557.1 MB)\n",
            "\u001b[2K     \u001b[90m━━━━━━━━━━━━━━━━━━━━━━━━━━━━━━━━━━━━━━━━\u001b[0m \u001b[32m557.1/557.1 MB\u001b[0m \u001b[31m2.0 MB/s\u001b[0m eta \u001b[36m0:00:00\u001b[0m\n",
            "\u001b[?25hCollecting nvidia-cublas-cu11==11.10.3.66 (from torch==1.13.0)\n",
            "  Downloading nvidia_cublas_cu11-11.10.3.66-py3-none-manylinux1_x86_64.whl (317.1 MB)\n",
            "\u001b[2K     \u001b[90m━━━━━━━━━━━━━━━━━━━━━━━━━━━━━━━━━━━━━━━━\u001b[0m \u001b[32m317.1/317.1 MB\u001b[0m \u001b[31m4.5 MB/s\u001b[0m eta \u001b[36m0:00:00\u001b[0m\n",
            "\u001b[?25hCollecting nvidia-cuda-nvrtc-cu11==11.7.99 (from torch==1.13.0)\n",
            "  Downloading nvidia_cuda_nvrtc_cu11-11.7.99-2-py3-none-manylinux1_x86_64.whl (21.0 MB)\n",
            "\u001b[2K     \u001b[90m━━━━━━━━━━━━━━━━━━━━━━━━━━━━━━━━━━━━━━━━\u001b[0m \u001b[32m21.0/21.0 MB\u001b[0m \u001b[31m72.7 MB/s\u001b[0m eta \u001b[36m0:00:00\u001b[0m\n",
            "\u001b[?25hRequirement already satisfied: tqdm in /usr/local/lib/python3.10/dist-packages (from torchtext==0.14.0) (4.66.4)\n",
            "Requirement already satisfied: requests in /usr/local/lib/python3.10/dist-packages (from torchtext==0.14.0) (2.31.0)\n",
            "Requirement already satisfied: numpy in /usr/local/lib/python3.10/dist-packages (from torchtext==0.14.0) (1.25.2)\n",
            "Requirement already satisfied: urllib3>=1.25 in /usr/local/lib/python3.10/dist-packages (from torchdata==0.5.0) (2.0.7)\n",
            "Collecting portalocker>=2.0.0 (from torchdata==0.5.0)\n",
            "  Downloading portalocker-2.8.2-py3-none-any.whl (17 kB)\n",
            "Requirement already satisfied: setuptools in /usr/local/lib/python3.10/dist-packages (from nvidia-cublas-cu11==11.10.3.66->torch==1.13.0) (67.7.2)\n",
            "Requirement already satisfied: wheel in /usr/local/lib/python3.10/dist-packages (from nvidia-cublas-cu11==11.10.3.66->torch==1.13.0) (0.43.0)\n",
            "Requirement already satisfied: charset-normalizer<4,>=2 in /usr/local/lib/python3.10/dist-packages (from requests->torchtext==0.14.0) (3.3.2)\n",
            "Requirement already satisfied: idna<4,>=2.5 in /usr/local/lib/python3.10/dist-packages (from requests->torchtext==0.14.0) (3.7)\n",
            "Requirement already satisfied: certifi>=2017.4.17 in /usr/local/lib/python3.10/dist-packages (from requests->torchtext==0.14.0) (2024.6.2)\n",
            "Installing collected packages: portalocker, nvidia-cuda-runtime-cu11, nvidia-cuda-nvrtc-cu11, nvidia-cublas-cu11, nvidia-cudnn-cu11, torch, torchtext, torchdata\n",
            "  Attempting uninstall: torch\n",
            "    Found existing installation: torch 2.3.0+cu121\n",
            "    Uninstalling torch-2.3.0+cu121:\n",
            "      Successfully uninstalled torch-2.3.0+cu121\n",
            "  Attempting uninstall: torchtext\n",
            "    Found existing installation: torchtext 0.18.0\n",
            "    Uninstalling torchtext-0.18.0:\n",
            "      Successfully uninstalled torchtext-0.18.0\n",
            "\u001b[31mERROR: pip's dependency resolver does not currently take into account all the packages that are installed. This behaviour is the source of the following dependency conflicts.\n",
            "torchaudio 2.3.0+cu121 requires torch==2.3.0, but you have torch 1.13.0 which is incompatible.\n",
            "torchvision 0.18.0+cu121 requires torch==2.3.0, but you have torch 1.13.0 which is incompatible.\u001b[0m\u001b[31m\n",
            "\u001b[0mSuccessfully installed nvidia-cublas-cu11-11.10.3.66 nvidia-cuda-nvrtc-cu11-11.7.99 nvidia-cuda-runtime-cu11-11.7.99 nvidia-cudnn-cu11-8.5.0.96 portalocker-2.8.2 torch-1.13.0 torchdata-0.5.0 torchtext-0.14.0\n"
          ]
        }
      ],
      "source": [
        "!pip install -U torch==1.13.0 torchtext==0.14.0 torchdata==0.5.0\n",
        "\n",
        "# Reload environment\n",
        "exit()"
      ]
    },
    {
      "cell_type": "code",
      "execution_count": null,
      "metadata": {
        "id": "-wke3Ph31CLw"
      },
      "outputs": [],
      "source": [
        "import pandas as pd\n",
        "import gzip\n",
        "import json\n",
        "import torch\n",
        "import torch.nn as nn\n",
        "import torch.nn.functional as F\n",
        "import torch.optim as optim\n",
        "import numpy as np\n",
        "from torch.utils.data import DataLoader\n",
        "from torch.nn.utils.rnn import pad_sequence\n",
        "import torch\n",
        "import random\n",
        "import time\n",
        "import os\n",
        "from torchtext.vocab import build_vocab_from_iterator\n",
        "from torchtext.data.utils import get_tokenizer\n",
        "from torch.utils.data import Sampler, Dataset\n",
        "from torchdata.datapipes.iter import IterableWrapper, FileOpener\n",
        "import matplotlib.pyplot as plt\n",
        "import warnings\n",
        "warnings.filterwarnings('ignore')"
      ]
    },
    {
      "cell_type": "code",
      "execution_count": null,
      "metadata": {
        "colab": {
          "base_uri": "https://localhost:8080/"
        },
        "id": "dxsMnZgHUcFl",
        "outputId": "e1c98d31-d949-43fa-f7a2-792fceccea91"
      },
      "outputs": [
        {
          "output_type": "stream",
          "name": "stdout",
          "text": [
            "Mounted at /content/drive\n"
          ]
        }
      ],
      "source": [
        "from google.colab import drive\n",
        "drive.mount('/content/drive')"
      ]
    },
    {
      "cell_type": "code",
      "execution_count": null,
      "metadata": {
        "colab": {
          "base_uri": "https://localhost:8080/"
        },
        "id": "Mmdg5u7OWDv5",
        "outputId": "42c6c90d-157b-407d-a91c-b778843c088d"
      },
      "outputs": [
        {
          "output_type": "stream",
          "name": "stdout",
          "text": [
            "/content/drive/MyDrive/Neural_Network/HW5\n"
          ]
        }
      ],
      "source": [
        "%cd '/content/drive/MyDrive/Neural_Network/HW5'"
      ]
    },
    {
      "cell_type": "markdown",
      "metadata": {
        "id": "6MIZPH-5Cjk7"
      },
      "source": [
        "## Download Dataset"
      ]
    },
    {
      "cell_type": "code",
      "execution_count": null,
      "metadata": {
        "colab": {
          "base_uri": "https://localhost:8080/"
        },
        "id": "CANPk6lezt4z",
        "outputId": "cb5ca53f-f5de-4b1e-8e4a-d84500fbdaad"
      },
      "outputs": [
        {
          "name": "stdout",
          "output_type": "stream",
          "text": [
            "--2024-06-03 11:36:14--  https://jmcauley.ucsd.edu/data/amazon_v2/categoryFilesSmall/Industrial_and_Scientific_5.json.gz\n",
            "Resolving jmcauley.ucsd.edu (jmcauley.ucsd.edu)... 137.110.160.73\n",
            "Connecting to jmcauley.ucsd.edu (jmcauley.ucsd.edu)|137.110.160.73|:443... connected.\n",
            "WARNING: cannot verify jmcauley.ucsd.edu's certificate, issued by ‘CN=InCommon RSA Server CA,OU=InCommon,O=Internet2,L=Ann Arbor,ST=MI,C=US’:\n",
            "  Unable to locally verify the issuer's authority.\n",
            "HTTP request sent, awaiting response... 200 OK\n",
            "Length: 10994038 (10M) [application/x-gzip]\n",
            "Saving to: ‘Industrial_and_Scientific_5.json.gz’\n",
            "\n",
            "Industrial_and_Scie 100%[===================>]  10.48M  6.79MB/s    in 1.5s    \n",
            "\n",
            "2024-06-03 11:36:16 (6.79 MB/s) - ‘Industrial_and_Scientific_5.json.gz’ saved [10994038/10994038]\n",
            "\n"
          ]
        }
      ],
      "source": [
        "!wget https://jmcauley.ucsd.edu/data/amazon_v2/categoryFilesSmall/Industrial_and_Scientific_5.json.gz --no-check-certificate"
      ]
    },
    {
      "cell_type": "code",
      "execution_count": null,
      "metadata": {
        "id": "EXeduEAdBB87"
      },
      "outputs": [],
      "source": [
        "def parse(path):\n",
        "  g = gzip.open(path, 'rb')\n",
        "  for l in g:\n",
        "    yield json.loads(l)"
      ]
    },
    {
      "cell_type": "code",
      "execution_count": null,
      "metadata": {
        "id": "0cWzcdCXz-Hj"
      },
      "outputs": [],
      "source": [
        "def getDF(path):\n",
        "  i = 0\n",
        "  df = {}\n",
        "  for d in parse(path):\n",
        "    df[i] = d\n",
        "    i += 1\n",
        "  return pd.DataFrame.from_dict(df, orient='index')"
      ]
    },
    {
      "cell_type": "code",
      "execution_count": null,
      "metadata": {
        "id": "IyNHoONNbCO8"
      },
      "outputs": [],
      "source": [
        "df = getDF('/content/drive/MyDrive/Neural-Network/HW5/Industrial_and_Scientific_5.json.gz')"
      ]
    },
    {
      "cell_type": "code",
      "execution_count": null,
      "metadata": {
        "id": "dz-k8DXz_Yqz"
      },
      "outputs": [],
      "source": [
        "df['overall'] = (df['overall'] - 1) * (4 / (5 - 1))\n",
        "df['overall'] = df['overall'].astype(int)\n",
        "columns_to_keep = ['reviewText', 'overall']\n",
        "df = df[columns_to_keep]"
      ]
    },
    {
      "cell_type": "code",
      "execution_count": null,
      "metadata": {
        "colab": {
          "base_uri": "https://localhost:8080/",
          "height": 206
        },
        "id": "RYLEgCjU06Mn",
        "outputId": "34261800-06c0-4b41-d362-2b1b2100143d"
      },
      "outputs": [
        {
          "data": {
            "application/vnd.google.colaboratory.intrinsic+json": {
              "summary": "{\n  \"name\": \"df\",\n  \"rows\": 77071,\n  \"fields\": [\n    {\n      \"column\": \"reviewText\",\n      \"properties\": {\n        \"dtype\": \"string\",\n        \"num_unique_values\": 58330,\n        \"samples\": [\n          \"I had some extra money and i always wanted to buy a 3d printer for my personal use and to keep at work for the occasional prototype.  I have an engineering/machining background.  I also have experience in 3D printing due to a course i had in college.  Our machines were much higher-end machines (Stratasys and OBJET) so i knew about file formats and slicing. This is my first experience however with a consumer grade machine and i am deeply enjoying a challenge.\\n\\nThe Problems:\\nWhen i first received the package, i took an inventory and i found nothing was missing.  I did find one of the support legs of the main frame had a chip out of the plexiglass.  Quick email to support@reprapguru.com and the part is on its way.  These things happen and i am more than satisfied with how it was handled.\\n\\nAnother problem i had was when i plugged in the Ramps 1.4 board, the Arduino would shut off and would send an alert to my computer that it was drawing too much power.  I double checked that my limit switches were oriented correctly (Manual makes this perfectly clear you can destroy a voltage regulator on the Arduino Mega if you have them backward.)  I located the problem on one of the switches itself.  The switch had a solder bridge on it so it was shorting two pins together.  Thankfully my board wasn't destroyed.\\n\\nFinally, i wish the printer came with tech-flex so that we can tame the medusa of wires after all the connections are made.\\n\\nThe good:\\nThis machine is infinitely adaptable and if you understand the process... quite capable of excellent print quality.  I bought it hoping it wouldn't require too much tweaking (i don't like unnecessary tweaking) but understand it is a necessary evil sometimes.  This machine has brought it to a manageable level.  If you have no desire to troubleshoot or find it hard to think critically to why a problem has arisen, maybe try another machine.  If you follow the directions though, you will be very close to what you need to get up and running.  I am very glad i purchased this machine vs. a davinci jr.\\n\\nSetup:\\nIt took me about 8 hours total from unboxing to printing.  Again i am an engineer who understands how limit switches, controllers, and stepper motors interface.  The instructions are thorough enough for a beginner, just don't be in a rush or get frustrated if you have a couple quirks to work out.  I will be buying another if i find i need more machine capacity.\\n\\nUpdate: 5/13/16\\nThis review was done of my own free will to help others make decisions on going with this seller and printer.  I did receive a roll of Black PLA after it was written from the company.\",\n          \"The spool I received was an average thickness of 1.75, a tad over and a tad under in places. Printed well at a range of temperatures but I personally used it between 200-208. Prints looked nice. The filament did cross itself several times while being unspooled which sometimes needed manual intervention. I recommend unrolling a decent section of it before any print you won't be monitoring for a while just to be safe. Will buy again.\",\n          \"Exactly as described. This item was was well packaged, shipped and received promptly, and was exactly as described. This is a good product and was good customer service.\"\n        ],\n        \"semantic_type\": \"\",\n        \"description\": \"\"\n      }\n    },\n    {\n      \"column\": \"overall\",\n      \"properties\": {\n        \"dtype\": \"number\",\n        \"std\": 0,\n        \"min\": 0,\n        \"max\": 4,\n        \"num_unique_values\": 5,\n        \"samples\": [\n          3,\n          1,\n          2\n        ],\n        \"semantic_type\": \"\",\n        \"description\": \"\"\n      }\n    }\n  ]\n}",
              "type": "dataframe",
              "variable_name": "df"
            },
            "text/html": [
              "\n",
              "  <div id=\"df-f25f420f-e2a1-478b-b330-41f1053c21e6\" class=\"colab-df-container\">\n",
              "    <div>\n",
              "<style scoped>\n",
              "    .dataframe tbody tr th:only-of-type {\n",
              "        vertical-align: middle;\n",
              "    }\n",
              "\n",
              "    .dataframe tbody tr th {\n",
              "        vertical-align: top;\n",
              "    }\n",
              "\n",
              "    .dataframe thead th {\n",
              "        text-align: right;\n",
              "    }\n",
              "</style>\n",
              "<table border=\"1\" class=\"dataframe\">\n",
              "  <thead>\n",
              "    <tr style=\"text-align: right;\">\n",
              "      <th></th>\n",
              "      <th>reviewText</th>\n",
              "      <th>overall</th>\n",
              "    </tr>\n",
              "  </thead>\n",
              "  <tbody>\n",
              "    <tr>\n",
              "      <th>0</th>\n",
              "      <td>This worked really well for what I used it for...</td>\n",
              "      <td>4</td>\n",
              "    </tr>\n",
              "    <tr>\n",
              "      <th>1</th>\n",
              "      <td>Fast cutting and good adheasive.</td>\n",
              "      <td>4</td>\n",
              "    </tr>\n",
              "    <tr>\n",
              "      <th>2</th>\n",
              "      <td>Worked great for my lapping bench.  I would li...</td>\n",
              "      <td>4</td>\n",
              "    </tr>\n",
              "    <tr>\n",
              "      <th>3</th>\n",
              "      <td>As advertised</td>\n",
              "      <td>3</td>\n",
              "    </tr>\n",
              "    <tr>\n",
              "      <th>4</th>\n",
              "      <td>seems like a pretty good value as opposed to b...</td>\n",
              "      <td>4</td>\n",
              "    </tr>\n",
              "  </tbody>\n",
              "</table>\n",
              "</div>\n",
              "    <div class=\"colab-df-buttons\">\n",
              "\n",
              "  <div class=\"colab-df-container\">\n",
              "    <button class=\"colab-df-convert\" onclick=\"convertToInteractive('df-f25f420f-e2a1-478b-b330-41f1053c21e6')\"\n",
              "            title=\"Convert this dataframe to an interactive table.\"\n",
              "            style=\"display:none;\">\n",
              "\n",
              "  <svg xmlns=\"http://www.w3.org/2000/svg\" height=\"24px\" viewBox=\"0 -960 960 960\">\n",
              "    <path d=\"M120-120v-720h720v720H120Zm60-500h600v-160H180v160Zm220 220h160v-160H400v160Zm0 220h160v-160H400v160ZM180-400h160v-160H180v160Zm440 0h160v-160H620v160ZM180-180h160v-160H180v160Zm440 0h160v-160H620v160Z\"/>\n",
              "  </svg>\n",
              "    </button>\n",
              "\n",
              "  <style>\n",
              "    .colab-df-container {\n",
              "      display:flex;\n",
              "      gap: 12px;\n",
              "    }\n",
              "\n",
              "    .colab-df-convert {\n",
              "      background-color: #E8F0FE;\n",
              "      border: none;\n",
              "      border-radius: 50%;\n",
              "      cursor: pointer;\n",
              "      display: none;\n",
              "      fill: #1967D2;\n",
              "      height: 32px;\n",
              "      padding: 0 0 0 0;\n",
              "      width: 32px;\n",
              "    }\n",
              "\n",
              "    .colab-df-convert:hover {\n",
              "      background-color: #E2EBFA;\n",
              "      box-shadow: 0px 1px 2px rgba(60, 64, 67, 0.3), 0px 1px 3px 1px rgba(60, 64, 67, 0.15);\n",
              "      fill: #174EA6;\n",
              "    }\n",
              "\n",
              "    .colab-df-buttons div {\n",
              "      margin-bottom: 4px;\n",
              "    }\n",
              "\n",
              "    [theme=dark] .colab-df-convert {\n",
              "      background-color: #3B4455;\n",
              "      fill: #D2E3FC;\n",
              "    }\n",
              "\n",
              "    [theme=dark] .colab-df-convert:hover {\n",
              "      background-color: #434B5C;\n",
              "      box-shadow: 0px 1px 3px 1px rgba(0, 0, 0, 0.15);\n",
              "      filter: drop-shadow(0px 1px 2px rgba(0, 0, 0, 0.3));\n",
              "      fill: #FFFFFF;\n",
              "    }\n",
              "  </style>\n",
              "\n",
              "    <script>\n",
              "      const buttonEl =\n",
              "        document.querySelector('#df-f25f420f-e2a1-478b-b330-41f1053c21e6 button.colab-df-convert');\n",
              "      buttonEl.style.display =\n",
              "        google.colab.kernel.accessAllowed ? 'block' : 'none';\n",
              "\n",
              "      async function convertToInteractive(key) {\n",
              "        const element = document.querySelector('#df-f25f420f-e2a1-478b-b330-41f1053c21e6');\n",
              "        const dataTable =\n",
              "          await google.colab.kernel.invokeFunction('convertToInteractive',\n",
              "                                                    [key], {});\n",
              "        if (!dataTable) return;\n",
              "\n",
              "        const docLinkHtml = 'Like what you see? Visit the ' +\n",
              "          '<a target=\"_blank\" href=https://colab.research.google.com/notebooks/data_table.ipynb>data table notebook</a>'\n",
              "          + ' to learn more about interactive tables.';\n",
              "        element.innerHTML = '';\n",
              "        dataTable['output_type'] = 'display_data';\n",
              "        await google.colab.output.renderOutput(dataTable, element);\n",
              "        const docLink = document.createElement('div');\n",
              "        docLink.innerHTML = docLinkHtml;\n",
              "        element.appendChild(docLink);\n",
              "      }\n",
              "    </script>\n",
              "  </div>\n",
              "\n",
              "\n",
              "<div id=\"df-d4a23225-0e72-4240-b487-dc1e727bd239\">\n",
              "  <button class=\"colab-df-quickchart\" onclick=\"quickchart('df-d4a23225-0e72-4240-b487-dc1e727bd239')\"\n",
              "            title=\"Suggest charts\"\n",
              "            style=\"display:none;\">\n",
              "\n",
              "<svg xmlns=\"http://www.w3.org/2000/svg\" height=\"24px\"viewBox=\"0 0 24 24\"\n",
              "     width=\"24px\">\n",
              "    <g>\n",
              "        <path d=\"M19 3H5c-1.1 0-2 .9-2 2v14c0 1.1.9 2 2 2h14c1.1 0 2-.9 2-2V5c0-1.1-.9-2-2-2zM9 17H7v-7h2v7zm4 0h-2V7h2v10zm4 0h-2v-4h2v4z\"/>\n",
              "    </g>\n",
              "</svg>\n",
              "  </button>\n",
              "\n",
              "<style>\n",
              "  .colab-df-quickchart {\n",
              "      --bg-color: #E8F0FE;\n",
              "      --fill-color: #1967D2;\n",
              "      --hover-bg-color: #E2EBFA;\n",
              "      --hover-fill-color: #174EA6;\n",
              "      --disabled-fill-color: #AAA;\n",
              "      --disabled-bg-color: #DDD;\n",
              "  }\n",
              "\n",
              "  [theme=dark] .colab-df-quickchart {\n",
              "      --bg-color: #3B4455;\n",
              "      --fill-color: #D2E3FC;\n",
              "      --hover-bg-color: #434B5C;\n",
              "      --hover-fill-color: #FFFFFF;\n",
              "      --disabled-bg-color: #3B4455;\n",
              "      --disabled-fill-color: #666;\n",
              "  }\n",
              "\n",
              "  .colab-df-quickchart {\n",
              "    background-color: var(--bg-color);\n",
              "    border: none;\n",
              "    border-radius: 50%;\n",
              "    cursor: pointer;\n",
              "    display: none;\n",
              "    fill: var(--fill-color);\n",
              "    height: 32px;\n",
              "    padding: 0;\n",
              "    width: 32px;\n",
              "  }\n",
              "\n",
              "  .colab-df-quickchart:hover {\n",
              "    background-color: var(--hover-bg-color);\n",
              "    box-shadow: 0 1px 2px rgba(60, 64, 67, 0.3), 0 1px 3px 1px rgba(60, 64, 67, 0.15);\n",
              "    fill: var(--button-hover-fill-color);\n",
              "  }\n",
              "\n",
              "  .colab-df-quickchart-complete:disabled,\n",
              "  .colab-df-quickchart-complete:disabled:hover {\n",
              "    background-color: var(--disabled-bg-color);\n",
              "    fill: var(--disabled-fill-color);\n",
              "    box-shadow: none;\n",
              "  }\n",
              "\n",
              "  .colab-df-spinner {\n",
              "    border: 2px solid var(--fill-color);\n",
              "    border-color: transparent;\n",
              "    border-bottom-color: var(--fill-color);\n",
              "    animation:\n",
              "      spin 1s steps(1) infinite;\n",
              "  }\n",
              "\n",
              "  @keyframes spin {\n",
              "    0% {\n",
              "      border-color: transparent;\n",
              "      border-bottom-color: var(--fill-color);\n",
              "      border-left-color: var(--fill-color);\n",
              "    }\n",
              "    20% {\n",
              "      border-color: transparent;\n",
              "      border-left-color: var(--fill-color);\n",
              "      border-top-color: var(--fill-color);\n",
              "    }\n",
              "    30% {\n",
              "      border-color: transparent;\n",
              "      border-left-color: var(--fill-color);\n",
              "      border-top-color: var(--fill-color);\n",
              "      border-right-color: var(--fill-color);\n",
              "    }\n",
              "    40% {\n",
              "      border-color: transparent;\n",
              "      border-right-color: var(--fill-color);\n",
              "      border-top-color: var(--fill-color);\n",
              "    }\n",
              "    60% {\n",
              "      border-color: transparent;\n",
              "      border-right-color: var(--fill-color);\n",
              "    }\n",
              "    80% {\n",
              "      border-color: transparent;\n",
              "      border-right-color: var(--fill-color);\n",
              "      border-bottom-color: var(--fill-color);\n",
              "    }\n",
              "    90% {\n",
              "      border-color: transparent;\n",
              "      border-bottom-color: var(--fill-color);\n",
              "    }\n",
              "  }\n",
              "</style>\n",
              "\n",
              "  <script>\n",
              "    async function quickchart(key) {\n",
              "      const quickchartButtonEl =\n",
              "        document.querySelector('#' + key + ' button');\n",
              "      quickchartButtonEl.disabled = true;  // To prevent multiple clicks.\n",
              "      quickchartButtonEl.classList.add('colab-df-spinner');\n",
              "      try {\n",
              "        const charts = await google.colab.kernel.invokeFunction(\n",
              "            'suggestCharts', [key], {});\n",
              "      } catch (error) {\n",
              "        console.error('Error during call to suggestCharts:', error);\n",
              "      }\n",
              "      quickchartButtonEl.classList.remove('colab-df-spinner');\n",
              "      quickchartButtonEl.classList.add('colab-df-quickchart-complete');\n",
              "    }\n",
              "    (() => {\n",
              "      let quickchartButtonEl =\n",
              "        document.querySelector('#df-d4a23225-0e72-4240-b487-dc1e727bd239 button');\n",
              "      quickchartButtonEl.style.display =\n",
              "        google.colab.kernel.accessAllowed ? 'block' : 'none';\n",
              "    })();\n",
              "  </script>\n",
              "</div>\n",
              "    </div>\n",
              "  </div>\n"
            ],
            "text/plain": [
              "                                          reviewText  overall\n",
              "0  This worked really well for what I used it for...        4\n",
              "1                   Fast cutting and good adheasive.        4\n",
              "2  Worked great for my lapping bench.  I would li...        4\n",
              "3                                      As advertised        3\n",
              "4  seems like a pretty good value as opposed to b...        4"
            ]
          },
          "execution_count": 11,
          "metadata": {},
          "output_type": "execute_result"
        }
      ],
      "source": [
        "df.head()"
      ]
    },
    {
      "cell_type": "code",
      "execution_count": null,
      "metadata": {
        "id": "P2B-Dh369c52"
      },
      "outputs": [],
      "source": [
        "df.to_csv('Industrial_and_Scientific_5.csv')"
      ]
    },
    {
      "cell_type": "markdown",
      "metadata": {
        "id": "GOXr9mOPYkdF"
      },
      "source": [
        "# General Settings"
      ]
    },
    {
      "cell_type": "code",
      "execution_count": null,
      "metadata": {
        "id": "JaLoCIxSYjlr"
      },
      "outputs": [],
      "source": [
        "RANDOM_SEED = 123\n",
        "torch.manual_seed(RANDOM_SEED)\n",
        "\n",
        "VOCABULARY_SIZE = 40000\n",
        "LEARNING_RATE = 0.005\n",
        "BATCH_SIZE = 64\n",
        "NUM_EPOCHS = 15\n",
        "DEVICE = torch.device('cuda:0' if torch.cuda.is_available() else 'cpu')\n",
        "\n",
        "EMBEDDING_DIM = 128\n",
        "HIDDEN_DIM = 256\n",
        "NUM_CLASSES = 5"
      ]
    },
    {
      "cell_type": "markdown",
      "metadata": {
        "id": "xtjhqZz_JMCW"
      },
      "source": [
        "# Dataset"
      ]
    },
    {
      "cell_type": "code",
      "execution_count": null,
      "metadata": {
        "id": "R06TM4wz9H-S"
      },
      "outputs": [],
      "source": [
        "datapipe = IterableWrapper([\"Industrial_and_Scientific_5.csv\"])\n",
        "datapipe = FileOpener(datapipe, mode='b')\n",
        "datapipe = datapipe.parse_csv(skip_lines=1)"
      ]
    },
    {
      "cell_type": "code",
      "execution_count": null,
      "metadata": {
        "colab": {
          "base_uri": "https://localhost:8080/"
        },
        "id": "FLVV_D19JRYC",
        "outputId": "3461dcab-cfec-4c88-d957-1ed8b205c90b"
      },
      "outputs": [
        {
          "output_type": "stream",
          "name": "stdout",
          "text": [
            "['0', \"This worked really well for what I used it for. So for my purposes it is getting full marks. This is an all around great, durable, and afforable sandpaper.\\n\\nPros:\\n-Grit cuts really fast and evenly. No random deep scratches like I have seen in some cheaper paper\\n-Didn't even have a hint of clogging up.\\n-The adhesive is just what I needed. No permanent, but wasn't going anywhere.\\n\\nCons:\\n-None\", '4']\n"
          ]
        }
      ],
      "source": [
        "print(list(datapipe)[0])"
      ]
    },
    {
      "cell_type": "markdown",
      "metadata": {
        "id": "JoMAHGp_JcYg"
      },
      "source": [
        "# Split Dataset into Train/Validation/Test"
      ]
    },
    {
      "cell_type": "code",
      "execution_count": null,
      "metadata": {
        "colab": {
          "base_uri": "https://localhost:8080/"
        },
        "id": "4N853bYt1fTS",
        "outputId": "40a358f8-a057-47ec-f089-42fa35f99915"
      },
      "outputs": [
        {
          "output_type": "stream",
          "name": "stdout",
          "text": [
            "77071\n",
            "Num Train: 61657\n",
            "Num Validate: 7707\n",
            "Num Test: 7707\n"
          ]
        }
      ],
      "source": [
        "# Get the number of rows in dataset\n",
        "N_ROWS = len(list(datapipe))\n",
        "print(N_ROWS)\n",
        "\n",
        "# Split into training and val datapipes early on. Will build vocabulary from training datapipe only.\n",
        "train_dp, valid_dp, test_dp = datapipe.random_split(total_length=N_ROWS, weights={\"train\": 0.8, \"valid\": 0.1, \"test\": 0.1}, seed=0)\n",
        "print(f'Num Train: {len(list(train_dp))}')\n",
        "print(f'Num Validate: {len(list(valid_dp))}')\n",
        "print(f'Num Test: {len(list(test_dp))}')"
      ]
    },
    {
      "cell_type": "markdown",
      "metadata": {
        "id": "RQkdc64_YJYY"
      },
      "source": [
        "# Build the Vocabulary"
      ]
    },
    {
      "cell_type": "markdown",
      "metadata": {
        "id": "MsvVA5YSYKKY"
      },
      "source": [
        "Build the vocabulary based on the top `VOCABULARY_SIZE` words. **build_vocab_from_iterator()** collects the most frequent tokens from the iterator **yield_tokens(train_datapipe)**, and adds special tokens at the begginning w/o changing the order of supplied tokens."
      ]
    },
    {
      "cell_type": "code",
      "execution_count": null,
      "metadata": {
        "id": "XWiLSfUCYNTP"
      },
      "outputs": [],
      "source": [
        "# Based on tutorial at https://www.youtube.com/watch?v=CrS-LFXEiyk\n",
        "tokenizer = get_tokenizer(tokenizer='spacy', language='en_core_web_sm')\n",
        "\n",
        "def yield_tokens(data_iter):\n",
        "    for _, text , _ in data_iter:\n",
        "        yield tokenizer(text)\n",
        "\n",
        "def get_vocab(train_datapipe):\n",
        "    vocab = build_vocab_from_iterator(yield_tokens(train_datapipe), specials=[\"<UNK>\", \"<PAD>\"], max_tokens=VOCABULARY_SIZE)\n",
        "    vocab.set_default_index(vocab[\"<UNK>\"])\n",
        "    return vocab"
      ]
    },
    {
      "cell_type": "code",
      "execution_count": null,
      "metadata": {
        "id": "letF80r0dxfb"
      },
      "outputs": [],
      "source": [
        "vocab = get_vocab(train_dp)"
      ]
    },
    {
      "cell_type": "code",
      "execution_count": null,
      "metadata": {
        "colab": {
          "base_uri": "https://localhost:8080/"
        },
        "id": "qC2WMLb2J-nU",
        "outputId": "ed8b1e0e-2edd-4e23-f64e-bf8472516104"
      },
      "outputs": [
        {
          "output_type": "stream",
          "name": "stdout",
          "text": [
            "Vocabulary size:  40000\n",
            "['<UNK>', '<PAD>', '.', 'the', ',', 'I', 'to', 'and', 'a', 'it']\n"
          ]
        }
      ],
      "source": [
        "print(\"Vocabulary size: \", len(vocab))\n",
        "# Tokens corresponding to the first 10 indices (0, 1, ..., 9):\n",
        "print(vocab.get_itos()[:10]) # itos = integer-to-string"
      ]
    },
    {
      "cell_type": "markdown",
      "metadata": {
        "id": "ACPYxMekfamI"
      },
      "source": [
        "PyTorch RNNs can deal with arbitrary lengths due to dynamic graphs, but padding is necessary for padding sequences to the same length in a given minibatch so we can store those in an array."
      ]
    },
    {
      "cell_type": "markdown",
      "metadata": {
        "id": "OzqKbnQmfco4"
      },
      "source": [
        "**Converting a string to an integer:**"
      ]
    },
    {
      "cell_type": "code",
      "execution_count": null,
      "metadata": {
        "colab": {
          "base_uri": "https://localhost:8080/"
        },
        "id": "n6OHUIh9fTsu",
        "outputId": "0256d514-fed1-459d-e692-eb2db41921ad"
      },
      "outputs": [
        {
          "output_type": "stream",
          "name": "stdout",
          "text": [
            "the: 3\n",
            "the: 3\n",
            "<PAD>: 1\n"
          ]
        }
      ],
      "source": [
        "# A direct way\n",
        "print(f\"the: {vocab['the']}\")\n",
        "\n",
        "# And an indirect way, using get_stoi() to get a dictionary of tokens and values\n",
        "print(f\"the: {vocab.get_stoi()['the']}\") # stoi = string-to-integer\n",
        "\n",
        "# What is the padding value?\n",
        "print(f\"<PAD>: {vocab['<PAD>']}\")\n",
        "PADDING_VALUE=vocab['<PAD>']"
      ]
    },
    {
      "cell_type": "code",
      "execution_count": null,
      "metadata": {
        "colab": {
          "base_uri": "https://localhost:8080/"
        },
        "id": "b9yZqqM0fsBj",
        "outputId": "0b16eabc-ba49-4360-d48c-86e461feb9cf"
      },
      "outputs": [
        {
          "output_type": "stream",
          "name": "stdout",
          "text": [
            "input to the text_transform: here is an example\n",
            "output of the text_transform: [347, 11, 71, 1144]\n"
          ]
        }
      ],
      "source": [
        "text_transform = lambda x: [vocab[token] for token in tokenizer(x)]\n",
        "label_transform = lambda x: int(x)\n",
        "\n",
        "# Print out the output of text_transform\n",
        "print(\"input to the text_transform:\", \"here is an example\")\n",
        "print(\"output of the text_transform:\", text_transform(\"here is an example\"))"
      ]
    },
    {
      "cell_type": "code",
      "execution_count": null,
      "metadata": {
        "colab": {
          "base_uri": "https://localhost:8080/"
        },
        "id": "rgc3ZWjwggP1",
        "outputId": "892d0575-4e93-40da-aaed-93b40e40042f"
      },
      "outputs": [
        {
          "output_type": "execute_result",
          "data": {
            "text/plain": [
              "array(['<PAD>', '.', 'the', ',', 'I'], dtype='<U5')"
            ]
          },
          "metadata": {},
          "execution_count": 13
        }
      ],
      "source": [
        "vocab_itos = vocab.get_itos()\n",
        "vec_vocab_itos = np.vectorize(lambda x: vocab_itos[x])\n",
        "vec_vocab_itos([1, 2, 3, 4, 5])"
      ]
    },
    {
      "cell_type": "markdown",
      "metadata": {
        "id": "hwsDzVliguAl"
      },
      "source": [
        "# Define Data Loaders"
      ]
    },
    {
      "cell_type": "code",
      "execution_count": null,
      "metadata": {
        "id": "qJ47XWFmgnC6"
      },
      "outputs": [],
      "source": [
        "def collate_batch(batch):\n",
        "   text_list, label_list = [], []\n",
        "   for (_, _text, _label) in batch:\n",
        "        processed_text = torch.tensor(text_transform(_text))\n",
        "        text_list.append(processed_text)\n",
        "        label_list.append(label_transform(_label))\n",
        "   return pad_sequence(text_list, padding_value=PADDING_VALUE).to(DEVICE), torch.tensor(label_list).to(DEVICE)"
      ]
    },
    {
      "cell_type": "code",
      "execution_count": null,
      "metadata": {
        "id": "NU1UtJ43g2pu"
      },
      "outputs": [],
      "source": [
        "# Create our own sampler, to ensure we function with multiple worker threads\n",
        "class BatchSamplerSimilarLength(Sampler):\n",
        "    def __init__(self, dataset, batch_size, indices=None, shuffle=True):\n",
        "        self.batch_size = batch_size\n",
        "        self.shuffle = shuffle\n",
        "        # get the indices and length\n",
        "        self.indices = [(i, len(tokenizer(s[0]))) for i, s in enumerate(dataset)]\n",
        "        # if indices are passed, then use only the ones passed (for ddp)\n",
        "        if indices is not None:\n",
        "            self.indices = torch.tensor(self.indices)[indices].tolist()\n",
        "\n",
        "    def __iter__(self):\n",
        "        if self.shuffle:\n",
        "            random.shuffle(self.indices)\n",
        "\n",
        "        pooled_indices = []\n",
        "        # create pool of indices with similar lengths\n",
        "        for i in range(0, len(self.indices), self.batch_size * 100):\n",
        "          pooled_indices.extend(sorted(self.indices[i:i + self.batch_size * 100], key=lambda x: x[1]))\n",
        "        self.pooled_indices = [x[0] for x in pooled_indices]\n",
        "\n",
        "        # Comment in for validation\n",
        "        #self.pooled_lengths = [x[1] for x in pooled_indices]\n",
        "        #print(self.pooled_lengths)\n",
        "        #print(self.pooled_indices)\n",
        "\n",
        "        # yield indices for current batch\n",
        "        batches = [self.pooled_indices[i:i + self.batch_size] for i in\n",
        "                   range(0, len(self.pooled_indices), self.batch_size)]\n",
        "\n",
        "        if self.shuffle:\n",
        "            random.shuffle(batches)\n",
        "        for batch in batches:\n",
        "            yield batch\n",
        "\n",
        "    def __len__(self):\n",
        "        return len(self.pooled_indices) // self.batch_size"
      ]
    },
    {
      "cell_type": "code",
      "execution_count": null,
      "metadata": {
        "id": "mkiSb5OGhEo0"
      },
      "outputs": [],
      "source": [
        "train_dp_list = list(train_dp)\n",
        "valid_dp_list = list(valid_dp)\n",
        "test_dp_list = list(test_dp)\n",
        "\n",
        "train_loader = DataLoader(train_dp_list,\n",
        "                          batch_sampler=BatchSamplerSimilarLength(dataset = train_dp_list,\n",
        "                                                                  batch_size=BATCH_SIZE),\n",
        "                          collate_fn=collate_batch)\n",
        "valid_loader = DataLoader(valid_dp_list,\n",
        "                          batch_sampler=BatchSamplerSimilarLength(dataset = valid_dp_list,\n",
        "                                                                  batch_size=BATCH_SIZE,\n",
        "                                                                  shuffle=False),\n",
        "                          collate_fn=collate_batch)\n",
        "test_loader = DataLoader(test_dp_list,\n",
        "                          batch_sampler=BatchSamplerSimilarLength(dataset = test_dp_list,\n",
        "                                                                  batch_size=BATCH_SIZE,\n",
        "                                                                  shuffle=False),\n",
        "                          collate_fn=collate_batch)"
      ]
    },
    {
      "cell_type": "code",
      "execution_count": null,
      "metadata": {
        "colab": {
          "base_uri": "https://localhost:8080/"
        },
        "id": "KDjjbExBkjN9",
        "outputId": "8f7f56f3-a6bd-4175-ded5-41f29daa6f03"
      },
      "outputs": [
        {
          "output_type": "stream",
          "name": "stdout",
          "text": [
            "torch.Size([250, 64])\n",
            "torch.Size([64])\n"
          ]
        }
      ],
      "source": [
        "text_batch, label_batch = next(iter(train_loader))\n",
        "print(text_batch.size())\n",
        "print(label_batch.size())"
      ]
    },
    {
      "cell_type": "markdown",
      "metadata": {
        "id": "S_OfuepVjEOz"
      },
      "source": [
        "Testing the iterators (note that the number of rows depends on the longest document in the respective batch):"
      ]
    },
    {
      "cell_type": "code",
      "execution_count": null,
      "metadata": {
        "colab": {
          "base_uri": "https://localhost:8080/"
        },
        "id": "qceUmFObi93Q",
        "outputId": "89bf324a-6367-471e-ab8b-80a29014813f"
      },
      "outputs": [
        {
          "output_type": "stream",
          "name": "stdout",
          "text": [
            "Train\n",
            "Text matrix size: torch.Size([551, 64])\n",
            "Target vector size: torch.Size([64])\n",
            "\n",
            "Valid:\n",
            "Text matrix size: torch.Size([211, 64])\n",
            "Target vector size: torch.Size([64])\n",
            "\n",
            "Test:\n",
            "Text matrix size: torch.Size([259, 64])\n",
            "Target vector size: torch.Size([64])\n"
          ]
        }
      ],
      "source": [
        "print('Train')\n",
        "for text_batch, label_batch in train_loader:\n",
        "    print(f'Text matrix size: {text_batch.size()}')\n",
        "    print(f'Target vector size: {label_batch.size()}')\n",
        "    break\n",
        "\n",
        "print('\\nValid:')\n",
        "for text_batch, label_batch in valid_loader:\n",
        "    print(f'Text matrix size: {text_batch.size()}')\n",
        "    print(f'Target vector size: {label_batch.size()}')\n",
        "    break\n",
        "\n",
        "print('\\nTest:')\n",
        "for text_batch, label_batch in test_loader:\n",
        "    print(f'Text matrix size: {text_batch.size()}')\n",
        "    print(f'Target vector size: {label_batch.size()}')\n",
        "    break"
      ]
    },
    {
      "cell_type": "code",
      "execution_count": null,
      "metadata": {
        "colab": {
          "base_uri": "https://localhost:8080/"
        },
        "id": "mX5WaYr3jHZp",
        "outputId": "8f1a9fbd-2d86-46e8-8234-a70a411f59ce"
      },
      "outputs": [
        {
          "name": "stdout",
          "output_type": "stream",
          "text": [
            "tensor([[2749,  509,   28,  ...,  228,   91,   36],\n",
            "        [ 232,   40, 2466,  ...,  218,  465,   57],\n",
            "        [  16,   17,    1,  ...,    2, 1336,    6],\n",
            "        ...,\n",
            "        [   1,    1,    1,  ...,    1,    1,    1],\n",
            "        [   1,    1,    1,  ...,    1,    1,    1],\n",
            "        [   1,    1,    1,  ...,    1,    1,    1]], device='cuda:0')\n"
          ]
        }
      ],
      "source": [
        "print(text_batch)"
      ]
    },
    {
      "cell_type": "code",
      "execution_count": null,
      "metadata": {
        "colab": {
          "base_uri": "https://localhost:8080/"
        },
        "id": "w3dv6-j-jRN-",
        "outputId": "698303cc-66b0-4fc9-ed6d-aef51c4a193d"
      },
      "outputs": [
        {
          "name": "stdout",
          "output_type": "stream",
          "text": [
            "[['Absolutely' 'Worked' 'The' ... 'As' 'Great' 'good']\n",
            " ['love' 'well' 'alternative' ... 'expected' 'shop' 'just']\n",
            " ['this' 'with' '<PAD>' ... '.' 'towels' 'to']\n",
            " ...\n",
            " ['<PAD>' '<PAD>' '<PAD>' ... '<PAD>' '<PAD>' '<PAD>']\n",
            " ['<PAD>' '<PAD>' '<PAD>' ... '<PAD>' '<PAD>' '<PAD>']\n",
            " ['<PAD>' '<PAD>' '<PAD>' ... '<PAD>' '<PAD>' '<PAD>']]\n"
          ]
        }
      ],
      "source": [
        "print(vec_vocab_itos(text_batch.to(\"cpu\")))"
      ]
    },
    {
      "cell_type": "code",
      "execution_count": null,
      "metadata": {
        "colab": {
          "base_uri": "https://localhost:8080/"
        },
        "id": "7RQuurOQjY36",
        "outputId": "c8026980-ace9-405b-d13e-8979babfdbed"
      },
      "outputs": [
        {
          "name": "stdout",
          "output_type": "stream",
          "text": [
            "tensor([4, 4, 3, 4, 4, 4, 4, 4, 3, 4, 4, 4, 4, 2, 4, 4, 4, 4, 4, 4, 4, 3, 4, 4,\n",
            "        4, 4, 4, 3, 4, 2, 4, 3, 4, 4, 4, 4, 4, 3, 4, 3, 4, 4, 4, 4, 3, 2, 0, 3,\n",
            "        3, 3, 3, 3, 4, 3, 4, 2, 3, 4, 4, 3, 4, 3, 2, 3])\n"
          ]
        }
      ],
      "source": [
        "print(label_batch)"
      ]
    },
    {
      "cell_type": "markdown",
      "metadata": {
        "id": "iFDuWWSvnvIt"
      },
      "source": [
        "**The next batch will have different text column size.**\n",
        "\n",
        "The column size is determined by the max length of reviews in a batch. Each batch has a different text column size."
      ]
    },
    {
      "cell_type": "code",
      "execution_count": null,
      "metadata": {
        "colab": {
          "base_uri": "https://localhost:8080/"
        },
        "id": "Se1ef1kRnfvz",
        "outputId": "825e2a9f-e5de-4f31-b96b-c977f48df906"
      },
      "outputs": [
        {
          "output_type": "stream",
          "name": "stdout",
          "text": [
            "Text matrix size: torch.Size([542, 64])\n",
            "Target vector size: torch.Size([64])\n",
            "Text matrix size: torch.Size([502, 64])\n",
            "Target vector size: torch.Size([64])\n"
          ]
        }
      ],
      "source": [
        "text_batch, label_batch = next(iter(train_loader))\n",
        "print(f'Text matrix size: {text_batch.size()}')\n",
        "print(f'Target vector size: {label_batch.size()}')\n",
        "\n",
        "text_batch, label_batch = next(iter(train_loader))\n",
        "print(f'Text matrix size: {text_batch.size()}')\n",
        "print(f'Target vector size: {label_batch.size()}')"
      ]
    },
    {
      "cell_type": "markdown",
      "metadata": {
        "id": "DEtoWE-en-J3"
      },
      "source": [
        "# Utility Functions"
      ]
    },
    {
      "cell_type": "markdown",
      "metadata": {
        "id": "R156hZnZoA3E"
      },
      "source": [
        "**Compute model accuracy on a dataloader**\n",
        "\n",
        "Pass the train, valid or test dataloader"
      ]
    },
    {
      "cell_type": "code",
      "execution_count": null,
      "metadata": {
        "id": "gD-zcZN7n0ht"
      },
      "outputs": [],
      "source": [
        "def compute_accuracy(model, data_loader, device):\n",
        "\n",
        "    with torch.no_grad():\n",
        "\n",
        "        correct_pred, num_examples = 0, 0\n",
        "\n",
        "        for i, (features, targets) in enumerate(data_loader):\n",
        "\n",
        "            features = features.to(device)\n",
        "            targets = targets.float().to(device)\n",
        "\n",
        "            logits = model(features)\n",
        "            _, predicted_labels = torch.max(logits, 1)\n",
        "\n",
        "            num_examples += targets.size(0)\n",
        "            correct_pred += (predicted_labels == targets).sum().to(\"cpu\")\n",
        "\n",
        "    return float(correct_pred)/num_examples * 100"
      ]
    },
    {
      "cell_type": "markdown",
      "metadata": {
        "id": "Oc1evffHoY2e"
      },
      "source": [
        "**Train a model**\n"
      ]
    },
    {
      "cell_type": "code",
      "execution_count": null,
      "metadata": {
        "id": "qj5QnHhaoTPT"
      },
      "outputs": [],
      "source": [
        "def train_model(model, num_epochs, train_loader,\n",
        "                valid_loader, test_loader, optimizer,\n",
        "                device, logging_interval=50,\n",
        "                scheduler=None,\n",
        "                scheduler_on='valid_acc',\n",
        "                save_model=False, model_save_dir='./saved_models'):\n",
        "\n",
        "    if save_model:\n",
        "        if not os.path.exists(model_save_dir):\n",
        "            os.makedirs(model_save_dir)\n",
        "\n",
        "    tr_num_batches = len(train_loader)\n",
        "    tr_num_samples = len(train_loader.dataset)\n",
        "    val_num_batches = len(valid_loader)\n",
        "    acc_history = {'train': [], 'valid': []}\n",
        "    loss_history = {'train': [], 'valid': []}\n",
        "    start_time = time.time()\n",
        "    best_accuracy = 0.0\n",
        "\n",
        "    for epoch in range(num_epochs):\n",
        "\n",
        "        # Train\n",
        "        model.train()\n",
        "        correct = 0\n",
        "        total_loss = 0.0\n",
        "\n",
        "\n",
        "        for batch_idx, (inputs, targets) in enumerate(train_loader):\n",
        "              inputs, targets = inputs.to(device), targets.to(device)\n",
        "              logits = model(inputs)\n",
        "              loss = torch.nn.functional.cross_entropy(logits, targets)\n",
        "              loss.backward()\n",
        "              optimizer.step()\n",
        "              optimizer.zero_grad()\n",
        "              _, predictions = torch.max(logits, dim=1)\n",
        "              correct += torch.sum(predictions == targets).item()\n",
        "              total_loss += loss.item()\n",
        "\n",
        "              if not batch_idx % logging_interval:\n",
        "                print(f'Epoch: {epoch+1:03d}/{num_epochs:03d} '\n",
        "                      f'| Batch {batch_idx:04d}/{len(train_loader):04d} '\n",
        "                      f'| Loss: {loss:.4f}')\n",
        "\n",
        "        tr_epoch_accuracy = (correct / tr_num_samples) * 100\n",
        "        tr_epoch_loss = total_loss / tr_num_batches\n",
        "        acc_history['train'].append(tr_epoch_accuracy)\n",
        "        loss_history['train'].append(tr_epoch_loss)\n",
        "\n",
        "        # Validation\n",
        "        model.eval()\n",
        "        total = 0\n",
        "        correct = 0\n",
        "        total_loss = 0.0\n",
        "        y_true = []\n",
        "        y_pred = []\n",
        "        with torch.no_grad():  # save memory during inference\n",
        "            for data, target in valid_loader:\n",
        "              data = data.to(device)\n",
        "              target = target.to(device)\n",
        "              output = model(data)\n",
        "              _, predicted = torch.max(output.data, 1)\n",
        "              total += target.size(0)\n",
        "              correct += (predicted == target).sum().item()\n",
        "              total_loss += loss.item()\n",
        "              y_true.extend(target.tolist())\n",
        "              y_pred.extend(predicted.tolist())\n",
        "\n",
        "            val_epoch_accuracy =  (correct / total) * 100\n",
        "            val_epoch_loss = total_loss / val_num_batches\n",
        "            acc_history['valid'].append(val_epoch_accuracy)\n",
        "            loss_history['valid'].append(val_epoch_loss)\n",
        "            print(f'Epoch: {epoch+1:03d}/{num_epochs:03d} '\n",
        "                  f'| Train: {tr_epoch_accuracy :.2f}% '\n",
        "                  f'| Validation: {val_epoch_accuracy :.2f}%')\n",
        "\n",
        "        elapsed = (time.time() - start_time)/60\n",
        "        print(f'Time elapsed: {elapsed:.2f} min')\n",
        "\n",
        "        if save_model:\n",
        "          if val_epoch_accuracy >= best_accuracy:\n",
        "            best_accuracy = val_epoch_accuracy\n",
        "            model_checkpoint = {\n",
        "                'epoch': epoch,\n",
        "                'model_state_dict': model.state_dict(),\n",
        "                'optimizer_state_dict': optimizer.state_dict(),\n",
        "                'accuracy': val_epoch_accuracy,\n",
        "                'loss': val_epoch_loss\n",
        "            }\n",
        "            model_save_path = os.path.join(model_save_dir, f'model_best_accuracy.pt')\n",
        "            torch.save(model_checkpoint, model_save_path)\n",
        "\n",
        "    elapsed = (time.time() - start_time)/60\n",
        "    print(f'Total Training Time: {elapsed:.2f} min')\n",
        "\n",
        "    # Test\n",
        "    test_acc = compute_accuracy(model, test_loader, device=device)\n",
        "    print(f'Test accuracy {test_acc :.2f}%')\n",
        "\n",
        "    return acc_history, loss_history"
      ]
    },
    {
      "cell_type": "markdown",
      "metadata": {
        "id": "Ybu6z2o0ojzo"
      },
      "source": [
        "**Plot Training Loss and Accuracy**"
      ]
    },
    {
      "cell_type": "code",
      "execution_count": null,
      "metadata": {
        "id": "WbLugn1BOoN3"
      },
      "outputs": [],
      "source": [
        "def info_to_plot(result, epoch):\n",
        "    train_accs = result[0]['train']\n",
        "    train_total_losses = result[1]['train']\n",
        "\n",
        "    valid_accs = result[0]['valid']\n",
        "    valid_total_losses = result[1]['valid']\n",
        "\n",
        "    train_accs = np.array([item.item() if hasattr(item, 'item') else item for item in train_accs])\n",
        "    train_total_losses = np.array([item.item() if hasattr(item, 'item') else item for item in train_total_losses])\n",
        "\n",
        "    valid_accs = np.array([item.item() if hasattr(item, 'item') else item for item in valid_accs])\n",
        "    valid_total_losses = np.array([item.item() if hasattr(item, 'item') else item for item in valid_total_losses])\n",
        "\n",
        "    plotter(train_accs, train_total_losses, valid_accs, valid_total_losses, epoch)"
      ]
    },
    {
      "cell_type": "code",
      "execution_count": null,
      "metadata": {
        "id": "-qbpv_VEOpdB"
      },
      "outputs": [],
      "source": [
        "def plotter(train_accs, train_total_losses, valid_accs, valid_total_losses, epoch):\n",
        "    fig, axs = plt.subplots(1, 2, figsize=(10, 5))\n",
        "    ranges = [i for i in range(1 , epoch+2)]\n",
        "\n",
        "    axs[0].plot(ranges, train_accs, color='red', label='Train')\n",
        "    axs[0].plot(ranges, valid_accs, color='green', label='Test')\n",
        "    axs[0].set_title('Accuracy')\n",
        "    axs[0].set_xlabel('Epoch')\n",
        "    axs[0].set_ylabel('Accuracy')\n",
        "    axs[0].legend()\n",
        "    max_acc_index = np.argmax(valid_accs)\n",
        "    axs[0].text(max_acc_index+1, valid_accs[max_acc_index], f'Max Acc: {valid_accs[max_acc_index]:.2f}',\n",
        "                fontsize=8, ha='left', va='bottom')\n",
        "\n",
        "    axs[1].plot(ranges, train_total_losses, color='red', label='Train')\n",
        "    axs[1].plot(ranges, valid_total_losses, color='green', label='Test')\n",
        "    axs[1].set_title('Total Loss')\n",
        "    axs[1].set_xlabel('Epoch')\n",
        "    axs[1].set_ylabel('Total Loss')\n",
        "    axs[1].legend()\n",
        "    min_loss_index = np.argmin(valid_total_losses)\n",
        "    axs[1].text(min_loss_index+1, valid_total_losses[min_loss_index], f'Min Loss: {valid_total_losses[min_loss_index]:.2f}',\n",
        "                fontsize=8, ha='left', va='bottom')\n",
        "\n",
        "    plt.tight_layout()\n",
        "    plt.savefig('accuracy_and_loss_plot.png', dpi=100)"
      ]
    },
    {
      "cell_type": "markdown",
      "metadata": {
        "id": "2G8etxSpo3f0"
      },
      "source": [
        "# Models"
      ]
    },
    {
      "cell_type": "markdown",
      "metadata": {
        "id": "h-dAbIe-MrPc"
      },
      "source": [
        "### LSTM"
      ]
    },
    {
      "cell_type": "code",
      "execution_count": null,
      "metadata": {
        "id": "k64wNWDro8jE"
      },
      "outputs": [],
      "source": [
        "class LSTM(torch.nn.Module):\n",
        "\n",
        "    def __init__(self, input_dim, embedding_dim, hidden_dim, output_dim, num_layers=1):\n",
        "        super().__init__()\n",
        "\n",
        "        self.embedding = torch.nn.Embedding(input_dim, embedding_dim)\n",
        "\n",
        "        self.rnn = torch.nn.LSTM(input_size=embedding_dim,\n",
        "                                 hidden_size=hidden_dim,\n",
        "                                 num_layers=num_layers\n",
        "                                 )\n",
        "\n",
        "        self.fc = torch.nn.Linear(hidden_dim, output_dim)\n",
        "\n",
        "\n",
        "    def forward(self, text):\n",
        "        # text dim: [sentence length, batch size]\n",
        "        text = torch.tensor(text, dtype=torch.long).clone().detach()\n",
        "\n",
        "        embedded = self.embedding(text)\n",
        "        # embedded dim: [sentence length, batch size, embedding dim]\n",
        "\n",
        "        output, (hidden, cell) = self.rnn(embedded)\n",
        "        # output dim: [sentence length, batch size, hidden dim]\n",
        "        # hidden dim: [1, batch size, hidden dim]\n",
        "\n",
        "        output  = output[-1]\n",
        "        # hidden dim: [batch size, hidden dim]\n",
        "\n",
        "        output = self.fc(output)\n",
        "        return output"
      ]
    },
    {
      "cell_type": "markdown",
      "metadata": {
        "id": "bvFcfDHKMt3A"
      },
      "source": [
        "### RNN"
      ]
    },
    {
      "cell_type": "code",
      "execution_count": null,
      "metadata": {
        "id": "Azo5imfmucxv"
      },
      "outputs": [],
      "source": [
        "class RNN(torch.nn.Module):\n",
        "\n",
        "    def __init__(self, input_dim, embedding_dim, hidden_dim, output_dim, num_layers=1):\n",
        "        super().__init__()\n",
        "\n",
        "        self.embedding = torch.nn.Embedding(input_dim, embedding_dim)\n",
        "\n",
        "        self.rnn = torch.nn.RNN(input_size=embedding_dim,\n",
        "                                 hidden_size=hidden_dim,\n",
        "                                 num_layers=num_layers,\n",
        "                                 nonlinearity='relu'\n",
        "                                 )\n",
        "\n",
        "        self.fc = torch.nn.Linear(hidden_dim, output_dim)\n",
        "\n",
        "\n",
        "    def forward(self, text):\n",
        "        # text dim: [sentence length, batch size]\n",
        "        text = torch.tensor(text, dtype=torch.long).clone().detach()\n",
        "        embedded = self.embedding(text)\n",
        "        # embedded dim: [sentence length, batch size, embedding dim]\n",
        "\n",
        "        output, hidden = self.rnn(embedded)\n",
        "        # output dim: [sentence length, batch size, hidden dim]\n",
        "        # hidden dim: [num_layers, batch size, hidden dim]\n",
        "\n",
        "        clf_output = output[-1] # [batch size, hidden dim]\n",
        "        output = self.fc(clf_output)\n",
        "\n",
        "        return output"
      ]
    },
    {
      "cell_type": "markdown",
      "metadata": {
        "id": "vhKXdnRN6S-1"
      },
      "source": [
        "### GRU"
      ]
    },
    {
      "cell_type": "code",
      "execution_count": null,
      "metadata": {
        "id": "Q61sAeLa6Ws1"
      },
      "outputs": [],
      "source": [
        "class GRU(torch.nn.Module):\n",
        "\n",
        "    def __init__(self, input_dim, embedding_dim, hidden_dim, output_dim, num_layers=1):\n",
        "        super().__init__()\n",
        "\n",
        "        self.embedding = torch.nn.Embedding(input_dim, embedding_dim)\n",
        "\n",
        "        # tru dropout\n",
        "        self.gru = torch.nn.GRU(input_size=embedding_dim,\n",
        "                                 hidden_size=hidden_dim,\n",
        "                                 num_layers=num_layers,\n",
        "                                 )\n",
        "\n",
        "        self.fc = torch.nn.Linear(hidden_dim, output_dim)\n",
        "\n",
        "\n",
        "    def forward(self, text):\n",
        "        # text dim: [sentence length, batch size]\n",
        "        text = torch.tensor(text, dtype=torch.long).clone().detach()\n",
        "        embedded = self.embedding(text)\n",
        "        # embedded dim: [sentence length, batch size, embedding dim]\n",
        "\n",
        "        output, hidden = self.gru(embedded)\n",
        "        # output dim: [sentence length, batch size, hidden dim]\n",
        "        # hidden dim: [num_layers, batch size, hidden dim]\n",
        "\n",
        "        clf_output = output[-1] # [batch size, hidden dim]\n",
        "        output = self.fc(clf_output)\n",
        "\n",
        "        return output"
      ]
    },
    {
      "cell_type": "markdown",
      "metadata": {
        "id": "zPzSoJtAowkF"
      },
      "source": [
        "\n",
        "\n",
        "# Part A - Train Models for Amazon Review Dataset\n",
        "\n",
        "\n",
        "\n",
        "\n",
        "\n"
      ]
    },
    {
      "cell_type": "markdown",
      "metadata": {
        "id": "h5Hqxw15mV8Z"
      },
      "source": [
        "### LSTM - ONE LAYER"
      ]
    },
    {
      "cell_type": "code",
      "execution_count": null,
      "metadata": {
        "colab": {
          "base_uri": "https://localhost:8080/"
        },
        "id": "jwLgBpIworFo",
        "outputId": "3888f7a5-9aba-47b5-b3c4-728cce074317"
      },
      "outputs": [
        {
          "name": "stderr",
          "output_type": "stream",
          "text": [
            "<ipython-input-41-b0bd7b427bc7>:18: UserWarning: To copy construct from a tensor, it is recommended to use sourceTensor.clone().detach() or sourceTensor.clone().detach().requires_grad_(True), rather than torch.tensor(sourceTensor).\n",
            "  text = torch.tensor(text, dtype=torch.long).clone().detach()\n"
          ]
        },
        {
          "name": "stdout",
          "output_type": "stream",
          "text": [
            "Epoch: 001/015 | Batch 0000/0963 | Loss: 1.5904\n",
            "Epoch: 001/015 | Batch 0100/0963 | Loss: 1.0655\n",
            "Epoch: 001/015 | Batch 0200/0963 | Loss: 0.8323\n",
            "Epoch: 001/015 | Batch 0300/0963 | Loss: 0.9738\n",
            "Epoch: 001/015 | Batch 0400/0963 | Loss: 0.8020\n",
            "Epoch: 001/015 | Batch 0500/0963 | Loss: 0.6832\n",
            "Epoch: 001/015 | Batch 0600/0963 | Loss: 0.8941\n",
            "Epoch: 001/015 | Batch 0700/0963 | Loss: 0.9672\n",
            "Epoch: 001/015 | Batch 0800/0963 | Loss: 0.6856\n",
            "Epoch: 001/015 | Batch 0900/0963 | Loss: 1.0125\n",
            "Epoch: 001/015 | Train: 72.71% | Validation: 72.60%\n",
            "Time elapsed: 1.01 min\n",
            "Epoch: 002/015 | Batch 0000/0963 | Loss: 0.9541\n",
            "Epoch: 002/015 | Batch 0100/0963 | Loss: 0.6630\n",
            "Epoch: 002/015 | Batch 0200/0963 | Loss: 1.0842\n",
            "Epoch: 002/015 | Batch 0300/0963 | Loss: 0.8338\n",
            "Epoch: 002/015 | Batch 0400/0963 | Loss: 0.7306\n",
            "Epoch: 002/015 | Batch 0500/0963 | Loss: 1.0795\n",
            "Epoch: 002/015 | Batch 0600/0963 | Loss: 0.8763\n",
            "Epoch: 002/015 | Batch 0700/0963 | Loss: 0.8053\n",
            "Epoch: 002/015 | Batch 0800/0963 | Loss: 1.0190\n",
            "Epoch: 002/015 | Batch 0900/0963 | Loss: 1.0279\n",
            "Epoch: 002/015 | Train: 72.79% | Validation: 72.61%\n",
            "Time elapsed: 2.02 min\n",
            "Epoch: 003/015 | Batch 0000/0963 | Loss: 0.9579\n",
            "Epoch: 003/015 | Batch 0100/0963 | Loss: 0.7244\n",
            "Epoch: 003/015 | Batch 0200/0963 | Loss: 0.9575\n",
            "Epoch: 003/015 | Batch 0300/0963 | Loss: 0.9261\n",
            "Epoch: 003/015 | Batch 0400/0963 | Loss: 0.8221\n",
            "Epoch: 003/015 | Batch 0500/0963 | Loss: 0.9383\n",
            "Epoch: 003/015 | Batch 0600/0963 | Loss: 0.8102\n",
            "Epoch: 003/015 | Batch 0700/0963 | Loss: 0.6094\n",
            "Epoch: 003/015 | Batch 0800/0963 | Loss: 0.9462\n",
            "Epoch: 003/015 | Batch 0900/0963 | Loss: 0.7317\n",
            "Epoch: 003/015 | Train: 72.81% | Validation: 72.58%\n",
            "Time elapsed: 3.04 min\n",
            "Epoch: 004/015 | Batch 0000/0963 | Loss: 0.9469\n",
            "Epoch: 004/015 | Batch 0100/0963 | Loss: 1.1412\n",
            "Epoch: 004/015 | Batch 0200/0963 | Loss: 0.9674\n",
            "Epoch: 004/015 | Batch 0300/0963 | Loss: 0.8856\n",
            "Epoch: 004/015 | Batch 0400/0963 | Loss: 0.8324\n",
            "Epoch: 004/015 | Batch 0500/0963 | Loss: 0.8884\n",
            "Epoch: 004/015 | Batch 0600/0963 | Loss: 0.9930\n",
            "Epoch: 004/015 | Batch 0700/0963 | Loss: 0.6875\n",
            "Epoch: 004/015 | Batch 0800/0963 | Loss: 0.9990\n",
            "Epoch: 004/015 | Batch 0900/0963 | Loss: 0.8451\n",
            "Epoch: 004/015 | Train: 72.87% | Validation: 72.53%\n",
            "Time elapsed: 4.07 min\n",
            "Epoch: 005/015 | Batch 0000/0963 | Loss: 1.1575\n",
            "Epoch: 005/015 | Batch 0100/0963 | Loss: 0.8357\n",
            "Epoch: 005/015 | Batch 0200/0963 | Loss: 0.8225\n",
            "Epoch: 005/015 | Batch 0300/0963 | Loss: 1.0038\n",
            "Epoch: 005/015 | Batch 0400/0963 | Loss: 0.9690\n",
            "Epoch: 005/015 | Batch 0500/0963 | Loss: 0.9531\n",
            "Epoch: 005/015 | Batch 0600/0963 | Loss: 0.9170\n",
            "Epoch: 005/015 | Batch 0700/0963 | Loss: 0.9848\n",
            "Epoch: 005/015 | Batch 0800/0963 | Loss: 0.7616\n",
            "Epoch: 005/015 | Batch 0900/0963 | Loss: 0.7237\n",
            "Epoch: 005/015 | Train: 72.97% | Validation: 72.62%\n",
            "Time elapsed: 5.10 min\n",
            "Epoch: 006/015 | Batch 0000/0963 | Loss: 0.6001\n",
            "Epoch: 006/015 | Batch 0100/0963 | Loss: 0.5693\n",
            "Epoch: 006/015 | Batch 0200/0963 | Loss: 0.5145\n",
            "Epoch: 006/015 | Batch 0300/0963 | Loss: 0.6661\n",
            "Epoch: 006/015 | Batch 0400/0963 | Loss: 0.6263\n",
            "Epoch: 006/015 | Batch 0500/0963 | Loss: 0.6242\n",
            "Epoch: 006/015 | Batch 0600/0963 | Loss: 0.6223\n",
            "Epoch: 006/015 | Batch 0700/0963 | Loss: 0.6161\n",
            "Epoch: 006/015 | Batch 0800/0963 | Loss: 0.6442\n",
            "Epoch: 006/015 | Batch 0900/0963 | Loss: 0.6468\n",
            "Epoch: 006/015 | Train: 73.68% | Validation: 73.66%\n",
            "Time elapsed: 6.14 min\n",
            "Epoch: 007/015 | Batch 0000/0963 | Loss: 0.7185\n",
            "Epoch: 007/015 | Batch 0100/0963 | Loss: 0.6602\n",
            "Epoch: 007/015 | Batch 0200/0963 | Loss: 0.5962\n",
            "Epoch: 007/015 | Batch 0300/0963 | Loss: 0.6449\n",
            "Epoch: 007/015 | Batch 0400/0963 | Loss: 0.6179\n",
            "Epoch: 007/015 | Batch 0500/0963 | Loss: 0.6444\n",
            "Epoch: 007/015 | Batch 0600/0963 | Loss: 0.6332\n",
            "Epoch: 007/015 | Batch 0700/0963 | Loss: 0.6282\n",
            "Epoch: 007/015 | Batch 0800/0963 | Loss: 0.6908\n",
            "Epoch: 007/015 | Batch 0900/0963 | Loss: 0.6949\n",
            "Epoch: 007/015 | Train: 76.26% | Validation: 74.71%\n",
            "Time elapsed: 7.19 min\n",
            "Epoch: 008/015 | Batch 0000/0963 | Loss: 0.4557\n",
            "Epoch: 008/015 | Batch 0100/0963 | Loss: 0.5342\n",
            "Epoch: 008/015 | Batch 0200/0963 | Loss: 0.6526\n",
            "Epoch: 008/015 | Batch 0300/0963 | Loss: 0.5080\n",
            "Epoch: 008/015 | Batch 0400/0963 | Loss: 0.5042\n",
            "Epoch: 008/015 | Batch 0500/0963 | Loss: 0.4984\n",
            "Epoch: 008/015 | Batch 0600/0963 | Loss: 0.9554\n",
            "Epoch: 008/015 | Batch 0700/0963 | Loss: 0.4567\n",
            "Epoch: 008/015 | Batch 0800/0963 | Loss: 0.5623\n",
            "Epoch: 008/015 | Batch 0900/0963 | Loss: 0.4525\n",
            "Epoch: 008/015 | Train: 79.47% | Validation: 73.89%\n",
            "Time elapsed: 8.22 min\n",
            "Epoch: 009/015 | Batch 0000/0963 | Loss: 0.3449\n",
            "Epoch: 009/015 | Batch 0100/0963 | Loss: 0.3252\n",
            "Epoch: 009/015 | Batch 0200/0963 | Loss: 0.3853\n",
            "Epoch: 009/015 | Batch 0300/0963 | Loss: 0.3844\n",
            "Epoch: 009/015 | Batch 0400/0963 | Loss: 0.2996\n",
            "Epoch: 009/015 | Batch 0500/0963 | Loss: 0.3394\n",
            "Epoch: 009/015 | Batch 0600/0963 | Loss: 0.3812\n",
            "Epoch: 009/015 | Batch 0700/0963 | Loss: 0.5318\n",
            "Epoch: 009/015 | Batch 0800/0963 | Loss: 0.4703\n",
            "Epoch: 009/015 | Batch 0900/0963 | Loss: 0.3762\n",
            "Epoch: 009/015 | Train: 82.73% | Validation: 73.05%\n",
            "Time elapsed: 9.27 min\n",
            "Epoch: 010/015 | Batch 0000/0963 | Loss: 0.4682\n",
            "Epoch: 010/015 | Batch 0100/0963 | Loss: 0.4638\n",
            "Epoch: 010/015 | Batch 0200/0963 | Loss: 0.3605\n",
            "Epoch: 010/015 | Batch 0300/0963 | Loss: 0.3279\n",
            "Epoch: 010/015 | Batch 0400/0963 | Loss: 0.3880\n",
            "Epoch: 010/015 | Batch 0500/0963 | Loss: 0.3519\n",
            "Epoch: 010/015 | Batch 0600/0963 | Loss: 0.2706\n",
            "Epoch: 010/015 | Batch 0700/0963 | Loss: 0.2801\n",
            "Epoch: 010/015 | Batch 0800/0963 | Loss: 0.5848\n",
            "Epoch: 010/015 | Batch 0900/0963 | Loss: 0.3284\n",
            "Epoch: 010/015 | Train: 85.60% | Validation: 73.82%\n",
            "Time elapsed: 10.29 min\n",
            "Epoch: 011/015 | Batch 0000/0963 | Loss: 0.3373\n",
            "Epoch: 011/015 | Batch 0100/0963 | Loss: 0.2932\n",
            "Epoch: 011/015 | Batch 0200/0963 | Loss: 0.2357\n",
            "Epoch: 011/015 | Batch 0300/0963 | Loss: 0.2678\n",
            "Epoch: 011/015 | Batch 0400/0963 | Loss: 0.2625\n",
            "Epoch: 011/015 | Batch 0500/0963 | Loss: 0.2815\n",
            "Epoch: 011/015 | Batch 0600/0963 | Loss: 0.3523\n",
            "Epoch: 011/015 | Batch 0700/0963 | Loss: 0.3196\n",
            "Epoch: 011/015 | Batch 0800/0963 | Loss: 0.3170\n",
            "Epoch: 011/015 | Batch 0900/0963 | Loss: 0.3834\n",
            "Epoch: 011/015 | Train: 88.18% | Validation: 75.63%\n",
            "Time elapsed: 11.35 min\n",
            "Epoch: 012/015 | Batch 0000/0963 | Loss: 0.3542\n",
            "Epoch: 012/015 | Batch 0100/0963 | Loss: 0.3730\n",
            "Epoch: 012/015 | Batch 0200/0963 | Loss: 0.1786\n",
            "Epoch: 012/015 | Batch 0300/0963 | Loss: 0.5351\n",
            "Epoch: 012/015 | Batch 0400/0963 | Loss: 0.2029\n",
            "Epoch: 012/015 | Batch 0500/0963 | Loss: 0.3067\n",
            "Epoch: 012/015 | Batch 0600/0963 | Loss: 0.4412\n",
            "Epoch: 012/015 | Batch 0700/0963 | Loss: 0.2691\n",
            "Epoch: 012/015 | Batch 0800/0963 | Loss: 0.3654\n",
            "Epoch: 012/015 | Batch 0900/0963 | Loss: 0.1911\n",
            "Epoch: 012/015 | Train: 90.07% | Validation: 75.20%\n",
            "Time elapsed: 12.38 min\n",
            "Epoch: 013/015 | Batch 0000/0963 | Loss: 0.1517\n",
            "Epoch: 013/015 | Batch 0100/0963 | Loss: 0.2807\n",
            "Epoch: 013/015 | Batch 0200/0963 | Loss: 0.1030\n",
            "Epoch: 013/015 | Batch 0300/0963 | Loss: 0.3986\n",
            "Epoch: 013/015 | Batch 0400/0963 | Loss: 0.2581\n",
            "Epoch: 013/015 | Batch 0500/0963 | Loss: 0.1965\n",
            "Epoch: 013/015 | Batch 0600/0963 | Loss: 0.4500\n",
            "Epoch: 013/015 | Batch 0700/0963 | Loss: 0.1476\n",
            "Epoch: 013/015 | Batch 0800/0963 | Loss: 0.4267\n",
            "Epoch: 013/015 | Batch 0900/0963 | Loss: 0.2066\n",
            "Epoch: 013/015 | Train: 91.28% | Validation: 74.58%\n",
            "Time elapsed: 13.41 min\n",
            "Epoch: 014/015 | Batch 0000/0963 | Loss: 0.1071\n",
            "Epoch: 014/015 | Batch 0100/0963 | Loss: 0.2363\n",
            "Epoch: 014/015 | Batch 0200/0963 | Loss: 0.3104\n",
            "Epoch: 014/015 | Batch 0300/0963 | Loss: 0.3155\n",
            "Epoch: 014/015 | Batch 0400/0963 | Loss: 0.2635\n",
            "Epoch: 014/015 | Batch 0500/0963 | Loss: 0.3484\n",
            "Epoch: 014/015 | Batch 0600/0963 | Loss: 0.1717\n",
            "Epoch: 014/015 | Batch 0700/0963 | Loss: 0.1156\n",
            "Epoch: 014/015 | Batch 0800/0963 | Loss: 0.1726\n",
            "Epoch: 014/015 | Batch 0900/0963 | Loss: 0.3862\n",
            "Epoch: 014/015 | Train: 92.41% | Validation: 74.84%\n",
            "Time elapsed: 14.46 min\n",
            "Epoch: 015/015 | Batch 0000/0963 | Loss: 0.2844\n",
            "Epoch: 015/015 | Batch 0100/0963 | Loss: 0.1111\n",
            "Epoch: 015/015 | Batch 0200/0963 | Loss: 0.4677\n",
            "Epoch: 015/015 | Batch 0300/0963 | Loss: 0.1326\n",
            "Epoch: 015/015 | Batch 0400/0963 | Loss: 0.0925\n",
            "Epoch: 015/015 | Batch 0500/0963 | Loss: 0.0485\n",
            "Epoch: 015/015 | Batch 0600/0963 | Loss: 0.0851\n",
            "Epoch: 015/015 | Batch 0700/0963 | Loss: 0.2299\n",
            "Epoch: 015/015 | Batch 0800/0963 | Loss: 0.3396\n",
            "Epoch: 015/015 | Batch 0900/0963 | Loss: 0.2001\n",
            "Epoch: 015/015 | Train: 93.20% | Validation: 74.40%\n",
            "Time elapsed: 15.50 min\n",
            "Total Training Time: 15.50 min\n",
            "Test accuracy 75.62%\n"
          ]
        }
      ],
      "source": [
        "LEARNING_RATE = 0.001\n",
        "NUM_LAYERS = 1\n",
        "\n",
        "model = LSTM(input_dim=len(vocab),\n",
        "             embedding_dim=EMBEDDING_DIM,\n",
        "             hidden_dim=HIDDEN_DIM,\n",
        "             output_dim=NUM_CLASSES, #5\n",
        "             num_layers=NUM_LAYERS\n",
        ")\n",
        "\n",
        "model = model.to(DEVICE)\n",
        "\n",
        "optimizer = torch.optim.Adam(model.parameters(), lr=LEARNING_RATE)\n",
        "scheduler = torch.optim.lr_scheduler.ReduceLROnPlateau(optimizer,\n",
        "                                                       factor=0.1,\n",
        "                                                       mode='max',\n",
        "                                                       verbose=True)\n",
        "\n",
        "acc_history, loss_history = train_model(\n",
        "    model=model,\n",
        "    num_epochs=NUM_EPOCHS,\n",
        "    train_loader=train_loader,\n",
        "    valid_loader=valid_loader,\n",
        "    test_loader=test_loader,\n",
        "    optimizer=optimizer,\n",
        "    device=DEVICE,\n",
        "    logging_interval=100)"
      ]
    },
    {
      "cell_type": "code",
      "execution_count": null,
      "metadata": {
        "colab": {
          "base_uri": "https://localhost:8080/",
          "height": 502
        },
        "id": "MCzJE8jHXrOL",
        "outputId": "eb5aab38-d178-4587-c32f-ece6acc43eec"
      },
      "outputs": [
        {
          "data": {
            "image/png": "[encoded data removed]",
            "text/plain": [
              "<Figure size 1000x500 with 2 Axes>"
            ]
          },
          "metadata": {},
          "output_type": "display_data"
        }
      ],
      "source": [
        "info_to_plot([acc_history, loss_history], NUM_EPOCHS-1)"
      ]
    },
    {
      "cell_type": "markdown",
      "metadata": {
        "id": "JzpnoXj2EbEF"
      },
      "source": [
        "### LSTM - TWO LAYERS"
      ]
    },
    {
      "cell_type": "code",
      "execution_count": null,
      "metadata": {
        "colab": {
          "base_uri": "https://localhost:8080/"
        },
        "id": "XumXs5gCvG43",
        "outputId": "0d1d5f84-dd80-47aa-991d-dda72f529632"
      },
      "outputs": [
        {
          "name": "stderr",
          "output_type": "stream",
          "text": [
            "<ipython-input-41-b0bd7b427bc7>:18: UserWarning: To copy construct from a tensor, it is recommended to use sourceTensor.clone().detach() or sourceTensor.clone().detach().requires_grad_(True), rather than torch.tensor(sourceTensor).\n",
            "  text = torch.tensor(text, dtype=torch.long).clone().detach()\n"
          ]
        },
        {
          "name": "stdout",
          "output_type": "stream",
          "text": [
            "Epoch: 001/015 | Batch 0000/0963 | Loss: 1.6393\n",
            "Epoch: 001/015 | Batch 0100/0963 | Loss: 0.8691\n",
            "Epoch: 001/015 | Batch 0200/0963 | Loss: 0.7243\n",
            "Epoch: 001/015 | Batch 0300/0963 | Loss: 1.0333\n",
            "Epoch: 001/015 | Batch 0400/0963 | Loss: 0.7670\n",
            "Epoch: 001/015 | Batch 0500/0963 | Loss: 0.8962\n",
            "Epoch: 001/015 | Batch 0600/0963 | Loss: 1.1255\n",
            "Epoch: 001/015 | Batch 0700/0963 | Loss: 0.8591\n",
            "Epoch: 001/015 | Batch 0800/0963 | Loss: 0.8132\n",
            "Epoch: 001/015 | Batch 0900/0963 | Loss: 1.0816\n",
            "Epoch: 001/015 | Train: 72.73% | Validation: 72.60%\n",
            "Time elapsed: 1.85 min\n",
            "Epoch: 002/015 | Batch 0000/0963 | Loss: 1.0473\n",
            "Epoch: 002/015 | Batch 0100/0963 | Loss: 1.0166\n",
            "Epoch: 002/015 | Batch 0200/0963 | Loss: 0.6871\n",
            "Epoch: 002/015 | Batch 0300/0963 | Loss: 0.9469\n",
            "Epoch: 002/015 | Batch 0400/0963 | Loss: 0.7279\n",
            "Epoch: 002/015 | Batch 0500/0963 | Loss: 0.8301\n",
            "Epoch: 002/015 | Batch 0600/0963 | Loss: 0.9685\n",
            "Epoch: 002/015 | Batch 0700/0963 | Loss: 0.9087\n",
            "Epoch: 002/015 | Batch 0800/0963 | Loss: 0.9138\n",
            "Epoch: 002/015 | Batch 0900/0963 | Loss: 0.9483\n",
            "Epoch: 002/015 | Train: 72.79% | Validation: 72.60%\n",
            "Time elapsed: 3.74 min\n",
            "Epoch: 003/015 | Batch 0000/0963 | Loss: 0.6104\n",
            "Epoch: 003/015 | Batch 0100/0963 | Loss: 0.9136\n",
            "Epoch: 003/015 | Batch 0200/0963 | Loss: 1.2410\n",
            "Epoch: 003/015 | Batch 0300/0963 | Loss: 0.8655\n",
            "Epoch: 003/015 | Batch 0400/0963 | Loss: 0.9365\n",
            "Epoch: 003/015 | Batch 0500/0963 | Loss: 1.0456\n",
            "Epoch: 003/015 | Batch 0600/0963 | Loss: 0.7102\n",
            "Epoch: 003/015 | Batch 0700/0963 | Loss: 0.8851\n",
            "Epoch: 003/015 | Batch 0800/0963 | Loss: 1.0013\n",
            "Epoch: 003/015 | Batch 0900/0963 | Loss: 0.8179\n",
            "Epoch: 003/015 | Train: 72.80% | Validation: 72.60%\n",
            "Time elapsed: 5.62 min\n",
            "Epoch: 004/015 | Batch 0000/0963 | Loss: 0.7855\n",
            "Epoch: 004/015 | Batch 0100/0963 | Loss: 0.8180\n",
            "Epoch: 004/015 | Batch 0200/0963 | Loss: 1.0030\n",
            "Epoch: 004/015 | Batch 0300/0963 | Loss: 0.7935\n",
            "Epoch: 004/015 | Batch 0400/0963 | Loss: 0.8381\n",
            "Epoch: 004/015 | Batch 0500/0963 | Loss: 0.8285\n",
            "Epoch: 004/015 | Batch 0600/0963 | Loss: 1.1512\n",
            "Epoch: 004/015 | Batch 0700/0963 | Loss: 0.8933\n",
            "Epoch: 004/015 | Batch 0800/0963 | Loss: 0.9566\n",
            "Epoch: 004/015 | Batch 0900/0963 | Loss: 0.8891\n",
            "Epoch: 004/015 | Train: 72.78% | Validation: 72.60%\n",
            "Time elapsed: 7.51 min\n",
            "Epoch: 005/015 | Batch 0000/0963 | Loss: 0.6746\n",
            "Epoch: 005/015 | Batch 0100/0963 | Loss: 0.5976\n",
            "Epoch: 005/015 | Batch 0200/0963 | Loss: 0.9601\n",
            "Epoch: 005/015 | Batch 0300/0963 | Loss: 0.7593\n",
            "Epoch: 005/015 | Batch 0400/0963 | Loss: 0.6781\n",
            "Epoch: 005/015 | Batch 0500/0963 | Loss: 0.9600\n",
            "Epoch: 005/015 | Batch 0600/0963 | Loss: 0.8918\n",
            "Epoch: 005/015 | Batch 0700/0963 | Loss: 0.5349\n",
            "Epoch: 005/015 | Batch 0800/0963 | Loss: 0.7378\n",
            "Epoch: 005/015 | Batch 0900/0963 | Loss: 0.7274\n",
            "Epoch: 005/015 | Train: 73.20% | Validation: 73.39%\n",
            "Time elapsed: 9.43 min\n",
            "Epoch: 006/015 | Batch 0000/0963 | Loss: 0.7275\n",
            "Epoch: 006/015 | Batch 0100/0963 | Loss: 0.6703\n",
            "Epoch: 006/015 | Batch 0200/0963 | Loss: 0.4600\n",
            "Epoch: 006/015 | Batch 0300/0963 | Loss: 0.6540\n",
            "Epoch: 006/015 | Batch 0400/0963 | Loss: 0.5290\n",
            "Epoch: 006/015 | Batch 0500/0963 | Loss: 0.6461\n",
            "Epoch: 006/015 | Batch 0600/0963 | Loss: 0.6527\n",
            "Epoch: 006/015 | Batch 0700/0963 | Loss: 0.5900\n",
            "Epoch: 006/015 | Batch 0800/0963 | Loss: 0.7569\n",
            "Epoch: 006/015 | Batch 0900/0963 | Loss: 0.5911\n",
            "Epoch: 006/015 | Train: 75.49% | Validation: 74.17%\n",
            "Time elapsed: 11.36 min\n",
            "Epoch: 007/015 | Batch 0000/0963 | Loss: 0.5588\n",
            "Epoch: 007/015 | Batch 0100/0963 | Loss: 0.8000\n",
            "Epoch: 007/015 | Batch 0200/0963 | Loss: 0.5534\n",
            "Epoch: 007/015 | Batch 0300/0963 | Loss: 0.5968\n",
            "Epoch: 007/015 | Batch 0400/0963 | Loss: 0.4799\n",
            "Epoch: 007/015 | Batch 0500/0963 | Loss: 0.5461\n",
            "Epoch: 007/015 | Batch 0600/0963 | Loss: 0.6385\n",
            "Epoch: 007/015 | Batch 0700/0963 | Loss: 0.5804\n",
            "Epoch: 007/015 | Batch 0800/0963 | Loss: 0.4387\n",
            "Epoch: 007/015 | Batch 0900/0963 | Loss: 0.6447\n",
            "Epoch: 007/015 | Train: 78.44% | Validation: 74.26%\n",
            "Time elapsed: 13.27 min\n",
            "Epoch: 008/015 | Batch 0000/0963 | Loss: 0.4542\n",
            "Epoch: 008/015 | Batch 0100/0963 | Loss: 0.6191\n",
            "Epoch: 008/015 | Batch 0200/0963 | Loss: 0.5971\n",
            "Epoch: 008/015 | Batch 0300/0963 | Loss: 0.5065\n",
            "Epoch: 008/015 | Batch 0400/0963 | Loss: 0.3906\n",
            "Epoch: 008/015 | Batch 0500/0963 | Loss: 0.4631\n",
            "Epoch: 008/015 | Batch 0600/0963 | Loss: 0.6535\n",
            "Epoch: 008/015 | Batch 0700/0963 | Loss: 0.4865\n",
            "Epoch: 008/015 | Batch 0800/0963 | Loss: 0.3820\n",
            "Epoch: 008/015 | Batch 0900/0963 | Loss: 0.5223\n",
            "Epoch: 008/015 | Train: 81.39% | Validation: 72.01%\n",
            "Time elapsed: 15.19 min\n",
            "Epoch: 009/015 | Batch 0000/0963 | Loss: 0.4564\n",
            "Epoch: 009/015 | Batch 0100/0963 | Loss: 0.2861\n",
            "Epoch: 009/015 | Batch 0200/0963 | Loss: 0.4783\n",
            "Epoch: 009/015 | Batch 0300/0963 | Loss: 0.4457\n",
            "Epoch: 009/015 | Batch 0400/0963 | Loss: 0.3338\n",
            "Epoch: 009/015 | Batch 0500/0963 | Loss: 0.5226\n",
            "Epoch: 009/015 | Batch 0600/0963 | Loss: 0.4245\n",
            "Epoch: 009/015 | Batch 0700/0963 | Loss: 0.4176\n",
            "Epoch: 009/015 | Batch 0800/0963 | Loss: 0.3744\n",
            "Epoch: 009/015 | Batch 0900/0963 | Loss: 0.6936\n",
            "Epoch: 009/015 | Train: 84.23% | Validation: 73.93%\n",
            "Time elapsed: 17.10 min\n",
            "Epoch: 010/015 | Batch 0000/0963 | Loss: 0.2654\n",
            "Epoch: 010/015 | Batch 0100/0963 | Loss: 0.4852\n",
            "Epoch: 010/015 | Batch 0200/0963 | Loss: 0.2411\n",
            "Epoch: 010/015 | Batch 0300/0963 | Loss: 0.2918\n",
            "Epoch: 010/015 | Batch 0400/0963 | Loss: 0.3142\n",
            "Epoch: 010/015 | Batch 0500/0963 | Loss: 0.4087\n",
            "Epoch: 010/015 | Batch 0600/0963 | Loss: 0.2945\n",
            "Epoch: 010/015 | Batch 0700/0963 | Loss: 0.3302\n",
            "Epoch: 010/015 | Batch 0800/0963 | Loss: 0.2813\n",
            "Epoch: 010/015 | Batch 0900/0963 | Loss: 0.4505\n",
            "Epoch: 010/015 | Train: 86.86% | Validation: 74.63%\n",
            "Time elapsed: 19.02 min\n",
            "Epoch: 011/015 | Batch 0000/0963 | Loss: 0.1154\n",
            "Epoch: 011/015 | Batch 0100/0963 | Loss: 0.3219\n",
            "Epoch: 011/015 | Batch 0200/0963 | Loss: 0.5790\n",
            "Epoch: 011/015 | Batch 0300/0963 | Loss: 0.4182\n",
            "Epoch: 011/015 | Batch 0400/0963 | Loss: 0.2943\n",
            "Epoch: 011/015 | Batch 0500/0963 | Loss: 0.5020\n",
            "Epoch: 011/015 | Batch 0600/0963 | Loss: 0.3872\n",
            "Epoch: 011/015 | Batch 0700/0963 | Loss: 0.4246\n",
            "Epoch: 011/015 | Batch 0800/0963 | Loss: 0.3357\n",
            "Epoch: 011/015 | Batch 0900/0963 | Loss: 0.3352\n",
            "Epoch: 011/015 | Train: 87.53% | Validation: 73.49%\n",
            "Time elapsed: 20.95 min\n",
            "Epoch: 012/015 | Batch 0000/0963 | Loss: 0.2319\n",
            "Epoch: 012/015 | Batch 0100/0963 | Loss: 0.3473\n",
            "Epoch: 012/015 | Batch 0200/0963 | Loss: 0.2420\n",
            "Epoch: 012/015 | Batch 0300/0963 | Loss: 0.2330\n",
            "Epoch: 012/015 | Batch 0400/0963 | Loss: 0.3118\n",
            "Epoch: 012/015 | Batch 0500/0963 | Loss: 0.2760\n",
            "Epoch: 012/015 | Batch 0600/0963 | Loss: 0.4405\n",
            "Epoch: 012/015 | Batch 0700/0963 | Loss: 0.1823\n",
            "Epoch: 012/015 | Batch 0800/0963 | Loss: 0.2003\n",
            "Epoch: 012/015 | Batch 0900/0963 | Loss: 0.2334\n",
            "Epoch: 012/015 | Train: 89.74% | Validation: 71.80%\n",
            "Time elapsed: 22.87 min\n",
            "Epoch: 013/015 | Batch 0000/0963 | Loss: 0.5682\n",
            "Epoch: 013/015 | Batch 0100/0963 | Loss: 0.2505\n",
            "Epoch: 013/015 | Batch 0200/0963 | Loss: 0.1287\n",
            "Epoch: 013/015 | Batch 0300/0963 | Loss: 0.1442\n",
            "Epoch: 013/015 | Batch 0400/0963 | Loss: 0.2066\n",
            "Epoch: 013/015 | Batch 0500/0963 | Loss: 0.4145\n",
            "Epoch: 013/015 | Batch 0600/0963 | Loss: 0.1626\n",
            "Epoch: 013/015 | Batch 0700/0963 | Loss: 0.1781\n",
            "Epoch: 013/015 | Batch 0800/0963 | Loss: 0.2741\n",
            "Epoch: 013/015 | Batch 0900/0963 | Loss: 0.0846\n",
            "Epoch: 013/015 | Train: 91.02% | Validation: 74.66%\n",
            "Time elapsed: 24.79 min\n",
            "Epoch: 014/015 | Batch 0000/0963 | Loss: 0.1476\n",
            "Epoch: 014/015 | Batch 0100/0963 | Loss: 0.1863\n",
            "Epoch: 014/015 | Batch 0200/0963 | Loss: 0.1266\n",
            "Epoch: 014/015 | Batch 0300/0963 | Loss: 0.2404\n",
            "Epoch: 014/015 | Batch 0400/0963 | Loss: 0.4226\n",
            "Epoch: 014/015 | Batch 0500/0963 | Loss: 0.3216\n",
            "Epoch: 014/015 | Batch 0600/0963 | Loss: 0.1854\n",
            "Epoch: 014/015 | Batch 0700/0963 | Loss: 0.1860\n",
            "Epoch: 014/015 | Batch 0800/0963 | Loss: 0.3221\n",
            "Epoch: 014/015 | Batch 0900/0963 | Loss: 0.3420\n",
            "Epoch: 014/015 | Train: 91.93% | Validation: 73.91%\n",
            "Time elapsed: 26.72 min\n",
            "Epoch: 015/015 | Batch 0000/0963 | Loss: 0.2629\n",
            "Epoch: 015/015 | Batch 0100/0963 | Loss: 0.2984\n",
            "Epoch: 015/015 | Batch 0200/0963 | Loss: 0.0863\n",
            "Epoch: 015/015 | Batch 0300/0963 | Loss: 0.2276\n",
            "Epoch: 015/015 | Batch 0400/0963 | Loss: 0.1520\n",
            "Epoch: 015/015 | Batch 0500/0963 | Loss: 0.1761\n",
            "Epoch: 015/015 | Batch 0600/0963 | Loss: 0.2819\n",
            "Epoch: 015/015 | Batch 0700/0963 | Loss: 0.0328\n",
            "Epoch: 015/015 | Batch 0800/0963 | Loss: 0.2296\n",
            "Epoch: 015/015 | Batch 0900/0963 | Loss: 0.0757\n",
            "Epoch: 015/015 | Train: 92.69% | Validation: 74.09%\n",
            "Time elapsed: 28.63 min\n",
            "Total Training Time: 28.63 min\n",
            "Test accuracy 74.48%\n"
          ]
        }
      ],
      "source": [
        "LEARNING_RATE = 0.001\n",
        "NUM_LAYERS = 2\n",
        "\n",
        "NUM_CLASSES = 5\n",
        "\n",
        "model = LSTM(input_dim=len(vocab),\n",
        "             embedding_dim=EMBEDDING_DIM,\n",
        "             hidden_dim=HIDDEN_DIM,\n",
        "             output_dim=NUM_CLASSES, #5\n",
        "             num_layers=NUM_LAYERS\n",
        ")\n",
        "\n",
        "model = model.to(DEVICE)\n",
        "\n",
        "optimizer = torch.optim.Adam(model.parameters(), lr=LEARNING_RATE)\n",
        "scheduler = torch.optim.lr_scheduler.ReduceLROnPlateau(optimizer,\n",
        "                                                       factor=0.1,\n",
        "                                                       mode='max',\n",
        "                                                       verbose=True)\n",
        "\n",
        "acc_history, loss_history = train_model(\n",
        "    model=model,\n",
        "    num_epochs=NUM_EPOCHS,\n",
        "    train_loader=train_loader,\n",
        "    valid_loader=valid_loader,\n",
        "    test_loader=test_loader,\n",
        "    optimizer=optimizer,\n",
        "    device=DEVICE,\n",
        "    logging_interval=100)"
      ]
    },
    {
      "cell_type": "code",
      "execution_count": null,
      "metadata": {
        "colab": {
          "base_uri": "https://localhost:8080/",
          "height": 501
        },
        "id": "y_OYr3O2EWJy",
        "outputId": "95121ad3-7a9e-48fb-c506-003cb96a961b"
      },
      "outputs": [
        {
          "data": {
            "image/png": "[encoded data removed]",
            "text/plain": [
              "<Figure size 1000x500 with 2 Axes>"
            ]
          },
          "metadata": {},
          "output_type": "display_data"
        }
      ],
      "source": [
        "info_to_plot(result=[acc_history, loss_history], epoch=NUM_EPOCHS-1)"
      ]
    },
    {
      "cell_type": "markdown",
      "metadata": {
        "id": "24oqHVHTyw4q"
      },
      "source": [
        "### LSTM - THREE LAYERS"
      ]
    },
    {
      "cell_type": "code",
      "execution_count": null,
      "metadata": {
        "colab": {
          "base_uri": "https://localhost:8080/"
        },
        "id": "KaVcIeIbwIRJ",
        "outputId": "7cb8cb48-99e1-4d74-b6f3-68939fe3fc94"
      },
      "outputs": [
        {
          "output_type": "stream",
          "name": "stdout",
          "text": [
            "Epoch: 001/015 | Batch 0000/0963 | Loss: 1.5970\n",
            "Epoch: 001/015 | Batch 0100/0963 | Loss: 0.7943\n",
            "Epoch: 001/015 | Batch 0200/0963 | Loss: 0.8294\n",
            "Epoch: 001/015 | Batch 0300/0963 | Loss: 0.7947\n",
            "Epoch: 001/015 | Batch 0400/0963 | Loss: 0.8399\n",
            "Epoch: 001/015 | Batch 0500/0963 | Loss: 0.9303\n",
            "Epoch: 001/015 | Batch 0600/0963 | Loss: 0.9851\n",
            "Epoch: 001/015 | Batch 0700/0963 | Loss: 0.9297\n",
            "Epoch: 001/015 | Batch 0800/0963 | Loss: 0.8244\n",
            "Epoch: 001/015 | Batch 0900/0963 | Loss: 1.2529\n",
            "Epoch: 001/015 | Train: 72.78% | Validation: 72.60%\n",
            "Time elapsed: 2.87 min\n",
            "Epoch: 002/015 | Batch 0000/0963 | Loss: 0.8489\n",
            "Epoch: 002/015 | Batch 0100/0963 | Loss: 1.0527\n",
            "Epoch: 002/015 | Batch 0200/0963 | Loss: 0.7912\n",
            "Epoch: 002/015 | Batch 0300/0963 | Loss: 0.9974\n",
            "Epoch: 002/015 | Batch 0400/0963 | Loss: 0.7355\n",
            "Epoch: 002/015 | Batch 0500/0963 | Loss: 1.0479\n",
            "Epoch: 002/015 | Batch 0600/0963 | Loss: 1.0825\n",
            "Epoch: 002/015 | Batch 0700/0963 | Loss: 0.6756\n",
            "Epoch: 002/015 | Batch 0800/0963 | Loss: 0.8040\n",
            "Epoch: 002/015 | Batch 0900/0963 | Loss: 0.8163\n",
            "Epoch: 002/015 | Train: 72.79% | Validation: 72.60%\n",
            "Time elapsed: 5.57 min\n",
            "Epoch: 003/015 | Batch 0000/0963 | Loss: 0.7989\n",
            "Epoch: 003/015 | Batch 0100/0963 | Loss: 0.7773\n",
            "Epoch: 003/015 | Batch 0200/0963 | Loss: 0.9627\n",
            "Epoch: 003/015 | Batch 0300/0963 | Loss: 1.1132\n",
            "Epoch: 003/015 | Batch 0400/0963 | Loss: 0.7768\n",
            "Epoch: 003/015 | Batch 0500/0963 | Loss: 0.9352\n",
            "Epoch: 003/015 | Batch 0600/0963 | Loss: 0.9220\n",
            "Epoch: 003/015 | Batch 0700/0963 | Loss: 1.1002\n",
            "Epoch: 003/015 | Batch 0800/0963 | Loss: 0.7837\n",
            "Epoch: 003/015 | Batch 0900/0963 | Loss: 0.7816\n",
            "Epoch: 003/015 | Train: 72.79% | Validation: 72.60%\n",
            "Time elapsed: 8.34 min\n",
            "Epoch: 004/015 | Batch 0000/0963 | Loss: 0.8161\n",
            "Epoch: 004/015 | Batch 0100/0963 | Loss: 0.6873\n",
            "Epoch: 004/015 | Batch 0200/0963 | Loss: 0.7484\n",
            "Epoch: 004/015 | Batch 0300/0963 | Loss: 0.6943\n",
            "Epoch: 004/015 | Batch 0400/0963 | Loss: 0.6044\n",
            "Epoch: 004/015 | Batch 0500/0963 | Loss: 0.7475\n",
            "Epoch: 004/015 | Batch 0600/0963 | Loss: 0.8756\n",
            "Epoch: 004/015 | Batch 0700/0963 | Loss: 0.7413\n",
            "Epoch: 004/015 | Batch 0800/0963 | Loss: 0.7643\n",
            "Epoch: 004/015 | Batch 0900/0963 | Loss: 0.5845\n",
            "Epoch: 004/015 | Train: 72.95% | Validation: 72.99%\n",
            "Time elapsed: 11.16 min\n",
            "Epoch: 005/015 | Batch 0000/0963 | Loss: 0.8502\n",
            "Epoch: 005/015 | Batch 0100/0963 | Loss: 0.5187\n",
            "Epoch: 005/015 | Batch 0200/0963 | Loss: 0.5318\n",
            "Epoch: 005/015 | Batch 0300/0963 | Loss: 0.5862\n",
            "Epoch: 005/015 | Batch 0400/0963 | Loss: 0.6814\n",
            "Epoch: 005/015 | Batch 0500/0963 | Loss: 0.5786\n",
            "Epoch: 005/015 | Batch 0600/0963 | Loss: 0.7391\n",
            "Epoch: 005/015 | Batch 0700/0963 | Loss: 0.3835\n",
            "Epoch: 005/015 | Batch 0800/0963 | Loss: 0.8596\n",
            "Epoch: 005/015 | Batch 0900/0963 | Loss: 0.5880\n",
            "Epoch: 005/015 | Train: 74.57% | Validation: 74.31%\n",
            "Time elapsed: 13.99 min\n",
            "Epoch: 006/015 | Batch 0000/0963 | Loss: 0.4759\n",
            "Epoch: 006/015 | Batch 0100/0963 | Loss: 0.6277\n",
            "Epoch: 006/015 | Batch 0200/0963 | Loss: 0.4545\n",
            "Epoch: 006/015 | Batch 0300/0963 | Loss: 0.6758\n",
            "Epoch: 006/015 | Batch 0400/0963 | Loss: 0.6355\n",
            "Epoch: 006/015 | Batch 0500/0963 | Loss: 0.5043\n",
            "Epoch: 006/015 | Batch 0600/0963 | Loss: 0.5138\n",
            "Epoch: 006/015 | Batch 0700/0963 | Loss: 0.5135\n",
            "Epoch: 006/015 | Batch 0800/0963 | Loss: 0.6352\n",
            "Epoch: 006/015 | Batch 0900/0963 | Loss: 0.6189\n",
            "Epoch: 006/015 | Train: 77.32% | Validation: 74.08%\n",
            "Time elapsed: 16.80 min\n",
            "Epoch: 007/015 | Batch 0000/0963 | Loss: 0.3839\n",
            "Epoch: 007/015 | Batch 0100/0963 | Loss: 0.4261\n",
            "Epoch: 007/015 | Batch 0200/0963 | Loss: 0.5403\n",
            "Epoch: 007/015 | Batch 0300/0963 | Loss: 0.4110\n",
            "Epoch: 007/015 | Batch 0400/0963 | Loss: 0.5418\n",
            "Epoch: 007/015 | Batch 0500/0963 | Loss: 0.4825\n",
            "Epoch: 007/015 | Batch 0600/0963 | Loss: 0.3723\n",
            "Epoch: 007/015 | Batch 0700/0963 | Loss: 0.6321\n",
            "Epoch: 007/015 | Batch 0800/0963 | Loss: 0.3134\n",
            "Epoch: 007/015 | Batch 0900/0963 | Loss: 0.5392\n",
            "Epoch: 007/015 | Train: 80.61% | Validation: 75.11%\n",
            "Time elapsed: 19.62 min\n",
            "Epoch: 008/015 | Batch 0000/0963 | Loss: 0.4565\n",
            "Epoch: 008/015 | Batch 0100/0963 | Loss: 0.5488\n",
            "Epoch: 008/015 | Batch 0200/0963 | Loss: 0.3932\n",
            "Epoch: 008/015 | Batch 0300/0963 | Loss: 0.4942\n",
            "Epoch: 008/015 | Batch 0400/0963 | Loss: 0.4516\n",
            "Epoch: 008/015 | Batch 0500/0963 | Loss: 0.4361\n",
            "Epoch: 008/015 | Batch 0600/0963 | Loss: 0.3401\n",
            "Epoch: 008/015 | Batch 0700/0963 | Loss: 0.3501\n",
            "Epoch: 008/015 | Batch 0800/0963 | Loss: 0.4384\n",
            "Epoch: 008/015 | Batch 0900/0963 | Loss: 0.5550\n",
            "Epoch: 008/015 | Train: 83.99% | Validation: 74.10%\n",
            "Time elapsed: 22.42 min\n",
            "Epoch: 009/015 | Batch 0000/0963 | Loss: 0.4182\n",
            "Epoch: 009/015 | Batch 0100/0963 | Loss: 0.3408\n",
            "Epoch: 009/015 | Batch 0200/0963 | Loss: 0.1823\n",
            "Epoch: 009/015 | Batch 0300/0963 | Loss: 0.2492\n",
            "Epoch: 009/015 | Batch 0400/0963 | Loss: 0.3671\n",
            "Epoch: 009/015 | Batch 0500/0963 | Loss: 0.3442\n",
            "Epoch: 009/015 | Batch 0600/0963 | Loss: 0.3074\n",
            "Epoch: 009/015 | Batch 0700/0963 | Loss: 0.3945\n",
            "Epoch: 009/015 | Batch 0800/0963 | Loss: 0.3437\n",
            "Epoch: 009/015 | Batch 0900/0963 | Loss: 0.2223\n",
            "Epoch: 009/015 | Train: 86.78% | Validation: 74.36%\n",
            "Time elapsed: 25.23 min\n",
            "Epoch: 010/015 | Batch 0000/0963 | Loss: 0.3765\n",
            "Epoch: 010/015 | Batch 0100/0963 | Loss: 0.5070\n",
            "Epoch: 010/015 | Batch 0200/0963 | Loss: 0.3599\n",
            "Epoch: 010/015 | Batch 0300/0963 | Loss: 0.3609\n",
            "Epoch: 010/015 | Batch 0400/0963 | Loss: 0.2786\n",
            "Epoch: 010/015 | Batch 0500/0963 | Loss: 0.2810\n",
            "Epoch: 010/015 | Batch 0600/0963 | Loss: 0.2882\n",
            "Epoch: 010/015 | Batch 0700/0963 | Loss: 0.4793\n",
            "Epoch: 010/015 | Batch 0800/0963 | Loss: 0.2330\n",
            "Epoch: 010/015 | Batch 0900/0963 | Loss: 0.2874\n",
            "Epoch: 010/015 | Train: 89.20% | Validation: 75.04%\n",
            "Time elapsed: 28.07 min\n",
            "Epoch: 011/015 | Batch 0000/0963 | Loss: 0.3367\n",
            "Epoch: 011/015 | Batch 0100/0963 | Loss: 0.1748\n",
            "Epoch: 011/015 | Batch 0200/0963 | Loss: 0.3121\n",
            "Epoch: 011/015 | Batch 0300/0963 | Loss: 0.2701\n",
            "Epoch: 011/015 | Batch 0400/0963 | Loss: 0.3193\n",
            "Epoch: 011/015 | Batch 0500/0963 | Loss: 0.1470\n",
            "Epoch: 011/015 | Batch 0600/0963 | Loss: 0.1531\n",
            "Epoch: 011/015 | Batch 0700/0963 | Loss: 0.2839\n",
            "Epoch: 011/015 | Batch 0800/0963 | Loss: 0.1422\n",
            "Epoch: 011/015 | Batch 0900/0963 | Loss: 0.2018\n",
            "Epoch: 011/015 | Train: 91.01% | Validation: 73.39%\n",
            "Time elapsed: 30.88 min\n",
            "Epoch: 012/015 | Batch 0000/0963 | Loss: 0.1939\n",
            "Epoch: 012/015 | Batch 0100/0963 | Loss: 0.2551\n",
            "Epoch: 012/015 | Batch 0200/0963 | Loss: 0.1363\n",
            "Epoch: 012/015 | Batch 0300/0963 | Loss: 0.1938\n",
            "Epoch: 012/015 | Batch 0400/0963 | Loss: 0.2343\n",
            "Epoch: 012/015 | Batch 0500/0963 | Loss: 0.1239\n",
            "Epoch: 012/015 | Batch 0600/0963 | Loss: 0.2882\n",
            "Epoch: 012/015 | Batch 0700/0963 | Loss: 0.2932\n",
            "Epoch: 012/015 | Batch 0800/0963 | Loss: 0.1784\n",
            "Epoch: 012/015 | Batch 0900/0963 | Loss: 0.1807\n",
            "Epoch: 012/015 | Train: 92.07% | Validation: 74.28%\n",
            "Time elapsed: 33.68 min\n",
            "Epoch: 013/015 | Batch 0000/0963 | Loss: 0.1710\n",
            "Epoch: 013/015 | Batch 0100/0963 | Loss: 0.2509\n",
            "Epoch: 013/015 | Batch 0200/0963 | Loss: 0.3236\n",
            "Epoch: 013/015 | Batch 0300/0963 | Loss: 0.0631\n",
            "Epoch: 013/015 | Batch 0400/0963 | Loss: 0.1503\n",
            "Epoch: 013/015 | Batch 0500/0963 | Loss: 0.1380\n",
            "Epoch: 013/015 | Batch 0600/0963 | Loss: 0.1596\n",
            "Epoch: 013/015 | Batch 0700/0963 | Loss: 0.1550\n",
            "Epoch: 013/015 | Batch 0800/0963 | Loss: 0.1416\n",
            "Epoch: 013/015 | Batch 0900/0963 | Loss: 0.2831\n",
            "Epoch: 013/015 | Train: 93.09% | Validation: 73.26%\n",
            "Time elapsed: 36.51 min\n",
            "Epoch: 014/015 | Batch 0000/0963 | Loss: 0.2306\n",
            "Epoch: 014/015 | Batch 0100/0963 | Loss: 0.2393\n",
            "Epoch: 014/015 | Batch 0200/0963 | Loss: 0.3490\n",
            "Epoch: 014/015 | Batch 0300/0963 | Loss: 0.2193\n",
            "Epoch: 014/015 | Batch 0400/0963 | Loss: 0.0709\n",
            "Epoch: 014/015 | Batch 0500/0963 | Loss: 0.2536\n",
            "Epoch: 014/015 | Batch 0600/0963 | Loss: 0.1822\n",
            "Epoch: 014/015 | Batch 0700/0963 | Loss: 0.3116\n",
            "Epoch: 014/015 | Batch 0800/0963 | Loss: 0.0985\n",
            "Epoch: 014/015 | Batch 0900/0963 | Loss: 0.3073\n",
            "Epoch: 014/015 | Train: 93.64% | Validation: 75.27%\n",
            "Time elapsed: 39.34 min\n",
            "Epoch: 015/015 | Batch 0000/0963 | Loss: 0.2251\n",
            "Epoch: 015/015 | Batch 0100/0963 | Loss: 0.1215\n",
            "Epoch: 015/015 | Batch 0200/0963 | Loss: 0.2350\n",
            "Epoch: 015/015 | Batch 0300/0963 | Loss: 0.2753\n",
            "Epoch: 015/015 | Batch 0400/0963 | Loss: 0.1262\n",
            "Epoch: 015/015 | Batch 0500/0963 | Loss: 0.1682\n",
            "Epoch: 015/015 | Batch 0600/0963 | Loss: 0.2454\n",
            "Epoch: 015/015 | Batch 0700/0963 | Loss: 0.0936\n",
            "Epoch: 015/015 | Batch 0800/0963 | Loss: 0.2107\n",
            "Epoch: 015/015 | Batch 0900/0963 | Loss: 0.1594\n",
            "Epoch: 015/015 | Train: 94.15% | Validation: 74.06%\n",
            "Time elapsed: 42.15 min\n",
            "Total Training Time: 42.15 min\n",
            "Test accuracy 74.44%\n"
          ]
        }
      ],
      "source": [
        "LEARNING_RATE = 0.001\n",
        "NUM_LAYERS = 3\n",
        "\n",
        "\n",
        "model = LSTM(input_dim=len(vocab),\n",
        "             embedding_dim=EMBEDDING_DIM,\n",
        "             hidden_dim=HIDDEN_DIM,\n",
        "             output_dim=NUM_CLASSES, #5\n",
        "             num_layers=NUM_LAYERS\n",
        ")\n",
        "\n",
        "model = model.to(DEVICE)\n",
        "\n",
        "optimizer = torch.optim.Adam(model.parameters(), lr=LEARNING_RATE)\n",
        "scheduler = torch.optim.lr_scheduler.ReduceLROnPlateau(optimizer,\n",
        "                                                       factor=0.1,\n",
        "                                                       mode='max',\n",
        "                                                       verbose=True)\n",
        "\n",
        "acc_history, loss_history = train_model(\n",
        "    model=model,\n",
        "    num_epochs=NUM_EPOCHS,\n",
        "    train_loader=train_loader,\n",
        "    valid_loader=valid_loader,\n",
        "    test_loader=test_loader,\n",
        "    optimizer=optimizer,\n",
        "    device=DEVICE,\n",
        "    logging_interval=100)"
      ]
    },
    {
      "cell_type": "code",
      "execution_count": null,
      "metadata": {
        "id": "iX8Af_sy5NgD",
        "colab": {
          "base_uri": "https://localhost:8080/",
          "height": 328
        },
        "outputId": "f272d098-7ed3-4903-9bae-b42397783000"
      },
      "outputs": [
        {
          "output_type": "display_data",
          "data": {
            "text/plain": [
              "<Figure size 1000x500 with 2 Axes>"
            ],
            "image/png": "[encoded data removed]"
          },
          "metadata": {}
        }
      ],
      "source": [
        "info_to_plot(result=[acc_history, loss_history], epoch=NUM_EPOCHS-1)"
      ]
    },
    {
      "cell_type": "markdown",
      "metadata": {
        "id": "MZgy_4hemG5c"
      },
      "source": [
        "### RNN - ONE LAYER"
      ]
    },
    {
      "cell_type": "code",
      "execution_count": null,
      "metadata": {
        "colab": {
          "base_uri": "https://localhost:8080/"
        },
        "id": "xVEKLHYTmHT2",
        "outputId": "d7437963-6f5d-42ec-84e6-3cc471d60545"
      },
      "outputs": [
        {
          "name": "stderr",
          "output_type": "stream",
          "text": [
            "<ipython-input-48-20b15ae9468d>:19: UserWarning: To copy construct from a tensor, it is recommended to use sourceTensor.clone().detach() or sourceTensor.clone().detach().requires_grad_(True), rather than torch.tensor(sourceTensor).\n",
            "  text = torch.tensor(text, dtype=torch.long).clone().detach()\n"
          ]
        },
        {
          "name": "stdout",
          "output_type": "stream",
          "text": [
            "Epoch: 001/015 | Batch 0000/0963 | Loss: 1.5525\n",
            "Epoch: 001/015 | Batch 0100/0963 | Loss: 0.9908\n",
            "Epoch: 001/015 | Batch 0200/0963 | Loss: 0.8791\n",
            "Epoch: 001/015 | Batch 0300/0963 | Loss: 0.6763\n",
            "Epoch: 001/015 | Batch 0400/0963 | Loss: 1.1206\n",
            "Epoch: 001/015 | Batch 0500/0963 | Loss: 0.9484\n",
            "Epoch: 001/015 | Batch 0600/0963 | Loss: 0.9425\n",
            "Epoch: 001/015 | Batch 0700/0963 | Loss: 0.8989\n",
            "Epoch: 001/015 | Batch 0800/0963 | Loss: 0.8070\n",
            "Epoch: 001/015 | Batch 0900/0963 | Loss: 0.9796\n",
            "Epoch: 001/015 | Train: 72.79% | Validation: 72.58%\n",
            "Time elapsed: 0.47 min\n",
            "Epoch: 002/015 | Batch 0000/0963 | Loss: 0.7610\n",
            "Epoch: 002/015 | Batch 0100/0963 | Loss: 0.8194\n",
            "Epoch: 002/015 | Batch 0200/0963 | Loss: 0.6716\n",
            "Epoch: 002/015 | Batch 0300/0963 | Loss: 1.0813\n",
            "Epoch: 002/015 | Batch 0400/0963 | Loss: 0.8828\n",
            "Epoch: 002/015 | Batch 0500/0963 | Loss: 0.7990\n",
            "Epoch: 002/015 | Batch 0600/0963 | Loss: 0.9673\n",
            "Epoch: 002/015 | Batch 0700/0963 | Loss: 0.6653\n",
            "Epoch: 002/015 | Batch 0800/0963 | Loss: 0.7484\n",
            "Epoch: 002/015 | Batch 0900/0963 | Loss: 0.9194\n",
            "Epoch: 002/015 | Train: 72.79% | Validation: 72.47%\n",
            "Time elapsed: 0.96 min\n",
            "Epoch: 003/015 | Batch 0000/0963 | Loss: 0.9031\n",
            "Epoch: 003/015 | Batch 0100/0963 | Loss: 0.4509\n",
            "Epoch: 003/015 | Batch 0200/0963 | Loss: 0.5442\n",
            "Epoch: 003/015 | Batch 0300/0963 | Loss: 1.0084\n",
            "Epoch: 003/015 | Batch 0400/0963 | Loss: 0.8816\n",
            "Epoch: 003/015 | Batch 0500/0963 | Loss: 1.0517\n",
            "Epoch: 003/015 | Batch 0600/0963 | Loss: 0.7763\n",
            "Epoch: 003/015 | Batch 0700/0963 | Loss: 0.9926\n",
            "Epoch: 003/015 | Batch 0800/0963 | Loss: 0.9733\n",
            "Epoch: 003/015 | Batch 0900/0963 | Loss: 1.1477\n",
            "Epoch: 003/015 | Train: 72.82% | Validation: 72.61%\n",
            "Time elapsed: 1.43 min\n",
            "Epoch: 004/015 | Batch 0000/0963 | Loss: 0.8484\n",
            "Epoch: 004/015 | Batch 0100/0963 | Loss: 0.6593\n",
            "Epoch: 004/015 | Batch 0200/0963 | Loss: 0.6669\n",
            "Epoch: 004/015 | Batch 0300/0963 | Loss: 0.9689\n",
            "Epoch: 004/015 | Batch 0400/0963 | Loss: 1.0530\n",
            "Epoch: 004/015 | Batch 0500/0963 | Loss: 0.8357\n",
            "Epoch: 004/015 | Batch 0600/0963 | Loss: 0.9189\n",
            "Epoch: 004/015 | Batch 0700/0963 | Loss: 0.9111\n",
            "Epoch: 004/015 | Batch 0800/0963 | Loss: 0.8160\n",
            "Epoch: 004/015 | Batch 0900/0963 | Loss: 1.0223\n",
            "Epoch: 004/015 | Train: 72.86% | Validation: 72.52%\n",
            "Time elapsed: 1.91 min\n",
            "Epoch: 005/015 | Batch 0000/0963 | Loss: 0.7720\n",
            "Epoch: 005/015 | Batch 0100/0963 | Loss: 0.8677\n",
            "Epoch: 005/015 | Batch 0200/0963 | Loss: 1.0691\n",
            "Epoch: 005/015 | Batch 0300/0963 | Loss: 1.0901\n",
            "Epoch: 005/015 | Batch 0400/0963 | Loss: 0.8447\n",
            "Epoch: 005/015 | Batch 0500/0963 | Loss: 0.7399\n",
            "Epoch: 005/015 | Batch 0600/0963 | Loss: 0.9104\n",
            "Epoch: 005/015 | Batch 0700/0963 | Loss: 1.1475\n",
            "Epoch: 005/015 | Batch 0800/0963 | Loss: 1.0419\n",
            "Epoch: 005/015 | Batch 0900/0963 | Loss: 0.9157\n",
            "Epoch: 005/015 | Train: 72.93% | Validation: 72.57%\n",
            "Time elapsed: 2.39 min\n",
            "Epoch: 006/015 | Batch 0000/0963 | Loss: 0.7401\n",
            "Epoch: 006/015 | Batch 0100/0963 | Loss: 0.9039\n",
            "Epoch: 006/015 | Batch 0200/0963 | Loss: 0.9956\n",
            "Epoch: 006/015 | Batch 0300/0963 | Loss: 0.8429\n",
            "Epoch: 006/015 | Batch 0400/0963 | Loss: 0.7269\n",
            "Epoch: 006/015 | Batch 0500/0963 | Loss: 0.5905\n",
            "Epoch: 006/015 | Batch 0600/0963 | Loss: 1.1227\n",
            "Epoch: 006/015 | Batch 0700/0963 | Loss: 1.0197\n",
            "Epoch: 006/015 | Batch 0800/0963 | Loss: 0.7686\n",
            "Epoch: 006/015 | Batch 0900/0963 | Loss: 0.8592\n",
            "Epoch: 006/015 | Train: 72.95% | Validation: 72.52%\n",
            "Time elapsed: 2.87 min\n",
            "Epoch: 007/015 | Batch 0000/0963 | Loss: 0.8986\n",
            "Epoch: 007/015 | Batch 0100/0963 | Loss: 0.8768\n",
            "Epoch: 007/015 | Batch 0200/0963 | Loss: 0.8944\n",
            "Epoch: 007/015 | Batch 0300/0963 | Loss: 0.9886\n",
            "Epoch: 007/015 | Batch 0400/0963 | Loss: 0.8612\n",
            "Epoch: 007/015 | Batch 0500/0963 | Loss: 0.9139\n",
            "Epoch: 007/015 | Batch 0600/0963 | Loss: 0.7307\n",
            "Epoch: 007/015 | Batch 0700/0963 | Loss: 0.8444\n",
            "Epoch: 007/015 | Batch 0800/0963 | Loss: 0.8434\n",
            "Epoch: 007/015 | Batch 0900/0963 | Loss: 0.7075\n",
            "Epoch: 007/015 | Train: 73.03% | Validation: 72.48%\n",
            "Time elapsed: 3.34 min\n",
            "Epoch: 008/015 | Batch 0000/0963 | Loss: 0.8098\n",
            "Epoch: 008/015 | Batch 0100/0963 | Loss: 0.8222\n",
            "Epoch: 008/015 | Batch 0200/0963 | Loss: 0.9921\n",
            "Epoch: 008/015 | Batch 0300/0963 | Loss: 0.9544\n",
            "Epoch: 008/015 | Batch 0400/0963 | Loss: 1.0156\n",
            "Epoch: 008/015 | Batch 0500/0963 | Loss: 0.7478\n",
            "Epoch: 008/015 | Batch 0600/0963 | Loss: 0.9557\n",
            "Epoch: 008/015 | Batch 0700/0963 | Loss: 0.6870\n",
            "Epoch: 008/015 | Batch 0800/0963 | Loss: 0.8068\n",
            "Epoch: 008/015 | Batch 0900/0963 | Loss: 0.8443\n",
            "Epoch: 008/015 | Train: 73.09% | Validation: 72.45%\n",
            "Time elapsed: 3.84 min\n",
            "Epoch: 009/015 | Batch 0000/0963 | Loss: 0.8761\n",
            "Epoch: 009/015 | Batch 0100/0963 | Loss: 0.8517\n",
            "Epoch: 009/015 | Batch 0200/0963 | Loss: 0.8122\n",
            "Epoch: 009/015 | Batch 0300/0963 | Loss: 0.7892\n",
            "Epoch: 009/015 | Batch 0400/0963 | Loss: 1.1637\n",
            "Epoch: 009/015 | Batch 0500/0963 | Loss: 0.9200\n",
            "Epoch: 009/015 | Batch 0600/0963 | Loss: 1.1288\n",
            "Epoch: 009/015 | Batch 0700/0963 | Loss: 0.9192\n",
            "Epoch: 009/015 | Batch 0800/0963 | Loss: 1.0604\n",
            "Epoch: 009/015 | Batch 0900/0963 | Loss: 0.9539\n",
            "Epoch: 009/015 | Train: 73.16% | Validation: 72.53%\n",
            "Time elapsed: 4.32 min\n",
            "Epoch: 010/015 | Batch 0000/0963 | Loss: 0.9395\n",
            "Epoch: 010/015 | Batch 0100/0963 | Loss: 0.6779\n",
            "Epoch: 010/015 | Batch 0200/0963 | Loss: 0.8781\n",
            "Epoch: 010/015 | Batch 0300/0963 | Loss: 0.7943\n",
            "Epoch: 010/015 | Batch 0400/0963 | Loss: 0.9154\n",
            "Epoch: 010/015 | Batch 0500/0963 | Loss: 0.9615\n",
            "Epoch: 010/015 | Batch 0600/0963 | Loss: 0.8853\n",
            "Epoch: 010/015 | Batch 0700/0963 | Loss: 0.5877\n",
            "Epoch: 010/015 | Batch 0800/0963 | Loss: 1.0616\n",
            "Epoch: 010/015 | Batch 0900/0963 | Loss: 0.8449\n",
            "Epoch: 010/015 | Train: 73.20% | Validation: 72.58%\n",
            "Time elapsed: 4.79 min\n",
            "Epoch: 011/015 | Batch 0000/0963 | Loss: 0.7467\n",
            "Epoch: 011/015 | Batch 0100/0963 | Loss: 0.7737\n",
            "Epoch: 011/015 | Batch 0200/0963 | Loss: 0.8521\n",
            "Epoch: 011/015 | Batch 0300/0963 | Loss: 1.0759\n",
            "Epoch: 011/015 | Batch 0400/0963 | Loss: 0.8155\n",
            "Epoch: 011/015 | Batch 0500/0963 | Loss: 0.7031\n",
            "Epoch: 011/015 | Batch 0600/0963 | Loss: 0.9569\n",
            "Epoch: 011/015 | Batch 0700/0963 | Loss: 0.6859\n",
            "Epoch: 011/015 | Batch 0800/0963 | Loss: 0.7332\n",
            "Epoch: 011/015 | Batch 0900/0963 | Loss: 1.2140\n",
            "Epoch: 011/015 | Train: 73.27% | Validation: 72.53%\n",
            "Time elapsed: 5.27 min\n",
            "Epoch: 012/015 | Batch 0000/0963 | Loss: 0.6714\n",
            "Epoch: 012/015 | Batch 0100/0963 | Loss: 0.7181\n",
            "Epoch: 012/015 | Batch 0200/0963 | Loss: 0.8111\n",
            "Epoch: 012/015 | Batch 0300/0963 | Loss: 0.8748\n",
            "Epoch: 012/015 | Batch 0400/0963 | Loss: 0.8119\n",
            "Epoch: 012/015 | Batch 0500/0963 | Loss: 0.9100\n",
            "Epoch: 012/015 | Batch 0600/0963 | Loss: 0.7135\n",
            "Epoch: 012/015 | Batch 0700/0963 | Loss: 0.7858\n",
            "Epoch: 012/015 | Batch 0800/0963 | Loss: 1.1239\n",
            "Epoch: 012/015 | Batch 0900/0963 | Loss: 1.0162\n",
            "Epoch: 012/015 | Train: 73.22% | Validation: 72.51%\n",
            "Time elapsed: 5.75 min\n",
            "Epoch: 013/015 | Batch 0000/0963 | Loss: 0.9642\n",
            "Epoch: 013/015 | Batch 0100/0963 | Loss: 0.8234\n",
            "Epoch: 013/015 | Batch 0200/0963 | Loss: 0.8960\n",
            "Epoch: 013/015 | Batch 0300/0963 | Loss: 0.9304\n",
            "Epoch: 013/015 | Batch 0400/0963 | Loss: 0.9287\n",
            "Epoch: 013/015 | Batch 0500/0963 | Loss: 0.9094\n",
            "Epoch: 013/015 | Batch 0600/0963 | Loss: 0.9205\n",
            "Epoch: 013/015 | Batch 0700/0963 | Loss: 0.7122\n",
            "Epoch: 013/015 | Batch 0800/0963 | Loss: 0.8501\n",
            "Epoch: 013/015 | Batch 0900/0963 | Loss: 0.8449\n",
            "Epoch: 013/015 | Train: 73.27% | Validation: 72.49%\n",
            "Time elapsed: 6.22 min\n",
            "Epoch: 014/015 | Batch 0000/0963 | Loss: 1.0007\n",
            "Epoch: 014/015 | Batch 0100/0963 | Loss: 0.7903\n",
            "Epoch: 014/015 | Batch 0200/0963 | Loss: 0.9296\n",
            "Epoch: 014/015 | Batch 0300/0963 | Loss: 0.6331\n",
            "Epoch: 014/015 | Batch 0400/0963 | Loss: 0.9394\n",
            "Epoch: 014/015 | Batch 0500/0963 | Loss: 0.7534\n",
            "Epoch: 014/015 | Batch 0600/0963 | Loss: 0.7420\n",
            "Epoch: 014/015 | Batch 0700/0963 | Loss: 1.0517\n",
            "Epoch: 014/015 | Batch 0800/0963 | Loss: 0.9880\n",
            "Epoch: 014/015 | Batch 0900/0963 | Loss: 0.9113\n",
            "Epoch: 014/015 | Train: 73.28% | Validation: 72.51%\n",
            "Time elapsed: 6.69 min\n",
            "Epoch: 015/015 | Batch 0000/0963 | Loss: 0.9117\n",
            "Epoch: 015/015 | Batch 0100/0963 | Loss: 0.9041\n",
            "Epoch: 015/015 | Batch 0200/0963 | Loss: 0.8166\n",
            "Epoch: 015/015 | Batch 0300/0963 | Loss: 0.8663\n",
            "Epoch: 015/015 | Batch 0400/0963 | Loss: 0.7551\n",
            "Epoch: 015/015 | Batch 0500/0963 | Loss: 0.6072\n",
            "Epoch: 015/015 | Batch 0600/0963 | Loss: 0.7414\n",
            "Epoch: 015/015 | Batch 0700/0963 | Loss: 0.9198\n",
            "Epoch: 015/015 | Batch 0800/0963 | Loss: 0.7312\n",
            "Epoch: 015/015 | Batch 0900/0963 | Loss: 1.0290\n",
            "Epoch: 015/015 | Train: 73.27% | Validation: 72.54%\n",
            "Time elapsed: 7.17 min\n",
            "Total Training Time: 7.17 min\n",
            "Test accuracy 73.49%\n"
          ]
        }
      ],
      "source": [
        "LEARNING_RATE = 0.0005\n",
        "NUM_LAYERS = 1\n",
        "\n",
        "model = RNN(input_dim=len(vocab),\n",
        "             embedding_dim=EMBEDDING_DIM,\n",
        "             hidden_dim=HIDDEN_DIM,\n",
        "             output_dim=NUM_CLASSES, #5\n",
        "             num_layers=NUM_LAYERS\n",
        ")\n",
        "\n",
        "model = model.to(DEVICE)\n",
        "\n",
        "optimizer = torch.optim.Adam(model.parameters(), lr=LEARNING_RATE)\n",
        "scheduler = torch.optim.lr_scheduler.ReduceLROnPlateau(optimizer,\n",
        "                                                       factor=0.1,\n",
        "                                                       mode='max',\n",
        "                                                       verbose=True)\n",
        "\n",
        "acc_history, loss_history = train_model(\n",
        "    model=model,\n",
        "    num_epochs=NUM_EPOCHS,\n",
        "    train_loader=train_loader,\n",
        "    valid_loader=valid_loader,\n",
        "    test_loader=test_loader,\n",
        "    optimizer=optimizer,\n",
        "    device=DEVICE,\n",
        "    logging_interval=100)"
      ]
    },
    {
      "cell_type": "code",
      "execution_count": null,
      "metadata": {
        "colab": {
          "base_uri": "https://localhost:8080/",
          "height": 501
        },
        "id": "CgOepK3BtbcY",
        "outputId": "9cc8546b-af3a-411c-d5ee-b924e63329e2"
      },
      "outputs": [
        {
          "data": {
            "image/png": "[encoded data removed]",
            "text/plain": [
              "<Figure size 1000x500 with 2 Axes>"
            ]
          },
          "metadata": {},
          "output_type": "display_data"
        }
      ],
      "source": [
        "info_to_plot([acc_history, loss_history], NUM_EPOCHS-1)"
      ]
    },
    {
      "cell_type": "markdown",
      "metadata": {
        "id": "WzlSdo2Ptzx9"
      },
      "source": [
        "### RNN - TWO LAYER"
      ]
    },
    {
      "cell_type": "code",
      "execution_count": null,
      "metadata": {
        "colab": {
          "base_uri": "https://localhost:8080/"
        },
        "id": "FEeSG-Q2tk3R",
        "outputId": "2f2555ea-ede2-4b20-fe9d-8d36a4a856ce"
      },
      "outputs": [
        {
          "name": "stderr",
          "output_type": "stream",
          "text": [
            "<ipython-input-48-20b15ae9468d>:19: UserWarning: To copy construct from a tensor, it is recommended to use sourceTensor.clone().detach() or sourceTensor.clone().detach().requires_grad_(True), rather than torch.tensor(sourceTensor).\n",
            "  text = torch.tensor(text, dtype=torch.long).clone().detach()\n"
          ]
        },
        {
          "name": "stdout",
          "output_type": "stream",
          "text": [
            "Epoch: 001/015 | Batch 0000/0963 | Loss: 1.6110\n",
            "Epoch: 001/015 | Batch 0100/0963 | Loss: 0.6482\n",
            "Epoch: 001/015 | Batch 0200/0963 | Loss: 0.9158\n",
            "Epoch: 001/015 | Batch 0300/0963 | Loss: 0.9060\n",
            "Epoch: 001/015 | Batch 0400/0963 | Loss: 0.9892\n",
            "Epoch: 001/015 | Batch 0500/0963 | Loss: 0.7186\n",
            "Epoch: 001/015 | Batch 0600/0963 | Loss: 1.0109\n",
            "Epoch: 001/015 | Batch 0700/0963 | Loss: 0.8373\n",
            "Epoch: 001/015 | Batch 0800/0963 | Loss: 0.9129\n",
            "Epoch: 001/015 | Batch 0900/0963 | Loss: 0.7905\n",
            "Epoch: 001/015 | Train: 72.74% | Validation: 72.60%\n",
            "Time elapsed: 0.67 min\n",
            "Epoch: 002/015 | Batch 0000/0963 | Loss: 0.6527\n",
            "Epoch: 002/015 | Batch 0100/0963 | Loss: 0.8363\n",
            "Epoch: 002/015 | Batch 0200/0963 | Loss: 1.0239\n",
            "Epoch: 002/015 | Batch 0300/0963 | Loss: 0.8558\n",
            "Epoch: 002/015 | Batch 0400/0963 | Loss: 0.9687\n",
            "Epoch: 002/015 | Batch 0500/0963 | Loss: 1.0336\n",
            "Epoch: 002/015 | Batch 0600/0963 | Loss: 0.8352\n",
            "Epoch: 002/015 | Batch 0700/0963 | Loss: 1.0062\n",
            "Epoch: 002/015 | Batch 0800/0963 | Loss: 1.0808\n",
            "Epoch: 002/015 | Batch 0900/0963 | Loss: 1.0645\n",
            "Epoch: 002/015 | Train: 72.79% | Validation: 72.60%\n",
            "Time elapsed: 1.35 min\n",
            "Epoch: 003/015 | Batch 0000/0963 | Loss: 0.9120\n",
            "Epoch: 003/015 | Batch 0100/0963 | Loss: 1.0093\n",
            "Epoch: 003/015 | Batch 0200/0963 | Loss: 0.7429\n",
            "Epoch: 003/015 | Batch 0300/0963 | Loss: 0.8578\n",
            "Epoch: 003/015 | Batch 0400/0963 | Loss: 0.9006\n",
            "Epoch: 003/015 | Batch 0500/0963 | Loss: 0.8348\n",
            "Epoch: 003/015 | Batch 0600/0963 | Loss: 0.8675\n",
            "Epoch: 003/015 | Batch 0700/0963 | Loss: 0.7810\n",
            "Epoch: 003/015 | Batch 0800/0963 | Loss: 0.6957\n",
            "Epoch: 003/015 | Batch 0900/0963 | Loss: 1.1897\n",
            "Epoch: 003/015 | Train: 72.79% | Validation: 72.58%\n",
            "Time elapsed: 2.00 min\n",
            "Epoch: 004/015 | Batch 0000/0963 | Loss: 0.8755\n",
            "Epoch: 004/015 | Batch 0100/0963 | Loss: 0.9912\n",
            "Epoch: 004/015 | Batch 0200/0963 | Loss: 0.8905\n",
            "Epoch: 004/015 | Batch 0300/0963 | Loss: 0.8674\n",
            "Epoch: 004/015 | Batch 0400/0963 | Loss: 0.9224\n",
            "Epoch: 004/015 | Batch 0500/0963 | Loss: 0.8177\n",
            "Epoch: 004/015 | Batch 0600/0963 | Loss: 0.9947\n",
            "Epoch: 004/015 | Batch 0700/0963 | Loss: 0.9803\n",
            "Epoch: 004/015 | Batch 0800/0963 | Loss: 0.9483\n",
            "Epoch: 004/015 | Batch 0900/0963 | Loss: 0.9856\n",
            "Epoch: 004/015 | Train: 72.79% | Validation: 72.60%\n",
            "Time elapsed: 2.66 min\n",
            "Epoch: 005/015 | Batch 0000/0963 | Loss: 0.7749\n",
            "Epoch: 005/015 | Batch 0100/0963 | Loss: 0.9259\n",
            "Epoch: 005/015 | Batch 0200/0963 | Loss: 1.0020\n",
            "Epoch: 005/015 | Batch 0300/0963 | Loss: 1.0116\n",
            "Epoch: 005/015 | Batch 0400/0963 | Loss: 0.9509\n",
            "Epoch: 005/015 | Batch 0500/0963 | Loss: 0.9325\n",
            "Epoch: 005/015 | Batch 0600/0963 | Loss: 0.9204\n",
            "Epoch: 005/015 | Batch 0700/0963 | Loss: 0.7264\n",
            "Epoch: 005/015 | Batch 0800/0963 | Loss: 0.9931\n",
            "Epoch: 005/015 | Batch 0900/0963 | Loss: 0.9092\n",
            "Epoch: 005/015 | Train: 72.80% | Validation: 72.62%\n",
            "Time elapsed: 3.33 min\n",
            "Epoch: 006/015 | Batch 0000/0963 | Loss: 0.9768\n",
            "Epoch: 006/015 | Batch 0100/0963 | Loss: 0.8717\n",
            "Epoch: 006/015 | Batch 0200/0963 | Loss: 0.9771\n",
            "Epoch: 006/015 | Batch 0300/0963 | Loss: 0.7397\n",
            "Epoch: 006/015 | Batch 0400/0963 | Loss: 0.8295\n",
            "Epoch: 006/015 | Batch 0500/0963 | Loss: 1.0403\n",
            "Epoch: 006/015 | Batch 0600/0963 | Loss: 0.8428\n",
            "Epoch: 006/015 | Batch 0700/0963 | Loss: 0.8413\n",
            "Epoch: 006/015 | Batch 0800/0963 | Loss: 0.8511\n",
            "Epoch: 006/015 | Batch 0900/0963 | Loss: 0.8391\n",
            "Epoch: 006/015 | Train: 72.82% | Validation: 72.60%\n",
            "Time elapsed: 3.98 min\n",
            "Epoch: 007/015 | Batch 0000/0963 | Loss: 0.8445\n",
            "Epoch: 007/015 | Batch 0100/0963 | Loss: 0.8284\n",
            "Epoch: 007/015 | Batch 0200/0963 | Loss: 0.8453\n",
            "Epoch: 007/015 | Batch 0300/0963 | Loss: 1.0611\n",
            "Epoch: 007/015 | Batch 0400/0963 | Loss: 0.9027\n",
            "Epoch: 007/015 | Batch 0500/0963 | Loss: 1.2671\n",
            "Epoch: 007/015 | Batch 0600/0963 | Loss: 0.7598\n",
            "Epoch: 007/015 | Batch 0700/0963 | Loss: 0.7347\n",
            "Epoch: 007/015 | Batch 0800/0963 | Loss: 1.0639\n",
            "Epoch: 007/015 | Batch 0900/0963 | Loss: 0.9344\n",
            "Epoch: 007/015 | Train: 72.89% | Validation: 72.44%\n",
            "Time elapsed: 4.65 min\n",
            "Epoch: 008/015 | Batch 0000/0963 | Loss: 0.9101\n",
            "Epoch: 008/015 | Batch 0100/0963 | Loss: 1.0178\n",
            "Epoch: 008/015 | Batch 0200/0963 | Loss: 0.8674\n",
            "Epoch: 008/015 | Batch 0300/0963 | Loss: 0.9036\n",
            "Epoch: 008/015 | Batch 0400/0963 | Loss: 1.1031\n",
            "Epoch: 008/015 | Batch 0500/0963 | Loss: 0.6842\n",
            "Epoch: 008/015 | Batch 0600/0963 | Loss: 1.0046\n",
            "Epoch: 008/015 | Batch 0700/0963 | Loss: 0.8556\n",
            "Epoch: 008/015 | Batch 0800/0963 | Loss: 0.8088\n",
            "Epoch: 008/015 | Batch 0900/0963 | Loss: 0.9899\n",
            "Epoch: 008/015 | Train: 72.96% | Validation: 72.60%\n",
            "Time elapsed: 5.32 min\n",
            "Epoch: 009/015 | Batch 0000/0963 | Loss: 0.7713\n",
            "Epoch: 009/015 | Batch 0100/0963 | Loss: 0.8474\n",
            "Epoch: 009/015 | Batch 0200/0963 | Loss: 0.9078\n",
            "Epoch: 009/015 | Batch 0300/0963 | Loss: 0.5638\n",
            "Epoch: 009/015 | Batch 0400/0963 | Loss: 0.9651\n",
            "Epoch: 009/015 | Batch 0500/0963 | Loss: 0.7081\n",
            "Epoch: 009/015 | Batch 0600/0963 | Loss: 0.8890\n",
            "Epoch: 009/015 | Batch 0700/0963 | Loss: 1.0362\n",
            "Epoch: 009/015 | Batch 0800/0963 | Loss: 0.8716\n",
            "Epoch: 009/015 | Batch 0900/0963 | Loss: 1.2158\n",
            "Epoch: 009/015 | Train: 72.98% | Validation: 72.52%\n",
            "Time elapsed: 5.97 min\n",
            "Epoch: 010/015 | Batch 0000/0963 | Loss: 1.0126\n",
            "Epoch: 010/015 | Batch 0100/0963 | Loss: 0.9239\n",
            "Epoch: 010/015 | Batch 0200/0963 | Loss: 1.0177\n",
            "Epoch: 010/015 | Batch 0300/0963 | Loss: 0.7056\n",
            "Epoch: 010/015 | Batch 0400/0963 | Loss: 0.7891\n",
            "Epoch: 010/015 | Batch 0500/0963 | Loss: 0.7844\n",
            "Epoch: 010/015 | Batch 0600/0963 | Loss: 0.6355\n",
            "Epoch: 010/015 | Batch 0700/0963 | Loss: 1.0686\n",
            "Epoch: 010/015 | Batch 0800/0963 | Loss: 0.8448\n",
            "Epoch: 010/015 | Batch 0900/0963 | Loss: 0.6818\n",
            "Epoch: 010/015 | Train: 73.07% | Validation: 72.49%\n",
            "Time elapsed: 6.63 min\n",
            "Epoch: 011/015 | Batch 0000/0963 | Loss: 0.8749\n",
            "Epoch: 011/015 | Batch 0100/0963 | Loss: 0.8924\n",
            "Epoch: 011/015 | Batch 0200/0963 | Loss: 0.9039\n",
            "Epoch: 011/015 | Batch 0300/0963 | Loss: 0.7513\n",
            "Epoch: 011/015 | Batch 0400/0963 | Loss: 0.8775\n",
            "Epoch: 011/015 | Batch 0500/0963 | Loss: 0.7692\n",
            "Epoch: 011/015 | Batch 0600/0963 | Loss: 1.0327\n",
            "Epoch: 011/015 | Batch 0700/0963 | Loss: 1.0612\n",
            "Epoch: 011/015 | Batch 0800/0963 | Loss: 0.6722\n",
            "Epoch: 011/015 | Batch 0900/0963 | Loss: 0.6931\n",
            "Epoch: 011/015 | Train: 73.12% | Validation: 72.53%\n",
            "Time elapsed: 7.29 min\n",
            "Epoch: 012/015 | Batch 0000/0963 | Loss: 0.6122\n",
            "Epoch: 012/015 | Batch 0100/0963 | Loss: 0.9946\n",
            "Epoch: 012/015 | Batch 0200/0963 | Loss: 0.7660\n",
            "Epoch: 012/015 | Batch 0300/0963 | Loss: 0.9517\n",
            "Epoch: 012/015 | Batch 0400/0963 | Loss: 0.9620\n",
            "Epoch: 012/015 | Batch 0500/0963 | Loss: 0.8315\n",
            "Epoch: 012/015 | Batch 0600/0963 | Loss: 0.8488\n",
            "Epoch: 012/015 | Batch 0700/0963 | Loss: 1.0503\n",
            "Epoch: 012/015 | Batch 0800/0963 | Loss: 1.1827\n",
            "Epoch: 012/015 | Batch 0900/0963 | Loss: 0.8464\n",
            "Epoch: 012/015 | Train: 73.12% | Validation: 72.51%\n",
            "Time elapsed: 7.95 min\n",
            "Epoch: 013/015 | Batch 0000/0963 | Loss: 0.8308\n",
            "Epoch: 013/015 | Batch 0100/0963 | Loss: 0.9669\n",
            "Epoch: 013/015 | Batch 0200/0963 | Loss: 0.8636\n",
            "Epoch: 013/015 | Batch 0300/0963 | Loss: 0.7926\n",
            "Epoch: 013/015 | Batch 0400/0963 | Loss: 0.7297\n",
            "Epoch: 013/015 | Batch 0500/0963 | Loss: 0.6686\n",
            "Epoch: 013/015 | Batch 0600/0963 | Loss: 0.7627\n",
            "Epoch: 013/015 | Batch 0700/0963 | Loss: 0.7443\n",
            "Epoch: 013/015 | Batch 0800/0963 | Loss: 0.8904\n",
            "Epoch: 013/015 | Batch 0900/0963 | Loss: 0.9420\n",
            "Epoch: 013/015 | Train: 73.14% | Validation: 72.58%\n",
            "Time elapsed: 8.61 min\n",
            "Epoch: 014/015 | Batch 0000/0963 | Loss: 1.0091\n",
            "Epoch: 014/015 | Batch 0100/0963 | Loss: 0.7246\n",
            "Epoch: 014/015 | Batch 0200/0963 | Loss: 0.8366\n",
            "Epoch: 014/015 | Batch 0300/0963 | Loss: 1.0813\n",
            "Epoch: 014/015 | Batch 0400/0963 | Loss: 1.2856\n",
            "Epoch: 014/015 | Batch 0500/0963 | Loss: 1.2410\n",
            "Epoch: 014/015 | Batch 0600/0963 | Loss: 0.8573\n",
            "Epoch: 014/015 | Batch 0700/0963 | Loss: 1.0741\n",
            "Epoch: 014/015 | Batch 0800/0963 | Loss: 0.9034\n",
            "Epoch: 014/015 | Batch 0900/0963 | Loss: 0.9510\n",
            "Epoch: 014/015 | Train: 73.16% | Validation: 72.48%\n",
            "Time elapsed: 9.28 min\n",
            "Epoch: 015/015 | Batch 0000/0963 | Loss: 0.8271\n",
            "Epoch: 015/015 | Batch 0100/0963 | Loss: 0.7322\n",
            "Epoch: 015/015 | Batch 0200/0963 | Loss: 0.8586\n",
            "Epoch: 015/015 | Batch 0300/0963 | Loss: 0.9427\n",
            "Epoch: 015/015 | Batch 0400/0963 | Loss: 0.8110\n",
            "Epoch: 015/015 | Batch 0500/0963 | Loss: 0.8627\n",
            "Epoch: 015/015 | Batch 0600/0963 | Loss: 0.8832\n",
            "Epoch: 015/015 | Batch 0700/0963 | Loss: 0.7735\n",
            "Epoch: 015/015 | Batch 0800/0963 | Loss: 1.1056\n",
            "Epoch: 015/015 | Batch 0900/0963 | Loss: 0.8463\n",
            "Epoch: 015/015 | Train: 73.15% | Validation: 72.60%\n",
            "Time elapsed: 9.94 min\n",
            "Total Training Time: 9.94 min\n",
            "Test accuracy 73.60%\n"
          ]
        }
      ],
      "source": [
        "LEARNING_RATE = 0.001\n",
        "NUM_LAYERS =2\n",
        "\n",
        "model = RNN(input_dim=len(vocab),\n",
        "             embedding_dim=EMBEDDING_DIM,\n",
        "             hidden_dim=HIDDEN_DIM,\n",
        "             output_dim=NUM_CLASSES, #5\n",
        "             num_layers=NUM_LAYERS\n",
        ")\n",
        "\n",
        "model = model.to(DEVICE)\n",
        "\n",
        "optimizer = torch.optim.Adam(model.parameters(), lr=LEARNING_RATE)\n",
        "scheduler = torch.optim.lr_scheduler.ReduceLROnPlateau(optimizer,\n",
        "                                                       factor=0.1,\n",
        "                                                       mode='max',\n",
        "                                                       verbose=True)\n",
        "\n",
        "acc_history, loss_history = train_model(\n",
        "    model=model,\n",
        "    num_epochs=NUM_EPOCHS,\n",
        "    train_loader=train_loader,\n",
        "    valid_loader=valid_loader,\n",
        "    test_loader=test_loader,\n",
        "    optimizer=optimizer,\n",
        "    device=DEVICE,\n",
        "    logging_interval=100)"
      ]
    },
    {
      "cell_type": "code",
      "execution_count": null,
      "metadata": {
        "colab": {
          "base_uri": "https://localhost:8080/",
          "height": 503
        },
        "id": "jqq54964wCZd",
        "outputId": "9ff15d58-6481-41fe-eebf-ebf075ae5715"
      },
      "outputs": [
        {
          "data": {
            "image/png": "[encoded data removed]",
            "text/plain": [
              "<Figure size 1000x500 with 2 Axes>"
            ]
          },
          "metadata": {},
          "output_type": "display_data"
        }
      ],
      "source": [
        "info_to_plot([acc_history, loss_history], NUM_EPOCHS-1)"
      ]
    },
    {
      "cell_type": "markdown",
      "source": [
        "### RNN - THREE LAYER"
      ],
      "metadata": {
        "id": "GCoyCQJtzTta"
      }
    },
    {
      "cell_type": "code",
      "source": [
        "LEARNING_RATE = 0.001\n",
        "NUM_LAYERS = 3\n",
        "\n",
        "model = RNN(input_dim=len(vocab),\n",
        "             embedding_dim=EMBEDDING_DIM,\n",
        "             hidden_dim=HIDDEN_DIM,\n",
        "             output_dim=NUM_CLASSES, #5\n",
        "             num_layers=NUM_LAYERS\n",
        ")\n",
        "\n",
        "model = model.to(DEVICE)\n",
        "\n",
        "optimizer = torch.optim.Adam(model.parameters(), lr=LEARNING_RATE)\n",
        "scheduler = torch.optim.lr_scheduler.ReduceLROnPlateau(optimizer,\n",
        "                                                       factor=0.1,\n",
        "                                                       mode='max',\n",
        "                                                       verbose=True)\n",
        "\n",
        "acc_history, loss_history = train_model(\n",
        "    model=model,\n",
        "    num_epochs=NUM_EPOCHS,\n",
        "    train_loader=train_loader,\n",
        "    valid_loader=valid_loader,\n",
        "    test_loader=test_loader,\n",
        "    optimizer=optimizer,\n",
        "    device=DEVICE,\n",
        "    logging_interval=100)"
      ],
      "metadata": {
        "colab": {
          "base_uri": "https://localhost:8080/"
        },
        "id": "iJ1Kpuq2zXmF",
        "outputId": "fe0a78b9-94ac-4767-94e4-e3518e1dc160"
      },
      "execution_count": null,
      "outputs": [
        {
          "output_type": "stream",
          "name": "stdout",
          "text": [
            "Epoch: 001/015 | Batch 0000/0963 | Loss: 1.5580\n",
            "Epoch: 001/015 | Batch 0100/0963 | Loss: 0.6973\n",
            "Epoch: 001/015 | Batch 0200/0963 | Loss: 0.8577\n",
            "Epoch: 001/015 | Batch 0300/0963 | Loss: 0.9917\n",
            "Epoch: 001/015 | Batch 0400/0963 | Loss: 1.0416\n",
            "Epoch: 001/015 | Batch 0500/0963 | Loss: 1.1806\n",
            "Epoch: 001/015 | Batch 0600/0963 | Loss: 0.9131\n",
            "Epoch: 001/015 | Batch 0700/0963 | Loss: 1.0683\n",
            "Epoch: 001/015 | Batch 0800/0963 | Loss: 0.9227\n",
            "Epoch: 001/015 | Batch 0900/0963 | Loss: 0.6083\n",
            "Epoch: 001/015 | Train: 72.79% | Validation: 72.60%\n",
            "Time elapsed: 0.96 min\n",
            "Epoch: 002/015 | Batch 0000/0963 | Loss: 0.8709\n",
            "Epoch: 002/015 | Batch 0100/0963 | Loss: 0.9217\n",
            "Epoch: 002/015 | Batch 0200/0963 | Loss: 0.9912\n",
            "Epoch: 002/015 | Batch 0300/0963 | Loss: 0.6461\n",
            "Epoch: 002/015 | Batch 0400/0963 | Loss: 0.9959\n",
            "Epoch: 002/015 | Batch 0500/0963 | Loss: 0.7644\n",
            "Epoch: 002/015 | Batch 0600/0963 | Loss: 0.9616\n",
            "Epoch: 002/015 | Batch 0700/0963 | Loss: 0.7506\n",
            "Epoch: 002/015 | Batch 0800/0963 | Loss: 0.8829\n",
            "Epoch: 002/015 | Batch 0900/0963 | Loss: 0.8573\n",
            "Epoch: 002/015 | Train: 72.79% | Validation: 72.60%\n",
            "Time elapsed: 1.86 min\n",
            "Epoch: 003/015 | Batch 0000/0963 | Loss: 0.7344\n",
            "Epoch: 003/015 | Batch 0100/0963 | Loss: 0.9713\n",
            "Epoch: 003/015 | Batch 0200/0963 | Loss: 0.7438\n",
            "Epoch: 003/015 | Batch 0300/0963 | Loss: 0.7604\n",
            "Epoch: 003/015 | Batch 0400/0963 | Loss: 0.8293\n",
            "Epoch: 003/015 | Batch 0500/0963 | Loss: 0.9206\n",
            "Epoch: 003/015 | Batch 0600/0963 | Loss: 0.9655\n",
            "Epoch: 003/015 | Batch 0700/0963 | Loss: 0.7413\n",
            "Epoch: 003/015 | Batch 0800/0963 | Loss: 0.9028\n",
            "Epoch: 003/015 | Batch 0900/0963 | Loss: 0.9653\n",
            "Epoch: 003/015 | Train: 72.79% | Validation: 72.60%\n",
            "Time elapsed: 2.76 min\n",
            "Epoch: 004/015 | Batch 0000/0963 | Loss: 1.0233\n",
            "Epoch: 004/015 | Batch 0100/0963 | Loss: 0.9198\n",
            "Epoch: 004/015 | Batch 0200/0963 | Loss: 0.8657\n",
            "Epoch: 004/015 | Batch 0300/0963 | Loss: 0.7613\n",
            "Epoch: 004/015 | Batch 0400/0963 | Loss: 1.1301\n",
            "Epoch: 004/015 | Batch 0500/0963 | Loss: 1.0920\n",
            "Epoch: 004/015 | Batch 0600/0963 | Loss: 0.7928\n",
            "Epoch: 004/015 | Batch 0700/0963 | Loss: 0.8786\n",
            "Epoch: 004/015 | Batch 0800/0963 | Loss: 0.9000\n",
            "Epoch: 004/015 | Batch 0900/0963 | Loss: 0.8925\n",
            "Epoch: 004/015 | Train: 72.79% | Validation: 72.60%\n",
            "Time elapsed: 3.65 min\n",
            "Epoch: 005/015 | Batch 0000/0963 | Loss: 0.9887\n",
            "Epoch: 005/015 | Batch 0100/0963 | Loss: 0.8984\n",
            "Epoch: 005/015 | Batch 0200/0963 | Loss: 0.7857\n",
            "Epoch: 005/015 | Batch 0300/0963 | Loss: 0.8303\n",
            "Epoch: 005/015 | Batch 0400/0963 | Loss: 0.8038\n",
            "Epoch: 005/015 | Batch 0500/0963 | Loss: 0.8503\n",
            "Epoch: 005/015 | Batch 0600/0963 | Loss: 0.7848\n",
            "Epoch: 005/015 | Batch 0700/0963 | Loss: 1.0340\n",
            "Epoch: 005/015 | Batch 0800/0963 | Loss: 0.8896\n",
            "Epoch: 005/015 | Batch 0900/0963 | Loss: 0.7385\n",
            "Epoch: 005/015 | Train: 72.81% | Validation: 72.61%\n",
            "Time elapsed: 4.53 min\n",
            "Epoch: 006/015 | Batch 0000/0963 | Loss: 1.0968\n",
            "Epoch: 006/015 | Batch 0100/0963 | Loss: 0.8505\n",
            "Epoch: 006/015 | Batch 0200/0963 | Loss: 0.7598\n",
            "Epoch: 006/015 | Batch 0300/0963 | Loss: 0.6878\n",
            "Epoch: 006/015 | Batch 0400/0963 | Loss: 0.8410\n",
            "Epoch: 006/015 | Batch 0500/0963 | Loss: 0.7222\n",
            "Epoch: 006/015 | Batch 0600/0963 | Loss: 0.9236\n",
            "Epoch: 006/015 | Batch 0700/0963 | Loss: 0.9597\n",
            "Epoch: 006/015 | Batch 0800/0963 | Loss: 1.0998\n",
            "Epoch: 006/015 | Batch 0900/0963 | Loss: 0.8962\n",
            "Epoch: 006/015 | Train: 72.85% | Validation: 72.56%\n",
            "Time elapsed: 5.42 min\n",
            "Epoch: 007/015 | Batch 0000/0963 | Loss: 0.8316\n",
            "Epoch: 007/015 | Batch 0100/0963 | Loss: 1.1191\n",
            "Epoch: 007/015 | Batch 0200/0963 | Loss: 0.9774\n",
            "Epoch: 007/015 | Batch 0300/0963 | Loss: 0.7939\n",
            "Epoch: 007/015 | Batch 0400/0963 | Loss: 1.0199\n",
            "Epoch: 007/015 | Batch 0500/0963 | Loss: 0.7798\n",
            "Epoch: 007/015 | Batch 0600/0963 | Loss: 0.8526\n",
            "Epoch: 007/015 | Batch 0700/0963 | Loss: 0.8229\n",
            "Epoch: 007/015 | Batch 0800/0963 | Loss: 0.8566\n",
            "Epoch: 007/015 | Batch 0900/0963 | Loss: 1.1100\n",
            "Epoch: 007/015 | Train: 72.87% | Validation: 72.58%\n",
            "Time elapsed: 6.30 min\n",
            "Epoch: 008/015 | Batch 0000/0963 | Loss: 1.2607\n",
            "Epoch: 008/015 | Batch 0100/0963 | Loss: 0.8947\n",
            "Epoch: 008/015 | Batch 0200/0963 | Loss: 0.7989\n",
            "Epoch: 008/015 | Batch 0300/0963 | Loss: 0.9286\n",
            "Epoch: 008/015 | Batch 0400/0963 | Loss: 1.0208\n",
            "Epoch: 008/015 | Batch 0500/0963 | Loss: 0.8862\n",
            "Epoch: 008/015 | Batch 0600/0963 | Loss: 0.9198\n",
            "Epoch: 008/015 | Batch 0700/0963 | Loss: 0.7943\n",
            "Epoch: 008/015 | Batch 0800/0963 | Loss: 0.9725\n",
            "Epoch: 008/015 | Batch 0900/0963 | Loss: 1.0690\n",
            "Epoch: 008/015 | Train: 72.92% | Validation: 72.47%\n",
            "Time elapsed: 7.19 min\n",
            "Epoch: 009/015 | Batch 0000/0963 | Loss: 0.9354\n",
            "Epoch: 009/015 | Batch 0100/0963 | Loss: 0.7487\n",
            "Epoch: 009/015 | Batch 0200/0963 | Loss: 0.8820\n",
            "Epoch: 009/015 | Batch 0300/0963 | Loss: 0.8724\n",
            "Epoch: 009/015 | Batch 0400/0963 | Loss: 0.8389\n",
            "Epoch: 009/015 | Batch 0500/0963 | Loss: 0.6659\n",
            "Epoch: 009/015 | Batch 0600/0963 | Loss: 1.0963\n",
            "Epoch: 009/015 | Batch 0700/0963 | Loss: 0.9279\n",
            "Epoch: 009/015 | Batch 0800/0963 | Loss: 0.8389\n",
            "Epoch: 009/015 | Batch 0900/0963 | Loss: 0.7300\n",
            "Epoch: 009/015 | Train: 72.94% | Validation: 72.57%\n",
            "Time elapsed: 8.08 min\n",
            "Epoch: 010/015 | Batch 0000/0963 | Loss: 0.8630\n",
            "Epoch: 010/015 | Batch 0100/0963 | Loss: 0.7636\n",
            "Epoch: 010/015 | Batch 0200/0963 | Loss: 1.0610\n",
            "Epoch: 010/015 | Batch 0300/0963 | Loss: 0.9886\n",
            "Epoch: 010/015 | Batch 0400/0963 | Loss: 0.8924\n",
            "Epoch: 010/015 | Batch 0500/0963 | Loss: 0.8938\n",
            "Epoch: 010/015 | Batch 0600/0963 | Loss: 1.0450\n",
            "Epoch: 010/015 | Batch 0700/0963 | Loss: 0.7659\n",
            "Epoch: 010/015 | Batch 0800/0963 | Loss: 1.1144\n",
            "Epoch: 010/015 | Batch 0900/0963 | Loss: 0.7892\n",
            "Epoch: 010/015 | Train: 72.97% | Validation: 72.60%\n",
            "Time elapsed: 8.96 min\n",
            "Epoch: 011/015 | Batch 0000/0963 | Loss: 0.8949\n",
            "Epoch: 011/015 | Batch 0100/0963 | Loss: 0.7217\n",
            "Epoch: 011/015 | Batch 0200/0963 | Loss: 0.8384\n",
            "Epoch: 011/015 | Batch 0300/0963 | Loss: 0.7540\n",
            "Epoch: 011/015 | Batch 0400/0963 | Loss: 0.8765\n",
            "Epoch: 011/015 | Batch 0500/0963 | Loss: 0.7085\n",
            "Epoch: 011/015 | Batch 0600/0963 | Loss: 0.9660\n",
            "Epoch: 011/015 | Batch 0700/0963 | Loss: 0.9784\n",
            "Epoch: 011/015 | Batch 0800/0963 | Loss: 0.6942\n",
            "Epoch: 011/015 | Batch 0900/0963 | Loss: 0.8341\n",
            "Epoch: 011/015 | Train: 73.05% | Validation: 72.61%\n",
            "Time elapsed: 9.85 min\n",
            "Epoch: 012/015 | Batch 0000/0963 | Loss: 0.8118\n",
            "Epoch: 012/015 | Batch 0100/0963 | Loss: 1.0830\n",
            "Epoch: 012/015 | Batch 0200/0963 | Loss: 0.8003\n",
            "Epoch: 012/015 | Batch 0300/0963 | Loss: 0.7837\n",
            "Epoch: 012/015 | Batch 0400/0963 | Loss: 0.8940\n",
            "Epoch: 012/015 | Batch 0500/0963 | Loss: 1.0018\n",
            "Epoch: 012/015 | Batch 0600/0963 | Loss: 0.9111\n",
            "Epoch: 012/015 | Batch 0700/0963 | Loss: 0.7677\n",
            "Epoch: 012/015 | Batch 0800/0963 | Loss: 1.0521\n",
            "Epoch: 012/015 | Batch 0900/0963 | Loss: 1.0364\n",
            "Epoch: 012/015 | Train: 73.04% | Validation: 72.58%\n",
            "Time elapsed: 10.74 min\n",
            "Epoch: 013/015 | Batch 0000/0963 | Loss: 1.1402\n",
            "Epoch: 013/015 | Batch 0100/0963 | Loss: 0.8233\n",
            "Epoch: 013/015 | Batch 0200/0963 | Loss: 0.7527\n",
            "Epoch: 013/015 | Batch 0300/0963 | Loss: 0.8290\n",
            "Epoch: 013/015 | Batch 0400/0963 | Loss: 0.9667\n",
            "Epoch: 013/015 | Batch 0500/0963 | Loss: 0.8355\n",
            "Epoch: 013/015 | Batch 0600/0963 | Loss: 0.9524\n",
            "Epoch: 013/015 | Batch 0700/0963 | Loss: 0.8776\n",
            "Epoch: 013/015 | Batch 0800/0963 | Loss: 0.9754\n",
            "Epoch: 013/015 | Batch 0900/0963 | Loss: 0.6560\n",
            "Epoch: 013/015 | Train: 73.08% | Validation: 72.56%\n",
            "Time elapsed: 11.61 min\n",
            "Epoch: 014/015 | Batch 0000/0963 | Loss: 0.7059\n",
            "Epoch: 014/015 | Batch 0100/0963 | Loss: 0.9857\n",
            "Epoch: 014/015 | Batch 0200/0963 | Loss: 0.7289\n",
            "Epoch: 014/015 | Batch 0300/0963 | Loss: 0.8792\n",
            "Epoch: 014/015 | Batch 0400/0963 | Loss: 0.8045\n",
            "Epoch: 014/015 | Batch 0500/0963 | Loss: 0.9886\n",
            "Epoch: 014/015 | Batch 0600/0963 | Loss: 0.8498\n",
            "Epoch: 014/015 | Batch 0700/0963 | Loss: 0.9351\n",
            "Epoch: 014/015 | Batch 0800/0963 | Loss: 0.8900\n",
            "Epoch: 014/015 | Batch 0900/0963 | Loss: 1.0238\n",
            "Epoch: 014/015 | Train: 73.08% | Validation: 72.53%\n",
            "Time elapsed: 12.50 min\n",
            "Epoch: 015/015 | Batch 0000/0963 | Loss: 0.7286\n",
            "Epoch: 015/015 | Batch 0100/0963 | Loss: 1.0537\n",
            "Epoch: 015/015 | Batch 0200/0963 | Loss: 0.9858\n",
            "Epoch: 015/015 | Batch 0300/0963 | Loss: 0.8646\n",
            "Epoch: 015/015 | Batch 0400/0963 | Loss: 0.8027\n",
            "Epoch: 015/015 | Batch 0500/0963 | Loss: 0.9338\n",
            "Epoch: 015/015 | Batch 0600/0963 | Loss: 0.9754\n",
            "Epoch: 015/015 | Batch 0700/0963 | Loss: 0.8287\n",
            "Epoch: 015/015 | Batch 0800/0963 | Loss: 0.8715\n",
            "Epoch: 015/015 | Batch 0900/0963 | Loss: 0.7951\n",
            "Epoch: 015/015 | Train: 73.11% | Validation: 72.52%\n",
            "Time elapsed: 13.39 min\n",
            "Total Training Time: 13.39 min\n",
            "Test accuracy 73.45%\n"
          ]
        }
      ]
    },
    {
      "cell_type": "code",
      "source": [
        "info_to_plot([acc_history, loss_history], NUM_EPOCHS-1)"
      ],
      "metadata": {
        "colab": {
          "base_uri": "https://localhost:8080/",
          "height": 328
        },
        "id": "XwC_jXTb1Wy7",
        "outputId": "5d617108-0a29-4ecc-eb96-beea66f66b4b"
      },
      "execution_count": null,
      "outputs": [
        {
          "output_type": "display_data",
          "data": {
            "text/plain": [
              "<Figure size 1000x500 with 2 Axes>"
            ],
            "image/png": "[encoded data removed]"
          },
          "metadata": {}
        }
      ]
    },
    {
      "cell_type": "markdown",
      "metadata": {
        "id": "t2nEg5Zl6mMd"
      },
      "source": [
        "### GRU - ONE LAYER"
      ]
    },
    {
      "cell_type": "code",
      "execution_count": null,
      "metadata": {
        "colab": {
          "base_uri": "https://localhost:8080/"
        },
        "id": "ARncMRm_j_p2",
        "outputId": "87829d80-ab96-4011-ba10-c57420c586cd"
      },
      "outputs": [
        {
          "name": "stderr",
          "output_type": "stream",
          "text": [
            "<ipython-input-27-1066645b7dab>:19: UserWarning: To copy construct from a tensor, it is recommended to use sourceTensor.clone().detach() or sourceTensor.clone().detach().requires_grad_(True), rather than torch.tensor(sourceTensor).\n",
            "  text = torch.tensor(text, dtype=torch.long).clone().detach()\n"
          ]
        },
        {
          "name": "stdout",
          "output_type": "stream",
          "text": [
            "Epoch: 001/015 | Batch 0000/0963 | Loss: 1.4634\n",
            "Epoch: 001/015 | Batch 0100/0963 | Loss: 0.7895\n",
            "Epoch: 001/015 | Batch 0200/0963 | Loss: 0.9546\n",
            "Epoch: 001/015 | Batch 0300/0963 | Loss: 0.9882\n",
            "Epoch: 001/015 | Batch 0400/0963 | Loss: 1.0926\n",
            "Epoch: 001/015 | Batch 0500/0963 | Loss: 0.7506\n",
            "Epoch: 001/015 | Batch 0600/0963 | Loss: 0.6162\n",
            "Epoch: 001/015 | Batch 0700/0963 | Loss: 0.5581\n",
            "Epoch: 001/015 | Batch 0800/0963 | Loss: 0.7919\n",
            "Epoch: 001/015 | Batch 0900/0963 | Loss: 0.9284\n",
            "Epoch: 001/015 | Train: 72.87% | Validation: 73.27%\n",
            "Time elapsed: 0.96 min\n",
            "Epoch: 002/015 | Batch 0000/0963 | Loss: 0.6693\n",
            "Epoch: 002/015 | Batch 0100/0963 | Loss: 0.5207\n",
            "Epoch: 002/015 | Batch 0200/0963 | Loss: 0.4852\n",
            "Epoch: 002/015 | Batch 0300/0963 | Loss: 0.5868\n",
            "Epoch: 002/015 | Batch 0400/0963 | Loss: 0.7989\n",
            "Epoch: 002/015 | Batch 0500/0963 | Loss: 0.6153\n",
            "Epoch: 002/015 | Batch 0600/0963 | Loss: 0.5246\n",
            "Epoch: 002/015 | Batch 0700/0963 | Loss: 0.6660\n",
            "Epoch: 002/015 | Batch 0800/0963 | Loss: 0.4995\n",
            "Epoch: 002/015 | Batch 0900/0963 | Loss: 0.6409\n",
            "Epoch: 002/015 | Train: 75.25% | Validation: 75.37%\n",
            "Time elapsed: 1.91 min\n",
            "Epoch: 003/015 | Batch 0000/0963 | Loss: 0.7371\n",
            "Epoch: 003/015 | Batch 0100/0963 | Loss: 0.5865\n",
            "Epoch: 003/015 | Batch 0200/0963 | Loss: 0.5508\n",
            "Epoch: 003/015 | Batch 0300/0963 | Loss: 0.4112\n",
            "Epoch: 003/015 | Batch 0400/0963 | Loss: 0.6906\n",
            "Epoch: 003/015 | Batch 0500/0963 | Loss: 0.3642\n",
            "Epoch: 003/015 | Batch 0600/0963 | Loss: 0.6283\n",
            "Epoch: 003/015 | Batch 0700/0963 | Loss: 0.5996\n",
            "Epoch: 003/015 | Batch 0800/0963 | Loss: 0.6366\n",
            "Epoch: 003/015 | Batch 0900/0963 | Loss: 0.4221\n",
            "Epoch: 003/015 | Train: 78.66% | Validation: 76.20%\n",
            "Time elapsed: 2.85 min\n",
            "Epoch: 004/015 | Batch 0000/0963 | Loss: 0.5675\n",
            "Epoch: 004/015 | Batch 0100/0963 | Loss: 0.5242\n",
            "Epoch: 004/015 | Batch 0200/0963 | Loss: 0.5015\n",
            "Epoch: 004/015 | Batch 0300/0963 | Loss: 0.3309\n",
            "Epoch: 004/015 | Batch 0400/0963 | Loss: 0.4245\n",
            "Epoch: 004/015 | Batch 0500/0963 | Loss: 0.4145\n",
            "Epoch: 004/015 | Batch 0600/0963 | Loss: 0.3246\n",
            "Epoch: 004/015 | Batch 0700/0963 | Loss: 0.6014\n",
            "Epoch: 004/015 | Batch 0800/0963 | Loss: 0.4689\n",
            "Epoch: 004/015 | Batch 0900/0963 | Loss: 0.4016\n",
            "Epoch: 004/015 | Train: 82.59% | Validation: 75.98%\n",
            "Time elapsed: 3.78 min\n",
            "Epoch: 005/015 | Batch 0000/0963 | Loss: 0.3104\n",
            "Epoch: 005/015 | Batch 0100/0963 | Loss: 0.3073\n",
            "Epoch: 005/015 | Batch 0200/0963 | Loss: 0.2532\n",
            "Epoch: 005/015 | Batch 0300/0963 | Loss: 0.2572\n",
            "Epoch: 005/015 | Batch 0400/0963 | Loss: 0.2299\n",
            "Epoch: 005/015 | Batch 0500/0963 | Loss: 0.2977\n",
            "Epoch: 005/015 | Batch 0600/0963 | Loss: 0.2932\n",
            "Epoch: 005/015 | Batch 0700/0963 | Loss: 0.3752\n",
            "Epoch: 005/015 | Batch 0800/0963 | Loss: 0.3414\n",
            "Epoch: 005/015 | Batch 0900/0963 | Loss: 0.4972\n",
            "Epoch: 005/015 | Train: 86.45% | Validation: 76.05%\n",
            "Time elapsed: 4.71 min\n",
            "Epoch: 006/015 | Batch 0000/0963 | Loss: 0.3536\n",
            "Epoch: 006/015 | Batch 0100/0963 | Loss: 0.1866\n",
            "Epoch: 006/015 | Batch 0200/0963 | Loss: 0.2230\n",
            "Epoch: 006/015 | Batch 0300/0963 | Loss: 0.2933\n",
            "Epoch: 006/015 | Batch 0400/0963 | Loss: 0.3079\n",
            "Epoch: 006/015 | Batch 0500/0963 | Loss: 0.2991\n",
            "Epoch: 006/015 | Batch 0600/0963 | Loss: 0.2483\n",
            "Epoch: 006/015 | Batch 0700/0963 | Loss: 0.2931\n",
            "Epoch: 006/015 | Batch 0800/0963 | Loss: 0.2933\n",
            "Epoch: 006/015 | Batch 0900/0963 | Loss: 0.3352\n",
            "Epoch: 006/015 | Train: 89.81% | Validation: 75.81%\n",
            "Time elapsed: 5.67 min\n",
            "Epoch: 007/015 | Batch 0000/0963 | Loss: 0.1950\n",
            "Epoch: 007/015 | Batch 0100/0963 | Loss: 0.1397\n",
            "Epoch: 007/015 | Batch 0200/0963 | Loss: 0.2450\n",
            "Epoch: 007/015 | Batch 0300/0963 | Loss: 0.3090\n",
            "Epoch: 007/015 | Batch 0400/0963 | Loss: 0.2403\n",
            "Epoch: 007/015 | Batch 0500/0963 | Loss: 0.1717\n",
            "Epoch: 007/015 | Batch 0600/0963 | Loss: 0.2049\n",
            "Epoch: 007/015 | Batch 0700/0963 | Loss: 0.3616\n",
            "Epoch: 007/015 | Batch 0800/0963 | Loss: 0.1835\n",
            "Epoch: 007/015 | Batch 0900/0963 | Loss: 0.1572\n",
            "Epoch: 007/015 | Train: 92.12% | Validation: 74.56%\n",
            "Time elapsed: 6.61 min\n",
            "Epoch: 008/015 | Batch 0000/0963 | Loss: 0.1275\n",
            "Epoch: 008/015 | Batch 0100/0963 | Loss: 0.1809\n",
            "Epoch: 008/015 | Batch 0200/0963 | Loss: 0.1361\n",
            "Epoch: 008/015 | Batch 0300/0963 | Loss: 0.1489\n",
            "Epoch: 008/015 | Batch 0400/0963 | Loss: 0.2289\n",
            "Epoch: 008/015 | Batch 0500/0963 | Loss: 0.2468\n",
            "Epoch: 008/015 | Batch 0600/0963 | Loss: 0.1245\n",
            "Epoch: 008/015 | Batch 0700/0963 | Loss: 0.2169\n",
            "Epoch: 008/015 | Batch 0800/0963 | Loss: 0.1314\n",
            "Epoch: 008/015 | Batch 0900/0963 | Loss: 0.2565\n",
            "Epoch: 008/015 | Train: 93.68% | Validation: 73.96%\n",
            "Time elapsed: 7.54 min\n",
            "Epoch: 009/015 | Batch 0000/0963 | Loss: 0.1472\n",
            "Epoch: 009/015 | Batch 0100/0963 | Loss: 0.1401\n",
            "Epoch: 009/015 | Batch 0200/0963 | Loss: 0.0815\n",
            "Epoch: 009/015 | Batch 0300/0963 | Loss: 0.0783\n",
            "Epoch: 009/015 | Batch 0400/0963 | Loss: 0.0514\n",
            "Epoch: 009/015 | Batch 0500/0963 | Loss: 0.1138\n",
            "Epoch: 009/015 | Batch 0600/0963 | Loss: 0.2865\n",
            "Epoch: 009/015 | Batch 0700/0963 | Loss: 0.1624\n",
            "Epoch: 009/015 | Batch 0800/0963 | Loss: 0.1012\n",
            "Epoch: 009/015 | Batch 0900/0963 | Loss: 0.1427\n",
            "Epoch: 009/015 | Train: 94.47% | Validation: 74.44%\n",
            "Time elapsed: 8.48 min\n",
            "Epoch: 010/015 | Batch 0000/0963 | Loss: 0.0549\n",
            "Epoch: 010/015 | Batch 0100/0963 | Loss: 0.0691\n",
            "Epoch: 010/015 | Batch 0200/0963 | Loss: 0.1012\n",
            "Epoch: 010/015 | Batch 0300/0963 | Loss: 0.2324\n",
            "Epoch: 010/015 | Batch 0400/0963 | Loss: 0.3325\n",
            "Epoch: 010/015 | Batch 0500/0963 | Loss: 0.0634\n",
            "Epoch: 010/015 | Batch 0600/0963 | Loss: 0.1295\n",
            "Epoch: 010/015 | Batch 0700/0963 | Loss: 0.1582\n",
            "Epoch: 010/015 | Batch 0800/0963 | Loss: 0.0524\n",
            "Epoch: 010/015 | Batch 0900/0963 | Loss: 0.3038\n",
            "Epoch: 010/015 | Train: 95.24% | Validation: 74.85%\n",
            "Time elapsed: 9.42 min\n",
            "Epoch: 011/015 | Batch 0000/0963 | Loss: 0.1547\n",
            "Epoch: 011/015 | Batch 0100/0963 | Loss: 0.2238\n",
            "Epoch: 011/015 | Batch 0200/0963 | Loss: 0.0681\n",
            "Epoch: 011/015 | Batch 0300/0963 | Loss: 0.1472\n",
            "Epoch: 011/015 | Batch 0400/0963 | Loss: 0.0692\n",
            "Epoch: 011/015 | Batch 0500/0963 | Loss: 0.1834\n",
            "Epoch: 011/015 | Batch 0600/0963 | Loss: 0.2025\n",
            "Epoch: 011/015 | Batch 0700/0963 | Loss: 0.1455\n",
            "Epoch: 011/015 | Batch 0800/0963 | Loss: 0.1125\n",
            "Epoch: 011/015 | Batch 0900/0963 | Loss: 0.1336\n",
            "Epoch: 011/015 | Train: 95.44% | Validation: 75.55%\n",
            "Time elapsed: 10.47 min\n",
            "Epoch: 012/015 | Batch 0000/0963 | Loss: 0.1127\n",
            "Epoch: 012/015 | Batch 0100/0963 | Loss: 0.2816\n",
            "Epoch: 012/015 | Batch 0200/0963 | Loss: 0.1211\n",
            "Epoch: 012/015 | Batch 0300/0963 | Loss: 0.0437\n",
            "Epoch: 012/015 | Batch 0400/0963 | Loss: 0.1475\n",
            "Epoch: 012/015 | Batch 0500/0963 | Loss: 0.1383\n",
            "Epoch: 012/015 | Batch 0600/0963 | Loss: 0.2454\n",
            "Epoch: 012/015 | Batch 0700/0963 | Loss: 0.0982\n",
            "Epoch: 012/015 | Batch 0800/0963 | Loss: 0.1226\n",
            "Epoch: 012/015 | Batch 0900/0963 | Loss: 0.0850\n",
            "Epoch: 012/015 | Train: 95.89% | Validation: 75.10%\n",
            "Time elapsed: 11.42 min\n",
            "Epoch: 013/015 | Batch 0000/0963 | Loss: 0.0316\n",
            "Epoch: 013/015 | Batch 0100/0963 | Loss: 0.0753\n",
            "Epoch: 013/015 | Batch 0200/0963 | Loss: 0.0897\n",
            "Epoch: 013/015 | Batch 0300/0963 | Loss: 0.2709\n",
            "Epoch: 013/015 | Batch 0400/0963 | Loss: 0.1316\n",
            "Epoch: 013/015 | Batch 0500/0963 | Loss: 0.2387\n",
            "Epoch: 013/015 | Batch 0600/0963 | Loss: 0.1139\n",
            "Epoch: 013/015 | Batch 0700/0963 | Loss: 0.0763\n",
            "Epoch: 013/015 | Batch 0800/0963 | Loss: 0.0199\n",
            "Epoch: 013/015 | Batch 0900/0963 | Loss: 0.1155\n",
            "Epoch: 013/015 | Train: 95.96% | Validation: 75.66%\n",
            "Time elapsed: 12.36 min\n",
            "Epoch: 014/015 | Batch 0000/0963 | Loss: 0.0531\n",
            "Epoch: 014/015 | Batch 0100/0963 | Loss: 0.0749\n",
            "Epoch: 014/015 | Batch 0200/0963 | Loss: 0.0747\n",
            "Epoch: 014/015 | Batch 0300/0963 | Loss: 0.0955\n",
            "Epoch: 014/015 | Batch 0400/0963 | Loss: 0.0865\n",
            "Epoch: 014/015 | Batch 0500/0963 | Loss: 0.0561\n",
            "Epoch: 014/015 | Batch 0600/0963 | Loss: 0.1056\n",
            "Epoch: 014/015 | Batch 0700/0963 | Loss: 0.1684\n",
            "Epoch: 014/015 | Batch 0800/0963 | Loss: 0.0358\n",
            "Epoch: 014/015 | Batch 0900/0963 | Loss: 0.1355\n",
            "Epoch: 014/015 | Train: 95.99% | Validation: 74.50%\n",
            "Time elapsed: 13.29 min\n",
            "Epoch: 015/015 | Batch 0000/0963 | Loss: 0.2273\n",
            "Epoch: 015/015 | Batch 0100/0963 | Loss: 0.0787\n",
            "Epoch: 015/015 | Batch 0200/0963 | Loss: 0.0611\n",
            "Epoch: 015/015 | Batch 0300/0963 | Loss: 0.1575\n",
            "Epoch: 015/015 | Batch 0400/0963 | Loss: 0.1731\n",
            "Epoch: 015/015 | Batch 0500/0963 | Loss: 0.1165\n",
            "Epoch: 015/015 | Batch 0600/0963 | Loss: 0.1067\n",
            "Epoch: 015/015 | Batch 0700/0963 | Loss: 0.1158\n",
            "Epoch: 015/015 | Batch 0800/0963 | Loss: 0.1268\n",
            "Epoch: 015/015 | Batch 0900/0963 | Loss: 0.1856\n",
            "Epoch: 015/015 | Train: 96.35% | Validation: 75.46%\n",
            "Time elapsed: 14.23 min\n",
            "Total Training Time: 14.23 min\n",
            "Test accuracy 76.15%\n"
          ]
        }
      ],
      "source": [
        "LEARNING_RATE = 0.001\n",
        "NUM_LAYERS = 1\n",
        "\n",
        "model = GRU(input_dim=len(vocab),\n",
        "             embedding_dim=EMBEDDING_DIM,\n",
        "             hidden_dim=HIDDEN_DIM,\n",
        "             output_dim=NUM_CLASSES, #5\n",
        "             num_layers=NUM_LAYERS\n",
        ")\n",
        "\n",
        "model = model.to(DEVICE)\n",
        "\n",
        "optimizer = torch.optim.Adam(model.parameters(), lr=LEARNING_RATE)\n",
        "scheduler = torch.optim.lr_scheduler.ReduceLROnPlateau(optimizer,\n",
        "                                                       factor=0.1,\n",
        "                                                       mode='max',\n",
        "                                                       verbose=True)\n",
        "\n",
        "acc_history, loss_history = train_model(\n",
        "    model=model,\n",
        "    num_epochs=NUM_EPOCHS,\n",
        "    train_loader=train_loader,\n",
        "    valid_loader=valid_loader,\n",
        "    test_loader=test_loader,\n",
        "    optimizer=optimizer,\n",
        "    device=DEVICE,\n",
        "    logging_interval=100)"
      ]
    },
    {
      "cell_type": "code",
      "execution_count": null,
      "metadata": {
        "colab": {
          "base_uri": "https://localhost:8080/",
          "height": 501
        },
        "id": "c6jHMtwYrNCk",
        "outputId": "4be79697-2a58-4318-dcb6-1581e04802a7"
      },
      "outputs": [
        {
          "data": {
            "image/png": "[encoded data removed]",
            "text/plain": [
              "<Figure size 1000x500 with 2 Axes>"
            ]
          },
          "metadata": {},
          "output_type": "display_data"
        }
      ],
      "source": [
        "info_to_plot([acc_history, loss_history], NUM_EPOCHS-1)"
      ]
    },
    {
      "cell_type": "markdown",
      "metadata": {
        "id": "myR8a9CK-Wyq"
      },
      "source": [
        "### GRU - TWO LAYER"
      ]
    },
    {
      "cell_type": "code",
      "execution_count": null,
      "metadata": {
        "colab": {
          "base_uri": "https://localhost:8080/"
        },
        "id": "xyd90v-s-Xe7",
        "outputId": "ac6f8eab-ef1a-4c6c-c5eb-942696c51cf6"
      },
      "outputs": [
        {
          "name": "stderr",
          "output_type": "stream",
          "text": [
            "<ipython-input-34-1066645b7dab>:19: UserWarning: To copy construct from a tensor, it is recommended to use sourceTensor.clone().detach() or sourceTensor.clone().detach().requires_grad_(True), rather than torch.tensor(sourceTensor).\n",
            "  text = torch.tensor(text, dtype=torch.long).clone().detach()\n"
          ]
        },
        {
          "name": "stdout",
          "output_type": "stream",
          "text": [
            "Epoch: 001/015 | Batch 0000/0963 | Loss: 1.5458\n",
            "Epoch: 001/015 | Batch 0100/0963 | Loss: 1.0816\n",
            "Epoch: 001/015 | Batch 0200/0963 | Loss: 0.7120\n",
            "Epoch: 001/015 | Batch 0300/0963 | Loss: 0.8625\n",
            "Epoch: 001/015 | Batch 0400/0963 | Loss: 0.8260\n",
            "Epoch: 001/015 | Batch 0500/0963 | Loss: 0.8703\n",
            "Epoch: 001/015 | Batch 0600/0963 | Loss: 0.7425\n",
            "Epoch: 001/015 | Batch 0700/0963 | Loss: 0.8771\n",
            "Epoch: 001/015 | Batch 0800/0963 | Loss: 0.6016\n",
            "Epoch: 001/015 | Batch 0900/0963 | Loss: 0.7322\n",
            "Epoch: 001/015 | Train: 73.14% | Validation: 74.08%\n",
            "Time elapsed: 1.60 min\n",
            "Epoch: 002/015 | Batch 0000/0963 | Loss: 0.6591\n",
            "Epoch: 002/015 | Batch 0100/0963 | Loss: 0.8424\n",
            "Epoch: 002/015 | Batch 0200/0963 | Loss: 0.9069\n",
            "Epoch: 002/015 | Batch 0300/0963 | Loss: 0.5379\n",
            "Epoch: 002/015 | Batch 0400/0963 | Loss: 0.4949\n",
            "Epoch: 002/015 | Batch 0500/0963 | Loss: 0.6302\n",
            "Epoch: 002/015 | Batch 0600/0963 | Loss: 0.6732\n",
            "Epoch: 002/015 | Batch 0700/0963 | Loss: 0.7212\n",
            "Epoch: 002/015 | Batch 0800/0963 | Loss: 0.7292\n",
            "Epoch: 002/015 | Batch 0900/0963 | Loss: 0.5692\n",
            "Epoch: 002/015 | Train: 76.21% | Validation: 76.01%\n",
            "Time elapsed: 3.22 min\n",
            "Epoch: 003/015 | Batch 0000/0963 | Loss: 0.6784\n",
            "Epoch: 003/015 | Batch 0100/0963 | Loss: 0.5741\n",
            "Epoch: 003/015 | Batch 0200/0963 | Loss: 0.7675\n",
            "Epoch: 003/015 | Batch 0300/0963 | Loss: 0.4623\n",
            "Epoch: 003/015 | Batch 0400/0963 | Loss: 0.5285\n",
            "Epoch: 003/015 | Batch 0500/0963 | Loss: 0.4257\n",
            "Epoch: 003/015 | Batch 0600/0963 | Loss: 0.6345\n",
            "Epoch: 003/015 | Batch 0700/0963 | Loss: 0.6355\n",
            "Epoch: 003/015 | Batch 0800/0963 | Loss: 0.7663\n",
            "Epoch: 003/015 | Batch 0900/0963 | Loss: 0.5397\n",
            "Epoch: 003/015 | Train: 79.39% | Validation: 76.59%\n",
            "Time elapsed: 4.89 min\n",
            "Epoch: 004/015 | Batch 0000/0963 | Loss: 0.4247\n",
            "Epoch: 004/015 | Batch 0100/0963 | Loss: 0.3610\n",
            "Epoch: 004/015 | Batch 0200/0963 | Loss: 0.3694\n",
            "Epoch: 004/015 | Batch 0300/0963 | Loss: 0.3774\n",
            "Epoch: 004/015 | Batch 0400/0963 | Loss: 0.5683\n",
            "Epoch: 004/015 | Batch 0500/0963 | Loss: 0.5034\n",
            "Epoch: 004/015 | Batch 0600/0963 | Loss: 0.5414\n",
            "Epoch: 004/015 | Batch 0700/0963 | Loss: 0.5945\n",
            "Epoch: 004/015 | Batch 0800/0963 | Loss: 0.4217\n",
            "Epoch: 004/015 | Batch 0900/0963 | Loss: 0.4072\n",
            "Epoch: 004/015 | Train: 83.44% | Validation: 75.57%\n",
            "Time elapsed: 6.47 min\n",
            "Epoch: 005/015 | Batch 0000/0963 | Loss: 0.3486\n",
            "Epoch: 005/015 | Batch 0100/0963 | Loss: 0.4608\n",
            "Epoch: 005/015 | Batch 0200/0963 | Loss: 0.2353\n",
            "Epoch: 005/015 | Batch 0300/0963 | Loss: 0.5871\n",
            "Epoch: 005/015 | Batch 0400/0963 | Loss: 0.2655\n",
            "Epoch: 005/015 | Batch 0500/0963 | Loss: 0.2392\n",
            "Epoch: 005/015 | Batch 0600/0963 | Loss: 0.3716\n",
            "Epoch: 005/015 | Batch 0700/0963 | Loss: 0.4128\n",
            "Epoch: 005/015 | Batch 0800/0963 | Loss: 0.3081\n",
            "Epoch: 005/015 | Batch 0900/0963 | Loss: 0.2770\n",
            "Epoch: 005/015 | Train: 87.66% | Validation: 77.01%\n",
            "Time elapsed: 8.07 min\n",
            "Epoch: 006/015 | Batch 0000/0963 | Loss: 0.1655\n",
            "Epoch: 006/015 | Batch 0100/0963 | Loss: 0.2450\n",
            "Epoch: 006/015 | Batch 0200/0963 | Loss: 0.2355\n",
            "Epoch: 006/015 | Batch 0300/0963 | Loss: 0.3046\n",
            "Epoch: 006/015 | Batch 0400/0963 | Loss: 0.3747\n",
            "Epoch: 006/015 | Batch 0500/0963 | Loss: 0.1440\n",
            "Epoch: 006/015 | Batch 0600/0963 | Loss: 0.2764\n",
            "Epoch: 006/015 | Batch 0700/0963 | Loss: 0.3723\n",
            "Epoch: 006/015 | Batch 0800/0963 | Loss: 0.4290\n",
            "Epoch: 006/015 | Batch 0900/0963 | Loss: 0.1661\n",
            "Epoch: 006/015 | Train: 90.87% | Validation: 76.58%\n",
            "Time elapsed: 9.67 min\n",
            "Epoch: 007/015 | Batch 0000/0963 | Loss: 0.1348\n",
            "Epoch: 007/015 | Batch 0100/0963 | Loss: 0.0948\n",
            "Epoch: 007/015 | Batch 0200/0963 | Loss: 0.1145\n",
            "Epoch: 007/015 | Batch 0300/0963 | Loss: 0.1021\n",
            "Epoch: 007/015 | Batch 0400/0963 | Loss: 0.2122\n",
            "Epoch: 007/015 | Batch 0500/0963 | Loss: 0.0734\n",
            "Epoch: 007/015 | Batch 0600/0963 | Loss: 0.1514\n",
            "Epoch: 007/015 | Batch 0700/0963 | Loss: 0.1858\n",
            "Epoch: 007/015 | Batch 0800/0963 | Loss: 0.3969\n",
            "Epoch: 007/015 | Batch 0900/0963 | Loss: 0.1436\n",
            "Epoch: 007/015 | Train: 93.08% | Validation: 76.01%\n",
            "Time elapsed: 11.24 min\n",
            "Epoch: 008/015 | Batch 0000/0963 | Loss: 0.0830\n",
            "Epoch: 008/015 | Batch 0100/0963 | Loss: 0.1690\n",
            "Epoch: 008/015 | Batch 0200/0963 | Loss: 0.1013\n",
            "Epoch: 008/015 | Batch 0300/0963 | Loss: 0.1117\n",
            "Epoch: 008/015 | Batch 0400/0963 | Loss: 0.1905\n",
            "Epoch: 008/015 | Batch 0500/0963 | Loss: 0.1180\n",
            "Epoch: 008/015 | Batch 0600/0963 | Loss: 0.2266\n",
            "Epoch: 008/015 | Batch 0700/0963 | Loss: 0.0638\n",
            "Epoch: 008/015 | Batch 0800/0963 | Loss: 0.0952\n",
            "Epoch: 008/015 | Batch 0900/0963 | Loss: 0.1845\n",
            "Epoch: 008/015 | Train: 94.42% | Validation: 75.48%\n",
            "Time elapsed: 12.89 min\n",
            "Epoch: 009/015 | Batch 0000/0963 | Loss: 0.2090\n",
            "Epoch: 009/015 | Batch 0100/0963 | Loss: 0.0300\n",
            "Epoch: 009/015 | Batch 0200/0963 | Loss: 0.1215\n",
            "Epoch: 009/015 | Batch 0300/0963 | Loss: 0.2510\n",
            "Epoch: 009/015 | Batch 0400/0963 | Loss: 0.1631\n",
            "Epoch: 009/015 | Batch 0500/0963 | Loss: 0.0588\n",
            "Epoch: 009/015 | Batch 0600/0963 | Loss: 0.1673\n",
            "Epoch: 009/015 | Batch 0700/0963 | Loss: 0.1569\n",
            "Epoch: 009/015 | Batch 0800/0963 | Loss: 0.1172\n",
            "Epoch: 009/015 | Batch 0900/0963 | Loss: 0.1200\n",
            "Epoch: 009/015 | Train: 95.12% | Validation: 75.94%\n",
            "Time elapsed: 14.50 min\n",
            "Epoch: 010/015 | Batch 0000/0963 | Loss: 0.2486\n",
            "Epoch: 010/015 | Batch 0100/0963 | Loss: 0.1031\n",
            "Epoch: 010/015 | Batch 0200/0963 | Loss: 0.0809\n",
            "Epoch: 010/015 | Batch 0300/0963 | Loss: 0.2349\n",
            "Epoch: 010/015 | Batch 0400/0963 | Loss: 0.0591\n",
            "Epoch: 010/015 | Batch 0500/0963 | Loss: 0.1191\n",
            "Epoch: 010/015 | Batch 0600/0963 | Loss: 0.1382\n",
            "Epoch: 010/015 | Batch 0700/0963 | Loss: 0.1199\n",
            "Epoch: 010/015 | Batch 0800/0963 | Loss: 0.2341\n",
            "Epoch: 010/015 | Batch 0900/0963 | Loss: 0.1163\n",
            "Epoch: 010/015 | Train: 95.55% | Validation: 76.48%\n",
            "Time elapsed: 16.08 min\n",
            "Epoch: 011/015 | Batch 0000/0963 | Loss: 0.0980\n",
            "Epoch: 011/015 | Batch 0100/0963 | Loss: 0.2619\n",
            "Epoch: 011/015 | Batch 0200/0963 | Loss: 0.1789\n",
            "Epoch: 011/015 | Batch 0300/0963 | Loss: 0.1079\n",
            "Epoch: 011/015 | Batch 0400/0963 | Loss: 0.1585\n",
            "Epoch: 011/015 | Batch 0500/0963 | Loss: 0.1462\n",
            "Epoch: 011/015 | Batch 0600/0963 | Loss: 0.2969\n",
            "Epoch: 011/015 | Batch 0700/0963 | Loss: 0.0689\n",
            "Epoch: 011/015 | Batch 0800/0963 | Loss: 0.0903\n",
            "Epoch: 011/015 | Batch 0900/0963 | Loss: 0.1323\n",
            "Epoch: 011/015 | Train: 95.76% | Validation: 76.20%\n",
            "Time elapsed: 17.64 min\n",
            "Epoch: 012/015 | Batch 0000/0963 | Loss: 0.0660\n",
            "Epoch: 012/015 | Batch 0100/0963 | Loss: 0.0359\n",
            "Epoch: 012/015 | Batch 0200/0963 | Loss: 0.0720\n",
            "Epoch: 012/015 | Batch 0300/0963 | Loss: 0.1117\n",
            "Epoch: 012/015 | Batch 0400/0963 | Loss: 0.0452\n",
            "Epoch: 012/015 | Batch 0500/0963 | Loss: 0.2706\n",
            "Epoch: 012/015 | Batch 0600/0963 | Loss: 0.1072\n",
            "Epoch: 012/015 | Batch 0700/0963 | Loss: 0.0812\n",
            "Epoch: 012/015 | Batch 0800/0963 | Loss: 0.0543\n",
            "Epoch: 012/015 | Batch 0900/0963 | Loss: 0.0643\n",
            "Epoch: 012/015 | Train: 95.90% | Validation: 75.30%\n",
            "Time elapsed: 19.22 min\n",
            "Epoch: 013/015 | Batch 0000/0963 | Loss: 0.0742\n",
            "Epoch: 013/015 | Batch 0100/0963 | Loss: 0.0845\n",
            "Epoch: 013/015 | Batch 0200/0963 | Loss: 0.0316\n",
            "Epoch: 013/015 | Batch 0300/0963 | Loss: 0.1273\n",
            "Epoch: 013/015 | Batch 0400/0963 | Loss: 0.1372\n",
            "Epoch: 013/015 | Batch 0500/0963 | Loss: 0.1096\n",
            "Epoch: 013/015 | Batch 0600/0963 | Loss: 0.0476\n",
            "Epoch: 013/015 | Batch 0700/0963 | Loss: 0.1115\n",
            "Epoch: 013/015 | Batch 0800/0963 | Loss: 0.1031\n",
            "Epoch: 013/015 | Batch 0900/0963 | Loss: 0.0643\n",
            "Epoch: 013/015 | Train: 96.16% | Validation: 75.11%\n",
            "Time elapsed: 20.80 min\n",
            "Epoch: 014/015 | Batch 0000/0963 | Loss: 0.1321\n",
            "Epoch: 014/015 | Batch 0100/0963 | Loss: 0.0833\n",
            "Epoch: 014/015 | Batch 0200/0963 | Loss: 0.0592\n",
            "Epoch: 014/015 | Batch 0300/0963 | Loss: 0.0877\n",
            "Epoch: 014/015 | Batch 0400/0963 | Loss: 0.0687\n",
            "Epoch: 014/015 | Batch 0500/0963 | Loss: 0.1469\n",
            "Epoch: 014/015 | Batch 0600/0963 | Loss: 0.1284\n",
            "Epoch: 014/015 | Batch 0700/0963 | Loss: 0.1228\n",
            "Epoch: 014/015 | Batch 0800/0963 | Loss: 0.1740\n",
            "Epoch: 014/015 | Batch 0900/0963 | Loss: 0.1676\n",
            "Epoch: 014/015 | Train: 96.12% | Validation: 74.98%\n",
            "Time elapsed: 22.40 min\n",
            "Epoch: 015/015 | Batch 0000/0963 | Loss: 0.1040\n",
            "Epoch: 015/015 | Batch 0100/0963 | Loss: 0.1577\n",
            "Epoch: 015/015 | Batch 0200/0963 | Loss: 0.1268\n",
            "Epoch: 015/015 | Batch 0300/0963 | Loss: 0.1032\n",
            "Epoch: 015/015 | Batch 0400/0963 | Loss: 0.1834\n",
            "Epoch: 015/015 | Batch 0500/0963 | Loss: 0.0521\n",
            "Epoch: 015/015 | Batch 0600/0963 | Loss: 0.1286\n",
            "Epoch: 015/015 | Batch 0700/0963 | Loss: 0.0625\n",
            "Epoch: 015/015 | Batch 0800/0963 | Loss: 0.2141\n",
            "Epoch: 015/015 | Batch 0900/0963 | Loss: 0.0572\n",
            "Epoch: 015/015 | Train: 96.35% | Validation: 76.33%\n",
            "Time elapsed: 24.00 min\n",
            "Total Training Time: 24.00 min\n",
            "Test accuracy 76.71%\n"
          ]
        }
      ],
      "source": [
        "LEARNING_RATE = 0.001\n",
        "NUM_LAYERS = 2\n",
        "\n",
        "model = GRU(input_dim=len(vocab),\n",
        "             embedding_dim=EMBEDDING_DIM,\n",
        "             hidden_dim=HIDDEN_DIM,\n",
        "             output_dim=NUM_CLASSES, #5\n",
        "             num_layers=NUM_LAYERS\n",
        ")\n",
        "\n",
        "model = model.to(DEVICE)\n",
        "\n",
        "optimizer = torch.optim.Adam(model.parameters(), lr=LEARNING_RATE)\n",
        "scheduler = torch.optim.lr_scheduler.ReduceLROnPlateau(optimizer,\n",
        "                                                       factor=0.1,\n",
        "                                                       mode='max',\n",
        "                                                       verbose=True)\n",
        "\n",
        "acc_history, loss_history = train_model(\n",
        "    model=model,\n",
        "    num_epochs=NUM_EPOCHS,\n",
        "    train_loader=train_loader,\n",
        "    valid_loader=valid_loader,\n",
        "    test_loader=test_loader,\n",
        "    optimizer=optimizer,\n",
        "    device=DEVICE,\n",
        "    logging_interval=100)"
      ]
    },
    {
      "cell_type": "code",
      "execution_count": null,
      "metadata": {
        "colab": {
          "base_uri": "https://localhost:8080/",
          "height": 504
        },
        "id": "i8svUceLCpJF",
        "outputId": "427ae59b-1c03-42c3-9d15-26feb3b3d5bf"
      },
      "outputs": [
        {
          "data": {
            "image/png": "[encoded data removed]",
            "text/plain": [
              "<Figure size 1000x500 with 2 Axes>"
            ]
          },
          "metadata": {},
          "output_type": "display_data"
        }
      ],
      "source": [
        "info_to_plot([acc_history, loss_history], NUM_EPOCHS-1)"
      ]
    },
    {
      "cell_type": "markdown",
      "metadata": {
        "id": "bY2t9pyre_Gn"
      },
      "source": [
        "### GRU - THREE LAYER"
      ]
    },
    {
      "cell_type": "code",
      "execution_count": null,
      "metadata": {
        "colab": {
          "base_uri": "https://localhost:8080/"
        },
        "id": "de2WIHj7fBeH",
        "outputId": "1a3eb219-e09c-4154-a0bc-201e005eccfd"
      },
      "outputs": [
        {
          "name": "stderr",
          "output_type": "stream",
          "text": [
            "<ipython-input-31-1066645b7dab>:19: UserWarning: To copy construct from a tensor, it is recommended to use sourceTensor.clone().detach() or sourceTensor.clone().detach().requires_grad_(True), rather than torch.tensor(sourceTensor).\n",
            "  text = torch.tensor(text, dtype=torch.long).clone().detach()\n"
          ]
        },
        {
          "name": "stdout",
          "output_type": "stream",
          "text": [
            "Epoch: 001/015 | Batch 0000/0963 | Loss: 1.6947\n",
            "Epoch: 001/015 | Batch 0100/0963 | Loss: 1.1089\n",
            "Epoch: 001/015 | Batch 0200/0963 | Loss: 0.9238\n",
            "Epoch: 001/015 | Batch 0300/0963 | Loss: 0.7965\n",
            "Epoch: 001/015 | Batch 0400/0963 | Loss: 0.9593\n",
            "Epoch: 001/015 | Batch 0500/0963 | Loss: 0.8358\n",
            "Epoch: 001/015 | Batch 0600/0963 | Loss: 0.5113\n",
            "Epoch: 001/015 | Batch 0700/0963 | Loss: 0.7557\n",
            "Epoch: 001/015 | Batch 0800/0963 | Loss: 0.7149\n",
            "Epoch: 001/015 | Batch 0900/0963 | Loss: 0.7009\n",
            "Epoch: 001/015 | Train: 72.93% | Validation: 73.91%\n",
            "Time elapsed: 2.26 min\n",
            "Epoch: 002/015 | Batch 0000/0963 | Loss: 0.7482\n",
            "Epoch: 002/015 | Batch 0100/0963 | Loss: 0.5745\n",
            "Epoch: 002/015 | Batch 0200/0963 | Loss: 0.6203\n",
            "Epoch: 002/015 | Batch 0300/0963 | Loss: 0.4737\n",
            "Epoch: 002/015 | Batch 0400/0963 | Loss: 0.7284\n",
            "Epoch: 002/015 | Batch 0500/0963 | Loss: 0.8664\n",
            "Epoch: 002/015 | Batch 0600/0963 | Loss: 0.5866\n",
            "Epoch: 002/015 | Batch 0700/0963 | Loss: 0.5953\n",
            "Epoch: 002/015 | Batch 0800/0963 | Loss: 0.7669\n",
            "Epoch: 002/015 | Batch 0900/0963 | Loss: 0.7755\n",
            "Epoch: 002/015 | Train: 75.78% | Validation: 75.62%\n",
            "Time elapsed: 4.54 min\n",
            "Epoch: 003/015 | Batch 0000/0963 | Loss: 0.5346\n",
            "Epoch: 003/015 | Batch 0100/0963 | Loss: 0.5359\n",
            "Epoch: 003/015 | Batch 0200/0963 | Loss: 0.4719\n",
            "Epoch: 003/015 | Batch 0300/0963 | Loss: 0.5259\n",
            "Epoch: 003/015 | Batch 0400/0963 | Loss: 0.4568\n",
            "Epoch: 003/015 | Batch 0500/0963 | Loss: 0.8541\n",
            "Epoch: 003/015 | Batch 0600/0963 | Loss: 0.6222\n",
            "Epoch: 003/015 | Batch 0700/0963 | Loss: 0.7276\n",
            "Epoch: 003/015 | Batch 0800/0963 | Loss: 0.4018\n",
            "Epoch: 003/015 | Batch 0900/0963 | Loss: 0.5480\n",
            "Epoch: 003/015 | Train: 79.14% | Validation: 76.20%\n",
            "Time elapsed: 6.80 min\n",
            "Epoch: 004/015 | Batch 0000/0963 | Loss: 0.3499\n",
            "Epoch: 004/015 | Batch 0100/0963 | Loss: 0.2046\n",
            "Epoch: 004/015 | Batch 0200/0963 | Loss: 0.5302\n",
            "Epoch: 004/015 | Batch 0300/0963 | Loss: 0.3044\n",
            "Epoch: 004/015 | Batch 0400/0963 | Loss: 0.3544\n",
            "Epoch: 004/015 | Batch 0500/0963 | Loss: 0.4460\n",
            "Epoch: 004/015 | Batch 0600/0963 | Loss: 0.5972\n",
            "Epoch: 004/015 | Batch 0700/0963 | Loss: 0.3646\n",
            "Epoch: 004/015 | Batch 0800/0963 | Loss: 0.3632\n",
            "Epoch: 004/015 | Batch 0900/0963 | Loss: 0.5112\n",
            "Epoch: 004/015 | Train: 82.92% | Validation: 75.05%\n",
            "Time elapsed: 9.06 min\n",
            "Epoch: 005/015 | Batch 0000/0963 | Loss: 0.3077\n",
            "Epoch: 005/015 | Batch 0100/0963 | Loss: 0.4484\n",
            "Epoch: 005/015 | Batch 0200/0963 | Loss: 0.3056\n",
            "Epoch: 005/015 | Batch 0300/0963 | Loss: 0.3569\n",
            "Epoch: 005/015 | Batch 0400/0963 | Loss: 0.2458\n",
            "Epoch: 005/015 | Batch 0500/0963 | Loss: 0.2335\n",
            "Epoch: 005/015 | Batch 0600/0963 | Loss: 0.3651\n",
            "Epoch: 005/015 | Batch 0700/0963 | Loss: 0.3239\n",
            "Epoch: 005/015 | Batch 0800/0963 | Loss: 0.4481\n",
            "Epoch: 005/015 | Batch 0900/0963 | Loss: 0.3415\n",
            "Epoch: 005/015 | Train: 87.33% | Validation: 76.42%\n",
            "Time elapsed: 11.33 min\n",
            "Epoch: 006/015 | Batch 0000/0963 | Loss: 0.1584\n",
            "Epoch: 006/015 | Batch 0100/0963 | Loss: 0.3391\n",
            "Epoch: 006/015 | Batch 0200/0963 | Loss: 0.3225\n",
            "Epoch: 006/015 | Batch 0300/0963 | Loss: 0.2017\n",
            "Epoch: 006/015 | Batch 0400/0963 | Loss: 0.1450\n",
            "Epoch: 006/015 | Batch 0500/0963 | Loss: 0.1894\n",
            "Epoch: 006/015 | Batch 0600/0963 | Loss: 0.3124\n",
            "Epoch: 006/015 | Batch 0700/0963 | Loss: 0.1338\n",
            "Epoch: 006/015 | Batch 0800/0963 | Loss: 0.2895\n",
            "Epoch: 006/015 | Batch 0900/0963 | Loss: 0.2157\n",
            "Epoch: 006/015 | Train: 90.65% | Validation: 75.20%\n",
            "Time elapsed: 13.58 min\n",
            "Epoch: 007/015 | Batch 0000/0963 | Loss: 0.2067\n",
            "Epoch: 007/015 | Batch 0100/0963 | Loss: 0.0709\n",
            "Epoch: 007/015 | Batch 0200/0963 | Loss: 0.1804\n",
            "Epoch: 007/015 | Batch 0300/0963 | Loss: 0.1879\n",
            "Epoch: 007/015 | Batch 0400/0963 | Loss: 0.1725\n",
            "Epoch: 007/015 | Batch 0500/0963 | Loss: 0.1926\n",
            "Epoch: 007/015 | Batch 0600/0963 | Loss: 0.2922\n",
            "Epoch: 007/015 | Batch 0700/0963 | Loss: 0.1350\n",
            "Epoch: 007/015 | Batch 0800/0963 | Loss: 0.2223\n",
            "Epoch: 007/015 | Batch 0900/0963 | Loss: 0.1325\n",
            "Epoch: 007/015 | Train: 92.75% | Validation: 75.10%\n",
            "Time elapsed: 15.83 min\n",
            "Epoch: 008/015 | Batch 0000/0963 | Loss: 0.1281\n",
            "Epoch: 008/015 | Batch 0100/0963 | Loss: 0.0694\n",
            "Epoch: 008/015 | Batch 0200/0963 | Loss: 0.0939\n",
            "Epoch: 008/015 | Batch 0300/0963 | Loss: 0.1557\n",
            "Epoch: 008/015 | Batch 0400/0963 | Loss: 0.1833\n",
            "Epoch: 008/015 | Batch 0500/0963 | Loss: 0.1287\n",
            "Epoch: 008/015 | Batch 0600/0963 | Loss: 0.1442\n",
            "Epoch: 008/015 | Batch 0700/0963 | Loss: 0.3096\n",
            "Epoch: 008/015 | Batch 0800/0963 | Loss: 0.2508\n",
            "Epoch: 008/015 | Batch 0900/0963 | Loss: 0.2281\n",
            "Epoch: 008/015 | Train: 94.14% | Validation: 75.92%\n",
            "Time elapsed: 18.08 min\n",
            "Epoch: 009/015 | Batch 0000/0963 | Loss: 0.1000\n",
            "Epoch: 009/015 | Batch 0100/0963 | Loss: 0.1301\n",
            "Epoch: 009/015 | Batch 0200/0963 | Loss: 0.1466\n",
            "Epoch: 009/015 | Batch 0300/0963 | Loss: 0.1468\n",
            "Epoch: 009/015 | Batch 0400/0963 | Loss: 0.1476\n",
            "Epoch: 009/015 | Batch 0500/0963 | Loss: 0.0675\n",
            "Epoch: 009/015 | Batch 0600/0963 | Loss: 0.1973\n",
            "Epoch: 009/015 | Batch 0700/0963 | Loss: 0.1701\n",
            "Epoch: 009/015 | Batch 0800/0963 | Loss: 0.1123\n",
            "Epoch: 009/015 | Batch 0900/0963 | Loss: 0.2233\n",
            "Epoch: 009/015 | Train: 94.82% | Validation: 74.59%\n",
            "Time elapsed: 20.35 min\n",
            "Epoch: 010/015 | Batch 0000/0963 | Loss: 0.1146\n",
            "Epoch: 010/015 | Batch 0100/0963 | Loss: 0.1785\n",
            "Epoch: 010/015 | Batch 0200/0963 | Loss: 0.2834\n",
            "Epoch: 010/015 | Batch 0300/0963 | Loss: 0.1205\n",
            "Epoch: 010/015 | Batch 0400/0963 | Loss: 0.2236\n",
            "Epoch: 010/015 | Batch 0500/0963 | Loss: 0.1022\n",
            "Epoch: 010/015 | Batch 0600/0963 | Loss: 0.1385\n",
            "Epoch: 010/015 | Batch 0700/0963 | Loss: 0.0250\n",
            "Epoch: 010/015 | Batch 0800/0963 | Loss: 0.2100\n",
            "Epoch: 010/015 | Batch 0900/0963 | Loss: 0.1363\n",
            "Epoch: 010/015 | Train: 95.38% | Validation: 75.58%\n",
            "Time elapsed: 22.62 min\n",
            "Epoch: 011/015 | Batch 0000/0963 | Loss: 0.1357\n",
            "Epoch: 011/015 | Batch 0100/0963 | Loss: 0.1454\n",
            "Epoch: 011/015 | Batch 0200/0963 | Loss: 0.0870\n",
            "Epoch: 011/015 | Batch 0300/0963 | Loss: 0.1247\n",
            "Epoch: 011/015 | Batch 0400/0963 | Loss: 0.0362\n",
            "Epoch: 011/015 | Batch 0500/0963 | Loss: 0.0241\n",
            "Epoch: 011/015 | Batch 0600/0963 | Loss: 0.0410\n",
            "Epoch: 011/015 | Batch 0700/0963 | Loss: 0.1758\n",
            "Epoch: 011/015 | Batch 0800/0963 | Loss: 0.0783\n",
            "Epoch: 011/015 | Batch 0900/0963 | Loss: 0.0962\n",
            "Epoch: 011/015 | Train: 95.60% | Validation: 75.45%\n",
            "Time elapsed: 24.87 min\n",
            "Epoch: 012/015 | Batch 0000/0963 | Loss: 0.1201\n",
            "Epoch: 012/015 | Batch 0100/0963 | Loss: 0.0801\n",
            "Epoch: 012/015 | Batch 0200/0963 | Loss: 0.0681\n",
            "Epoch: 012/015 | Batch 0300/0963 | Loss: 0.1432\n",
            "Epoch: 012/015 | Batch 0400/0963 | Loss: 0.0751\n",
            "Epoch: 012/015 | Batch 0500/0963 | Loss: 0.2318\n",
            "Epoch: 012/015 | Batch 0600/0963 | Loss: 0.1549\n",
            "Epoch: 012/015 | Batch 0700/0963 | Loss: 0.0390\n",
            "Epoch: 012/015 | Batch 0800/0963 | Loss: 0.0472\n",
            "Epoch: 012/015 | Batch 0900/0963 | Loss: 0.0749\n",
            "Epoch: 012/015 | Train: 95.88% | Validation: 74.40%\n",
            "Time elapsed: 27.13 min\n",
            "Epoch: 013/015 | Batch 0000/0963 | Loss: 0.0702\n",
            "Epoch: 013/015 | Batch 0100/0963 | Loss: 0.0890\n",
            "Epoch: 013/015 | Batch 0200/0963 | Loss: 0.2081\n",
            "Epoch: 013/015 | Batch 0300/0963 | Loss: 0.0160\n",
            "Epoch: 013/015 | Batch 0400/0963 | Loss: 0.1160\n",
            "Epoch: 013/015 | Batch 0500/0963 | Loss: 0.1637\n",
            "Epoch: 013/015 | Batch 0600/0963 | Loss: 0.0876\n",
            "Epoch: 013/015 | Batch 0700/0963 | Loss: 0.2470\n",
            "Epoch: 013/015 | Batch 0800/0963 | Loss: 0.1118\n",
            "Epoch: 013/015 | Batch 0900/0963 | Loss: 0.1183\n",
            "Epoch: 013/015 | Train: 95.85% | Validation: 73.49%\n",
            "Time elapsed: 29.39 min\n",
            "Epoch: 014/015 | Batch 0000/0963 | Loss: 0.0551\n",
            "Epoch: 014/015 | Batch 0100/0963 | Loss: 0.0244\n",
            "Epoch: 014/015 | Batch 0200/0963 | Loss: 0.0508\n",
            "Epoch: 014/015 | Batch 0300/0963 | Loss: 0.1218\n",
            "Epoch: 014/015 | Batch 0400/0963 | Loss: 0.0886\n",
            "Epoch: 014/015 | Batch 0500/0963 | Loss: 0.0313\n",
            "Epoch: 014/015 | Batch 0600/0963 | Loss: 0.0957\n",
            "Epoch: 014/015 | Batch 0700/0963 | Loss: 0.0940\n",
            "Epoch: 014/015 | Batch 0800/0963 | Loss: 0.1263\n",
            "Epoch: 014/015 | Batch 0900/0963 | Loss: 0.1815\n",
            "Epoch: 014/015 | Train: 96.06% | Validation: 75.09%\n",
            "Time elapsed: 31.65 min\n",
            "Epoch: 015/015 | Batch 0000/0963 | Loss: 0.0582\n",
            "Epoch: 015/015 | Batch 0100/0963 | Loss: 0.1315\n",
            "Epoch: 015/015 | Batch 0200/0963 | Loss: 0.0314\n",
            "Epoch: 015/015 | Batch 0300/0963 | Loss: 0.1168\n",
            "Epoch: 015/015 | Batch 0400/0963 | Loss: 0.0115\n",
            "Epoch: 015/015 | Batch 0500/0963 | Loss: 0.1317\n",
            "Epoch: 015/015 | Batch 0600/0963 | Loss: 0.1701\n",
            "Epoch: 015/015 | Batch 0700/0963 | Loss: 0.1278\n",
            "Epoch: 015/015 | Batch 0800/0963 | Loss: 0.2757\n",
            "Epoch: 015/015 | Batch 0900/0963 | Loss: 0.0808\n",
            "Epoch: 015/015 | Train: 96.19% | Validation: 75.72%\n",
            "Time elapsed: 33.92 min\n",
            "Total Training Time: 33.92 min\n",
            "Test accuracy 76.33%\n"
          ]
        }
      ],
      "source": [
        "LEARNING_RATE = 0.001\n",
        "NUM_LAYERS = 3\n",
        "\n",
        "model = GRU(input_dim=len(vocab),\n",
        "             embedding_dim=EMBEDDING_DIM,\n",
        "             hidden_dim=HIDDEN_DIM,\n",
        "             output_dim=NUM_CLASSES, #5\n",
        "             num_layers=NUM_LAYERS\n",
        ")\n",
        "\n",
        "model = model.to(DEVICE)\n",
        "\n",
        "optimizer = torch.optim.Adam(model.parameters(), lr=LEARNING_RATE)\n",
        "scheduler = torch.optim.lr_scheduler.ReduceLROnPlateau(optimizer,\n",
        "                                                       factor=0.1,\n",
        "                                                       mode='max',\n",
        "                                                       verbose=True)\n",
        "\n",
        "acc_history, loss_history = train_model(\n",
        "    model=model,\n",
        "    num_epochs=NUM_EPOCHS,\n",
        "    train_loader=train_loader,\n",
        "    valid_loader=valid_loader,\n",
        "    test_loader=test_loader,\n",
        "    optimizer=optimizer,\n",
        "    device=DEVICE,\n",
        "    logging_interval=100)"
      ]
    },
    {
      "cell_type": "code",
      "execution_count": null,
      "metadata": {
        "colab": {
          "base_uri": "https://localhost:8080/",
          "height": 328
        },
        "id": "owlCfNLJfGru",
        "outputId": "a49adb46-c222-4cfe-89e8-e3e9bffdc4c4"
      },
      "outputs": [
        {
          "data": {
            "image/png": "[encoded data removed]",
            "text/plain": [
              "<Figure size 1000x500 with 2 Axes>"
            ]
          },
          "metadata": {},
          "output_type": "display_data"
        }
      ],
      "source": [
        "info_to_plot([acc_history, loss_history], NUM_EPOCHS-1)"
      ]
    },
    {
      "cell_type": "markdown",
      "metadata": {
        "id": "y09no8DCLbWo"
      },
      "source": [
        "# Part B - Train Models for Amazon Review Dataset without Two Classes\n",
        "\n",
        "*   Train the Network with Amazon Review Dataset expext classes two and four\n",
        "*   Evaluation on class two and four of Amazon Dataset\n",
        "*   Evaluation on IMDB Dataset\n",
        "\n",
        "\n"
      ]
    },
    {
      "cell_type": "code",
      "execution_count": null,
      "metadata": {
        "colab": {
          "base_uri": "https://localhost:8080/"
        },
        "id": "Q60J2tSplbKz",
        "outputId": "bcac7eef-cdd8-42b3-f78a-e5c9611c8527"
      },
      "outputs": [
        {
          "name": "stdout",
          "output_type": "stream",
          "text": [
            "['1', 'Fast cutting and good adheasive.', '4']\n"
          ]
        }
      ],
      "source": [
        "print(list(train_dp)[0])"
      ]
    },
    {
      "cell_type": "markdown",
      "metadata": {
        "id": "iQNHcyIKVDUs"
      },
      "source": [
        "## Update Train and Test Data Pipe"
      ]
    },
    {
      "cell_type": "code",
      "execution_count": null,
      "metadata": {
        "id": "qOqaU-TmnGqm"
      },
      "outputs": [],
      "source": [
        "train_dp = [data_item for data_item in train_dp if data_item[2] != '1' and data_item[2] != '3']\n",
        "valid_dp = [data_item for data_item in valid_dp if data_item[2] == '1' or data_item[2] == '3']\n",
        "test_dp = [data_item for data_item in test_dp if data_item[2] == '1' or data_item[2] == '3']"
      ]
    },
    {
      "cell_type": "code",
      "execution_count": null,
      "metadata": {
        "colab": {
          "base_uri": "https://localhost:8080/"
        },
        "id": "gQqwwRb9nJoR",
        "outputId": "14025b1a-3305-4dde-8159-bccfde4b880a"
      },
      "outputs": [
        {
          "output_type": "stream",
          "name": "stdout",
          "text": [
            "50442\n",
            "1417\n",
            "1365\n"
          ]
        }
      ],
      "source": [
        "print(len(train_dp))\n",
        "print(len(valid_dp))\n",
        "print(len(test_dp))"
      ]
    },
    {
      "cell_type": "markdown",
      "metadata": {
        "id": "vuPGWnH9VXkR"
      },
      "source": [
        "## Build the New Vocab"
      ]
    },
    {
      "cell_type": "code",
      "execution_count": null,
      "metadata": {
        "id": "dFE2kR2c2Aib"
      },
      "outputs": [],
      "source": [
        "vocab = get_vocab(train_dp)\n",
        "PADDING_VALUE=vocab['<PAD>']\n",
        "vocab_itos = vocab.get_itos()\n",
        "vec_vocab_itos = np.vectorize(lambda x: vocab_itos[x])\n",
        "text_transform = lambda x: [vocab[token] for token in tokenizer(x)]\n",
        "label_transform = lambda x: int(x)"
      ]
    },
    {
      "cell_type": "markdown",
      "metadata": {
        "id": "W5ajR0p2Vq2n"
      },
      "source": [
        "## Data Loader"
      ]
    },
    {
      "cell_type": "code",
      "execution_count": null,
      "metadata": {
        "id": "d3F_LmswruTg"
      },
      "outputs": [],
      "source": [
        "train_loader = DataLoader(train_dp,\n",
        "                          batch_sampler=BatchSamplerSimilarLength(dataset = train_dp,\n",
        "                                                                  batch_size=BATCH_SIZE),\n",
        "                          collate_fn=collate_batch)\n",
        "valid_loader = DataLoader(valid_dp,\n",
        "                          batch_sampler=BatchSamplerSimilarLength(dataset = valid_dp,\n",
        "                                                                  batch_size=BATCH_SIZE,\n",
        "                                                                  shuffle=False),\n",
        "                          collate_fn=collate_batch)\n",
        "test_loader = DataLoader(test_dp,\n",
        "                          batch_sampler=BatchSamplerSimilarLength(dataset = test_dp,\n",
        "                                                                  batch_size=BATCH_SIZE,\n",
        "                                                                  shuffle=False),\n",
        "                          collate_fn=collate_batch)"
      ]
    },
    {
      "cell_type": "code",
      "execution_count": null,
      "metadata": {
        "colab": {
          "base_uri": "https://localhost:8080/"
        },
        "id": "fb0UsPCDxF0j",
        "outputId": "bfe4ba84-e4ab-45f7-f9c2-3d79a6e78210"
      },
      "outputs": [
        {
          "output_type": "stream",
          "name": "stdout",
          "text": [
            "torch.Size([271, 64])\n",
            "torch.Size([64])\n"
          ]
        }
      ],
      "source": [
        "text_batch, label_batch = next(iter(train_loader))\n",
        "print(text_batch.size())\n",
        "print(label_batch.size())"
      ]
    },
    {
      "cell_type": "code",
      "execution_count": null,
      "metadata": {
        "colab": {
          "base_uri": "https://localhost:8080/"
        },
        "id": "PhGGQbOb1WCa",
        "outputId": "453129e9-579e-41c9-eec2-8a12efe09d13"
      },
      "outputs": [
        {
          "output_type": "stream",
          "name": "stdout",
          "text": [
            "Train\n",
            "Text matrix size: torch.Size([702, 64])\n",
            "Target vector size: torch.Size([64])\n",
            "\n",
            "Valid:\n",
            "Text matrix size: torch.Size([804, 64])\n",
            "Target vector size: torch.Size([64])\n",
            "\n",
            "Test:\n",
            "Text matrix size: torch.Size([262, 64])\n",
            "Target vector size: torch.Size([64])\n"
          ]
        }
      ],
      "source": [
        "print('Train')\n",
        "for text_batch, label_batch in train_loader:\n",
        "    print(f'Text matrix size: {text_batch.size()}')\n",
        "    print(f'Target vector size: {label_batch.size()}')\n",
        "    break\n",
        "\n",
        "print('\\nValid:')\n",
        "for text_batch, label_batch in valid_loader:\n",
        "    print(f'Text matrix size: {text_batch.size()}')\n",
        "    print(f'Target vector size: {label_batch.size()}')\n",
        "    break\n",
        "\n",
        "print('\\nTest:')\n",
        "for text_batch, label_batch in test_loader:\n",
        "    print(f'Text matrix size: {text_batch.size()}')\n",
        "    print(f'Target vector size: {label_batch.size()}')\n",
        "    break"
      ]
    },
    {
      "cell_type": "markdown",
      "metadata": {
        "id": "0-ZgTRV20lNv"
      },
      "source": [
        "## Train Model"
      ]
    },
    {
      "cell_type": "code",
      "execution_count": null,
      "metadata": {
        "colab": {
          "base_uri": "https://localhost:8080/"
        },
        "id": "sHMrY-d9t8x0",
        "outputId": "8b662e98-5718-46c1-86a0-ed47cb2fc8df"
      },
      "outputs": [
        {
          "output_type": "stream",
          "name": "stdout",
          "text": [
            "Epoch: 001/004 | Batch 0000/0788 | Loss: 1.5838\n",
            "Epoch: 001/004 | Batch 0100/0788 | Loss: 0.5874\n",
            "Epoch: 001/004 | Batch 0200/0788 | Loss: 0.3892\n",
            "Epoch: 001/004 | Batch 0300/0788 | Loss: 0.3885\n",
            "Epoch: 001/004 | Batch 0400/0788 | Loss: 0.2156\n",
            "Epoch: 001/004 | Batch 0500/0788 | Loss: 0.1847\n",
            "Epoch: 001/004 | Batch 0600/0788 | Loss: 0.4333\n",
            "Epoch: 001/004 | Batch 0700/0788 | Loss: 0.4881\n",
            "Epoch: 001/004 | Train: 89.19% | Validation: 0.00%\n",
            "Time elapsed: 1.19 min\n",
            "Epoch: 002/004 | Batch 0000/0788 | Loss: 0.4337\n",
            "Epoch: 002/004 | Batch 0100/0788 | Loss: 0.2852\n",
            "Epoch: 002/004 | Batch 0200/0788 | Loss: 0.2096\n",
            "Epoch: 002/004 | Batch 0300/0788 | Loss: 0.2020\n",
            "Epoch: 002/004 | Batch 0400/0788 | Loss: 0.1105\n",
            "Epoch: 002/004 | Batch 0500/0788 | Loss: 0.3155\n",
            "Epoch: 002/004 | Batch 0600/0788 | Loss: 0.1330\n",
            "Epoch: 002/004 | Batch 0700/0788 | Loss: 0.1270\n",
            "Epoch: 002/004 | Train: 91.97% | Validation: 0.00%\n",
            "Time elapsed: 2.42 min\n",
            "Epoch: 003/004 | Batch 0000/0788 | Loss: 0.1599\n",
            "Epoch: 003/004 | Batch 0100/0788 | Loss: 0.1176\n",
            "Epoch: 003/004 | Batch 0200/0788 | Loss: 0.0652\n",
            "Epoch: 003/004 | Batch 0300/0788 | Loss: 0.2223\n",
            "Epoch: 003/004 | Batch 0400/0788 | Loss: 0.1040\n",
            "Epoch: 003/004 | Batch 0500/0788 | Loss: 0.0811\n",
            "Epoch: 003/004 | Batch 0600/0788 | Loss: 0.1429\n",
            "Epoch: 003/004 | Batch 0700/0788 | Loss: 0.1543\n",
            "Epoch: 003/004 | Train: 94.42% | Validation: 0.00%\n",
            "Time elapsed: 3.64 min\n",
            "Epoch: 004/004 | Batch 0000/0788 | Loss: 0.0397\n",
            "Epoch: 004/004 | Batch 0100/0788 | Loss: 0.0579\n",
            "Epoch: 004/004 | Batch 0200/0788 | Loss: 0.0567\n",
            "Epoch: 004/004 | Batch 0300/0788 | Loss: 0.2092\n",
            "Epoch: 004/004 | Batch 0400/0788 | Loss: 0.1202\n",
            "Epoch: 004/004 | Batch 0500/0788 | Loss: 0.1119\n",
            "Epoch: 004/004 | Batch 0600/0788 | Loss: 0.0983\n",
            "Epoch: 004/004 | Batch 0700/0788 | Loss: 0.0950\n",
            "Epoch: 004/004 | Train: 96.57% | Validation: 0.00%\n",
            "Time elapsed: 4.86 min\n",
            "Total Training Time: 4.86 min\n",
            "Test accuracy 0.00%\n"
          ]
        }
      ],
      "source": [
        "LEARNING_RATE = 0.001\n",
        "NUM_LAYERS = 2\n",
        "NUM_EPOCHS = 4\n",
        "\n",
        "\n",
        "model = GRU(input_dim=len(vocab),\n",
        "             embedding_dim=EMBEDDING_DIM,\n",
        "             hidden_dim=HIDDEN_DIM,\n",
        "             output_dim=NUM_CLASSES, #5\n",
        "             num_layers=NUM_LAYERS\n",
        ")\n",
        "\n",
        "model = model.to(DEVICE)\n",
        "\n",
        "optimizer = torch.optim.Adam(model.parameters(), lr=LEARNING_RATE)\n",
        "scheduler = torch.optim.lr_scheduler.ReduceLROnPlateau(optimizer,\n",
        "                                                       factor=0.1,\n",
        "                                                       mode='max',\n",
        "                                                       verbose=True)\n",
        "\n",
        "acc_history, loss_history = train_model(\n",
        "    model=model,\n",
        "    num_epochs=NUM_EPOCHS,\n",
        "    train_loader=train_loader,\n",
        "    valid_loader=valid_loader,\n",
        "    test_loader=test_loader,\n",
        "    optimizer=optimizer,\n",
        "    device=DEVICE,\n",
        "    logging_interval=100,\n",
        "    save_model=True)"
      ]
    },
    {
      "cell_type": "markdown",
      "metadata": {
        "id": "lyD4Rjl-WzPo"
      },
      "source": [
        "## Results"
      ]
    },
    {
      "cell_type": "code",
      "execution_count": null,
      "metadata": {
        "colab": {
          "base_uri": "https://localhost:8080/",
          "height": 416
        },
        "id": "TJRg9WjV60ny",
        "outputId": "62ca5cec-1aa7-420d-e19f-d46bd921bea6"
      },
      "outputs": [
        {
          "output_type": "display_data",
          "data": {
            "text/plain": [
              "<Figure size 1000x500 with 2 Axes>"
            ],
            "image/png": "[encoded data removed]"
          },
          "metadata": {}
        }
      ],
      "source": [
        "info_to_plot([acc_history, loss_history], NUM_EPOCHS-1)"
      ]
    },
    {
      "cell_type": "markdown",
      "metadata": {
        "id": "KsGSZz_VcA3U"
      },
      "source": [
        "# Part B - Evaluation on the IMDB Dataset"
      ]
    },
    {
      "cell_type": "markdown",
      "metadata": {
        "id": "nemdWJvLdu3m"
      },
      "source": [
        "## Load Model"
      ]
    },
    {
      "cell_type": "code",
      "execution_count": null,
      "metadata": {
        "colab": {
          "base_uri": "https://localhost:8080/"
        },
        "id": "A5ydv_v1hIby",
        "outputId": "9f2b88c0-a74a-4cba-91b9-1947c450a123"
      },
      "outputs": [
        {
          "output_type": "stream",
          "name": "stdout",
          "text": [
            "Epoch Number: 3\n",
            "Test Accuracy:  0.0\n"
          ]
        }
      ],
      "source": [
        "model_checkpoint_path = '/content/drive/MyDrive/Neural_Network/HW5/saved_models/model_best_accuracy.pt'\n",
        "checkpoint = torch.load(model_checkpoint_path, map_location=torch.device(DEVICE))\n",
        "\n",
        "epoch_num = checkpoint['epoch']\n",
        "accuracy = checkpoint['accuracy']\n",
        "NUM_LAYERS = 2\n",
        "model = GRU(input_dim=len(vocab),\n",
        "             embedding_dim=EMBEDDING_DIM,\n",
        "             hidden_dim=HIDDEN_DIM,\n",
        "             output_dim=NUM_CLASSES, #5\n",
        "             num_layers=NUM_LAYERS\n",
        ")\n",
        "\n",
        "print(\"Epoch Number:\", epoch_num)\n",
        "print(\"Test Accuracy: \", accuracy)"
      ]
    },
    {
      "cell_type": "markdown",
      "metadata": {
        "id": "1XbFrDU6hBux"
      },
      "source": [
        "## Load Dataset"
      ]
    },
    {
      "cell_type": "code",
      "execution_count": null,
      "metadata": {
        "id": "UhAyPhDJcRS4"
      },
      "outputs": [],
      "source": [
        "datapipe = IterableWrapper([\"IMDB Dataset.csv\"])\n",
        "datapipe = FileOpener(datapipe, mode='b')\n",
        "datapipe = datapipe.parse_csv(skip_lines=1)"
      ]
    },
    {
      "cell_type": "code",
      "execution_count": null,
      "metadata": {
        "colab": {
          "base_uri": "https://localhost:8080/"
        },
        "id": "8yFBsrzzdLL5",
        "outputId": "d0af1639-1db2-440b-e590-ed0841dbe5fa"
      },
      "outputs": [
        {
          "output_type": "stream",
          "name": "stdout",
          "text": [
            "[\"One of the other reviewers has mentioned that after watching just 1 Oz episode you'll be hooked. They are right, as this is exactly what happened with me.<br /><br />The first thing that struck me about Oz was its brutality and unflinching scenes of violence, which set in right from the word GO. Trust me, this is not a show for the faint hearted or timid. This show pulls no punches with regards to drugs, sex or violence. Its is hardcore, in the classic use of the word.<br /><br />It is called OZ as that is the nickname given to the Oswald Maximum Security State Penitentary. It focuses mainly on Emerald City, an experimental section of the prison where all the cells have glass fronts and face inwards, so privacy is not high on the agenda. Em City is home to many..Aryans, Muslims, gangstas, Latinos, Christians, Italians, Irish and more....so scuffles, death stares, dodgy dealings and shady agreements are never far away.<br /><br />I would say the main appeal of the show is due to the fact that it goes where other shows wouldn't dare. Forget pretty pictures painted for mainstream audiences, forget charm, forget romance...OZ doesn't mess around. The first episode I ever saw struck me as so nasty it was surreal, I couldn't say I was ready for it, but as I watched more, I developed a taste for Oz, and got accustomed to the high levels of graphic violence. Not just violence, but injustice (crooked guards who'll be sold out for a nickel, inmates who'll kill on order and get away with it, well mannered, middle class inmates being turned into prison bitches due to their lack of street skills or prison experience) Watching Oz, you may become comfortable with what is uncomfortable viewing....thats if you can get in touch with your darker side.\", 'positive']\n"
          ]
        }
      ],
      "source": [
        "print(list(datapipe)[0])"
      ]
    },
    {
      "cell_type": "code",
      "execution_count": null,
      "metadata": {
        "colab": {
          "base_uri": "https://localhost:8080/"
        },
        "id": "imB7Ar5PBuCq",
        "outputId": "3facdd4f-06a7-42f5-8dbd-ee0f4b6276b0"
      },
      "outputs": [
        {
          "output_type": "stream",
          "name": "stdout",
          "text": [
            "50000\n",
            "Num Train: 45000\n",
            "Num Test: 5000\n"
          ]
        }
      ],
      "source": [
        "# Get the number of rows in dataset\n",
        "N_ROWS = len(list(datapipe))\n",
        "print(N_ROWS)\n",
        "\n",
        "# Split into training and val datapipes early on. Will build vocabulary from training datapipe only.\n",
        "train_dp, test_dp = datapipe.random_split(total_length=N_ROWS, weights={\"train\": 0.9, \"test\": 0.1}, seed=0)\n",
        "print(f'Num Train: {len(list(train_dp))}')\n",
        "print(f'Num Test: {len(list(test_dp))}')"
      ]
    },
    {
      "cell_type": "code",
      "execution_count": null,
      "metadata": {
        "id": "mDXuyPRtM8XV"
      },
      "outputs": [],
      "source": [
        "# Based on tutorial at https://www.youtube.com/watch?v=CrS-LFXEiyk\n",
        "tokenizer = get_tokenizer(tokenizer='spacy', language='en_core_web_sm')\n",
        "\n",
        "def yield_tokens(data_iter):\n",
        "    for text , _ in data_iter:\n",
        "        yield tokenizer(text)\n",
        "\n",
        "def get_vocab(train_datapipe):\n",
        "    vocab = build_vocab_from_iterator(yield_tokens(train_datapipe), specials=[\"<UNK>\", \"<PAD>\"], max_tokens=VOCABULARY_SIZE)\n",
        "    vocab.set_default_index(vocab[\"<UNK>\"])\n",
        "    return vocab"
      ]
    },
    {
      "cell_type": "code",
      "execution_count": null,
      "metadata": {
        "id": "UmUN-vTeOcEb"
      },
      "outputs": [],
      "source": [
        "vocab = get_vocab(test_dp)\n",
        "PADDING_VALUE=vocab['<PAD>']\n",
        "\n",
        "text_transform = lambda x: [vocab[token] for token in tokenizer(x)]\n",
        "# Define label_transform of the IMDB Dataset as \"negative\" = 0 & \"positive\" = 1\n",
        "label_transform = lambda x: 0 if x == 'negative' else 1"
      ]
    },
    {
      "cell_type": "code",
      "execution_count": null,
      "metadata": {
        "id": "EOVJTweNMGnF"
      },
      "outputs": [],
      "source": [
        "vocab_itos = vocab.get_itos()\n",
        "vec_vocab_itos = np.vectorize(lambda x: vocab_itos[x])"
      ]
    },
    {
      "cell_type": "code",
      "execution_count": null,
      "metadata": {
        "id": "NVMUzc7jCdZI"
      },
      "outputs": [],
      "source": [
        "def collate_batch(batch):\n",
        "   text_list, label_list = [], []\n",
        "   for (_text, _label) in batch:\n",
        "        processed_text = torch.tensor(text_transform(_text))\n",
        "        text_list.append(processed_text)\n",
        "        label_list.append(label_transform(_label))\n",
        "   return pad_sequence(text_list, padding_value=PADDING_VALUE).to(DEVICE), torch.tensor(label_list).to(DEVICE)"
      ]
    },
    {
      "cell_type": "code",
      "execution_count": null,
      "metadata": {
        "id": "EDLanMfEPW4z"
      },
      "outputs": [],
      "source": [
        "class BatchSamplerSimilarLength(Sampler):\n",
        "    def __init__(self, dataset, batch_size, indices=None, shuffle=True):\n",
        "        self.batch_size = batch_size\n",
        "        self.shuffle = shuffle\n",
        "        self.indices = [(i, len(tokenizer(s[0]))) for i, s in enumerate(dataset)]\n",
        "        if indices is not None:\n",
        "            self.indices = torch.tensor(self.indices)[indices].tolist()\n",
        "\n",
        "    def __iter__(self):\n",
        "        if self.shuffle:\n",
        "            random.shuffle(self.indices)\n",
        "\n",
        "        pooled_indices = []\n",
        "        # create pool of indices with similar lengths\n",
        "        for i in range(0, len(self.indices), self.batch_size * 100):\n",
        "          pooled_indices.extend(sorted(self.indices[i:i + self.batch_size * 100], key=lambda x: x[1]))\n",
        "        self.pooled_indices = [x[0] for x in pooled_indices]\n",
        "\n",
        "        # yield indices for current batch\n",
        "        batches = [self.pooled_indices[i:i + self.batch_size] for i in\n",
        "                   range(0, len(self.pooled_indices), self.batch_size)]\n",
        "\n",
        "        if self.shuffle:\n",
        "            random.shuffle(batches)\n",
        "        for batch in batches:\n",
        "            yield batch\n",
        "\n",
        "    def __len__(self):\n",
        "        return len(self.pooled_indices) // self.batch_size"
      ]
    },
    {
      "cell_type": "code",
      "execution_count": null,
      "metadata": {
        "id": "a9FIIh9v_EAQ"
      },
      "outputs": [],
      "source": [
        "BATCH_SIZE = 30\n",
        "test_dp = list(test_dp)\n",
        "test_loader = DataLoader(test_dp,\n",
        "                          batch_sampler=BatchSamplerSimilarLength(dataset = test_dp,\n",
        "                                                                  batch_size=BATCH_SIZE,\n",
        "                                                                  shuffle=True),\n",
        "                          collate_fn=collate_batch)"
      ]
    },
    {
      "cell_type": "markdown",
      "metadata": {
        "id": "homKYKiBTLXM"
      },
      "source": [
        "## Test on IMDB Dataset"
      ]
    },
    {
      "cell_type": "code",
      "execution_count": null,
      "metadata": {
        "colab": {
          "base_uri": "https://localhost:8080/"
        },
        "id": "FsLcpOkxAEFK",
        "outputId": "60f5b3e4-83d2-42e2-c109-c55661173e58"
      },
      "outputs": [
        {
          "output_type": "stream",
          "name": "stdout",
          "text": [
            "[0, 0, 1, 1, 0, 1, 0, 1, 1, 0, 1, 0, 0, 1, 1, 1, 1, 1, 1, 0, 0, 0, 1, 0, 1, 1, 1, 0, 0, 0]\n",
            "[4, 4, 4, 4, 4, 4, 4, 4, 4, 4, 4, 4, 4, 4, 4, 4, 4, 4, 4, 4, 4, 4, 4, 4, 3, 4, 4, 2, 0, 3]\n"
          ]
        }
      ],
      "source": [
        "device = DEVICE\n",
        "model.eval()\n",
        "model = model.to(device)\n",
        "for data, target in test_loader:\n",
        "      data = data.to(device)\n",
        "      target = target.to(device)\n",
        "      model = model.to(device)\n",
        "      output = model(data)\n",
        "      _, predicted = torch.max(output.data, 1)\n",
        "      break\n",
        "\n",
        "print(target.tolist())\n",
        "print(predicted.tolist())"
      ]
    }
  ],
  "metadata": {
    "colab": {
      "toc_visible": true,
      "provenance": []
    },
    "kernelspec": {
      "display_name": "Python 3",
      "name": "python3"
    },
    "language_info": {
      "name": "python"
    }
  },
  "nbformat": 4,
  "nbformat_minor": 0
}